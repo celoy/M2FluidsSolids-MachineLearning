{
 "cells": [
  {
   "cell_type": "markdown",
   "metadata": {},
   "source": [
    "# Getting Started with Python\n",
    "\n",
    "Notebook inspired from Mark Bakker's [page](http://mbakker7.github.io/exploratory_computing_with_python/) at TU Delft."
   ]
  },
  {
   "cell_type": "markdown",
   "metadata": {},
   "source": [
    "## First Python Steps\n",
    "\"Portable, powerful, and a breeze to use\", Python is a popular, open-source programming language used for both scripting applications and standalone programs (see \"Learning Python\" by Mark Lutz). Python can be used to do pretty much anything. For example, you can use Python as a calculator. Position your cursor in the code cell below and hit [shift][enter]. The output should be 12 (-:"
   ]
  },
  {
   "cell_type": "code",
   "execution_count": 1,
   "metadata": {},
   "outputs": [
    {
     "data": {
      "text/plain": [
       "12"
      ]
     },
     "execution_count": 1,
     "metadata": {},
     "output_type": "execute_result"
    }
   ],
   "source": [
    "6 * 2"
   ]
  },
  {
   "cell_type": "markdown",
   "metadata": {},
   "source": [
    "Note that the extra spaces are added to make the code more readable. \n",
    "`2 * 3` works just as well as `2*3`. And it is considered good style. Use the extra spaces in all your Notebooks.\n",
    "\n",
    "When you are programming, you want to store your values in variables"
   ]
  },
  {
   "cell_type": "code",
   "execution_count": 2,
   "metadata": {},
   "outputs": [
    {
     "data": {
      "text/plain": [
       "12"
      ]
     },
     "execution_count": 2,
     "metadata": {},
     "output_type": "execute_result"
    }
   ],
   "source": [
    "a = 6\n",
    "b = 2\n",
    "a * b"
   ]
  },
  {
   "cell_type": "markdown",
   "metadata": {},
   "source": [
    "Both `a` and `b` are now variables. Each variable has a type. In this case, they are both integers (whole numbers). To write the value of a variable to the screen, use the `print` function (the last statement of a code cell is automatically printed to the screen if it is not stored in a variable, as was shown above). Note that multiplication of two integers results in an integer, but division of two integers results in a float (a number with decimal places). "
   ]
  },
  {
   "cell_type": "code",
   "execution_count": 3,
   "metadata": {},
   "outputs": [
    {
     "name": "stdout",
     "output_type": "stream",
     "text": [
      "6\n",
      "2\n",
      "12\n",
      "3.0\n"
     ]
    }
   ],
   "source": [
    "print(a)\n",
    "print(b)\n",
    "print(a * b)\n",
    "print(a / b)"
   ]
  },
  {
   "cell_type": "markdown",
   "metadata": {},
   "source": [
    "You can add some text to the `print` function by putting the text string between quotes (either single or double quotes work as long as you use the same at the beginning and end), and separate the text string and the variable by a comma"
   ]
  },
  {
   "cell_type": "code",
   "execution_count": 4,
   "metadata": {},
   "outputs": [
    {
     "name": "stdout",
     "output_type": "stream",
     "text": [
      "the value of a is 6\n"
     ]
    }
   ],
   "source": [
    "print('the value of a is', a)"
   ]
  },
  {
   "cell_type": "markdown",
   "metadata": {},
   "source": [
    "A variable can be raised to a power by using `**` \n",
    "(a hat `^`, as used in some other languages, doesn't work)."
   ]
  },
  {
   "cell_type": "code",
   "execution_count": 5,
   "metadata": {},
   "outputs": [
    {
     "data": {
      "text/plain": [
       "36"
      ]
     },
     "execution_count": 5,
     "metadata": {},
     "output_type": "execute_result"
    }
   ],
   "source": [
    "a ** b"
   ]
  },
  {
   "cell_type": "markdown",
   "metadata": {},
   "source": [
    "### Exercise 1. First Python code\n",
    "Compute the value of the polynomial $y=ax^2+bx+c$ at $x=-2$, $x=0$, and $x=2.1$ using $a=1$, $b=1$, $c=-6$ and print the results to the screen."
   ]
  },
  {
   "cell_type": "code",
   "execution_count": 6,
   "metadata": {},
   "outputs": [
    {
     "name": "stdout",
     "output_type": "stream",
     "text": [
      "y1 =  -6\n",
      "y2 =  0.5099999999999998\n"
     ]
    }
   ],
   "source": [
    "x1 = 0\n",
    "x2 = 2.1\n",
    "a = 1\n",
    "b = 1\n",
    "c = -6\n",
    "\n",
    "y1 = a*x1**2 + b*x1 + c\n",
    "y2 = a*x2**2 + b*x2 + c\n",
    "\n",
    "print('y1 = ', y1)\n",
    "print('y2 = ', y2)"
   ]
  },
  {
   "cell_type": "markdown",
   "metadata": {},
   "source": [
    "## Formatting numbers"
   ]
  },
  {
   "cell_type": "code",
   "execution_count": 26,
   "metadata": {},
   "outputs": [
    {
     "name": "stdout",
     "output_type": "stream",
     "text": [
      "1 divided by 3 gives 0.333333\n",
      "1 divided by 3 gives 0.333333\n",
      "1 divided by 3 gives 0.333333\n"
     ]
    }
   ],
   "source": [
    "a = 1\n",
    "b = 3\n",
    "c = a / b\n",
    "print('%d divided by %d gives %f' % (a, b, c))            # old formatting (d: decimal integer, f: fixed-point notation, s: string, etc.)\n",
    "print('{:d} divided by {:d} gives {:f}'.format(a, b, c))  # new formatting\n",
    "print(f'{a:d} divided by {b:d} gives {c:f}')              # f strings"
   ]
  },
  {
   "cell_type": "markdown",
   "metadata": {},
   "source": [
    "The complete syntax for fixed-point notation is `{:width.precision f}`. When `width` and `precision` are not specified, Python will use all digits and figure out the width for you. If you want a floating point number with 3 decimals, you specify the number of digits, `3`, followed by the letter `f` for floating point (you can still let Python figure out the width by not specifying it). If you prefer exponent (scientific) notation, replace the `f` by an `e`. The text after the `#` is a comment in the code. Any text on the line after the `#` is ignored by Python. More on that [here](https://docs.python.org/3/library/string.html#string-formatting). "
   ]
  },
  {
   "cell_type": "code",
   "execution_count": 12,
   "metadata": {},
   "outputs": [
    {
     "name": "stdout",
     "output_type": "stream",
     "text": [
      "1 divided by 3 gives 0.333\n",
      "1 divided by 3 gives      0.333\n",
      "1 divided by 3 gives 3.333e-01\n"
     ]
    }
   ],
   "source": [
    "print('{} divided by {} gives {:.3f}'.format(a, b, c))   # three decimal places\n",
    "print('{} divided by {} gives {:10.3f}'.format(a, b, c)) # width 10 and three decimal places\n",
    "print('{} divided by {} gives {:.3e}'.format(a, b, c))   # three decimal places scientific notation"
   ]
  },
  {
   "cell_type": "markdown",
   "metadata": {},
   "source": [
    "### Exercise 2. Python code using string-formatting\n",
    "Compute the value of the polynomial $y=ax^2+bx+c$ at $x=-2$, $x=0$, and $x=2.1$ using $a=1$, $b=1$, $c=-6$ and print the results to the screen using 2 decimal places."
   ]
  },
  {
   "cell_type": "code",
   "execution_count": 29,
   "metadata": {},
   "outputs": [
    {
     "name": "stdout",
     "output_type": "stream",
     "text": [
      "y1 = -6.00, y2 = 0.51\n"
     ]
    }
   ],
   "source": [
    "x1 = 0\n",
    "x2 = 2.1\n",
    "a = 1\n",
    "b = 1\n",
    "c = -6\n",
    "\n",
    "y1 = a*x1**2 + b*x1 + c\n",
    "y2 = a*x2**2 + b*x2 + c\n",
    "\n",
    "print('y1 = {:.2f}, y2 = {:.2f}'.format(y1, y2))"
   ]
  },
  {
   "cell_type": "markdown",
   "metadata": {},
   "source": [
    "## Lists, tuples, sets and dictionnaries\n",
    "\n",
    "List, Tuple, Set, and Dictionary are the data structures in python that are used to store and organize the data in an efficient manner.\n",
    "\n",
    "**Lists:** are just like dynamic sized arrays, declared in other languages (vector in C++ and ArrayList in Java). Lists need not be homogeneous always which makes it a most powerful tool in Python.\n",
    "\n",
    "**Tuple:** A Tuple is a collection of Python objects separated by commas. In someways a tuple is similar to a list in terms of indexing, nested objects and repetition but a tuple is immutable unlike lists that are mutable.\n",
    "\n",
    "**Set:** A Set is an unordered collection data type that is iterable, mutable and has no duplicate elements. Python’s set class represents the mathematical notion of a set.\n",
    "\n",
    "**Dictionary:** in Python is an unordered collection of data values, used to store data values like a map, which unlike other Data Types that hold only single value as an element, Dictionary holds key:value pair. Key value is provided in the dictionary to make it more optimized."
   ]
  },
  {
   "cell_type": "markdown",
   "metadata": {},
   "source": [
    "### Lists"
   ]
  },
  {
   "cell_type": "code",
   "execution_count": 40,
   "metadata": {},
   "outputs": [
    {
     "name": "stdout",
     "output_type": "stream",
     "text": [
      "Adding elements to a list [5, 'ten', 0.3, [1, 2, 3], 'bazinga']\n",
      "Popped one element from list [5, 'ten', 0.3, [1, 2, 3]]\n",
      "Element 0: 5\n",
      "Element up to 3: [5, 'ten', 0.3]\n",
      "list can be added [5, 'ten', 5, 'ten', 0.3]\n"
     ]
    }
   ],
   "source": [
    "# Creating an empty list\n",
    "l = []\n",
    "\n",
    "# Adding elements into a list\n",
    "l.append(5)\n",
    "l.append('ten')\n",
    "l.extend([.3, [1, 2, 3], 'bazinga'])\n",
    "print(\"Adding elements to a list\", l)\n",
    "\n",
    "# Popping elements from list\n",
    "l.pop()\n",
    "print(\"Popped one element from list\", l)\n",
    "\n",
    "# Accessing elements from a list\n",
    "print(\"Element 0:\", l[0])\n",
    "print(\"Element up to 3:\", l[:3])\n",
    "print(\"list can be added\", l[:2] + l[:3])"
   ]
  },
  {
   "cell_type": "markdown",
   "metadata": {},
   "source": [
    "### Sets"
   ]
  },
  {
   "cell_type": "code",
   "execution_count": 43,
   "metadata": {},
   "outputs": [
    {
     "name": "stdout",
     "output_type": "stream",
     "text": [
      "Adding 5 and 10 in set {10, 5}\n",
      "Removing 5 from set {10}\n"
     ]
    }
   ],
   "source": [
    "# Creating an empty set\n",
    "s = set()\n",
    "\n",
    "# Adding element into set\n",
    "s.add(5)\n",
    "s.add(10)\n",
    "s.add(10)\n",
    "print(\"Adding 5 and 10 in set\", s)\n",
    "\n",
    "# Removing element from set\n",
    "s.remove(5)\n",
    "print(\"Removing 5 from set\", s)"
   ]
  },
  {
   "cell_type": "markdown",
   "metadata": {},
   "source": [
    "### Tuples"
   ]
  },
  {
   "cell_type": "code",
   "execution_count": 49,
   "metadata": {},
   "outputs": [
    {
     "name": "stdout",
     "output_type": "stream",
     "text": [
      "Tuple (5, 'ten', 0.3, [1, 2, 3])\n",
      "List [5, 'ten', 0.3, [1, 2, 3]]\n"
     ]
    }
   ],
   "source": [
    "# Convert a list into a tuple\n",
    "t = tuple(l)\n",
    "\n",
    "# Tuples are immutable\n",
    "print(\"Tuple\", t)\n",
    "\n",
    "# Tuples can be converted to list\n",
    "print(\"List\", list(t))"
   ]
  },
  {
   "cell_type": "markdown",
   "metadata": {},
   "source": [
    "### Dictionnaries"
   ]
  },
  {
   "cell_type": "code",
   "execution_count": 55,
   "metadata": {},
   "outputs": [
    {
     "name": "stdout",
     "output_type": "stream",
     "text": [
      "Dictionary {5: 'Five', 'Ten': 10}\n",
      "Dictionary {5: 'Five'}\n"
     ]
    }
   ],
   "source": [
    "# Creating an empty dictionary\n",
    "d = {}\n",
    "\n",
    "# Adding the key value pair\n",
    "d[5] = \"Five\"\n",
    "d[\"Ten\"] = 10\n",
    "print(\"Dictionary\", d)\n",
    "\n",
    "# Removing key-value pair\n",
    "del d[\"Ten\"]\n",
    "print(\"Dictionary\", d)"
   ]
  },
  {
   "cell_type": "markdown",
   "metadata": {},
   "source": [
    "### Exercise 3. Working with lists and sets\n",
    "- Print the first 3 elements of the list `mylist`\n",
    "- Remove the last element of `mylist`\n",
    "- Convert `mylist` to a set. How many unique elements contains this set?"
   ]
  },
  {
   "cell_type": "code",
   "execution_count": 70,
   "metadata": {},
   "outputs": [],
   "source": [
    "mylist = [0, 1, 2, 3, 4, 5, 4., 3., 2., 1., 0.]"
   ]
  },
  {
   "cell_type": "code",
   "execution_count": 71,
   "metadata": {},
   "outputs": [
    {
     "name": "stdout",
     "output_type": "stream",
     "text": [
      "first three elements of mylist:  [0, 1, 2]\n",
      "popped the element 0.0 from mylist\n",
      "the set contains 6 unique elements\n"
     ]
    }
   ],
   "source": [
    "print('first three elements of mylist: ', mylist[:3])\n",
    "print(f'popped the element {mylist.pop(-1)} from mylist')\n",
    "setlist = set(mylist)\n",
    "print(f'the set contains {len(setlist)} unique elements')"
   ]
  },
  {
   "cell_type": "markdown",
   "metadata": {},
   "source": [
    "## Loops and `if` statements\n",
    "### The `for` loop\n",
    "Loops are used to execute a command repeatedly. The syntax for a loop is as follows"
   ]
  },
  {
   "cell_type": "code",
   "execution_count": 73,
   "metadata": {},
   "outputs": [
    {
     "name": "stdout",
     "output_type": "stream",
     "text": [
      "The value of i is 0\n",
      "The value of i is 1\n",
      "The value of i is 2\n",
      "The value of i is 3\n",
      "The value of i is 4\n"
     ]
    }
   ],
   "source": [
    "for i in [0, 1, 2, 3, 4]:\n",
    "    print('The value of i is', i)"
   ]
  },
  {
   "cell_type": "markdown",
   "metadata": {},
   "source": [
    "In the code above, the variable `i` loops through the five values in the list `[0, 1, 2, 3, 4]`. The first time through, the value of `i` is equal to `0`, the second time through, its value is `1`, and so on till the last time when its value is `4`. Note the syntax of a `for` loop: At the end of the `for` statement you need to put a colon (`:`) and after that you need to indent. It doesn't matter how many spaces you **indent**, as long as you keep using the same number of spaces for the entire `for` loop. Jupyter Notebooks automatically indent 4 spaces, which is considered good Python style, so use that. You can have as many lines of code inside the `for` loop as you want. To end the `for` loop, simply stop indenting. "
   ]
  },
  {
   "cell_type": "code",
   "execution_count": 74,
   "metadata": {},
   "outputs": [
    {
     "name": "stdout",
     "output_type": "stream",
     "text": [
      "x, xsquare 0 0\n",
      "x, xsquare 1 1\n",
      "x, xsquare 2 4\n",
      "x, xsquare 3 9\n",
      "We are done with the loop\n"
     ]
    }
   ],
   "source": [
    "for x in [0, 1, 2, 3]: \n",
    "    xsquared = x ** 2\n",
    "    print('x, xsquare', x, xsquared)\n",
    "print('We are done with the loop')"
   ]
  },
  {
   "cell_type": "markdown",
   "metadata": {},
   "source": [
    "The list of values to loop through can be anything. It doesn't even have to be numbers. The `for` loop simply goes through all the values in the list one by one:"
   ]
  },
  {
   "cell_type": "code",
   "execution_count": 75,
   "metadata": {},
   "outputs": [
    {
     "name": "stdout",
     "output_type": "stream",
     "text": [
      "the value of data is: 20\n",
      "the value of data is: mark\n",
      "the value of data is: 3.14159\n"
     ]
    }
   ],
   "source": [
    "for data in [20, 'mark', 3.14159]:\n",
    "    print('the value of data is:', data)"
   ]
  },
  {
   "cell_type": "markdown",
   "metadata": {},
   "source": [
    "It is, of course, rather inconvenient to have to specify a list to loop through when the list is very long. For example, if you want to do something 100 times, you don't want to type a list of values from 0 up to 100. But Python has a convenient function for that called `range`. You can loop through a `range` just like you can loop through a list. To loop 10 times, starting with the value `0`:"
   ]
  },
  {
   "cell_type": "code",
   "execution_count": 76,
   "metadata": {},
   "outputs": [
    {
     "name": "stdout",
     "output_type": "stream",
     "text": [
      "the value of i is: 0\n",
      "the value of i is: 1\n",
      "the value of i is: 2\n",
      "the value of i is: 3\n",
      "the value of i is: 4\n",
      "the value of i is: 5\n",
      "the value of i is: 6\n",
      "the value of i is: 7\n",
      "the value of i is: 8\n",
      "the value of i is: 9\n"
     ]
    }
   ],
   "source": [
    "for i in range(10):\n",
    "    print('the value of i is:', i)"
   ]
  },
  {
   "cell_type": "markdown",
   "metadata": {},
   "source": [
    "A `range` can be converted to a list with the `list` function (but we will not use that option very often). You can call `range` with just one argument, in which case it will generate a range from 0 up to but not including the specified number. Note that `range(10)` produces 10 numbers from 0 up to and including 9. You can optionally give a starting value and a step, similar to the `np.arange` function."
   ]
  },
  {
   "cell_type": "code",
   "execution_count": 77,
   "metadata": {},
   "outputs": [
    {
     "name": "stdout",
     "output_type": "stream",
     "text": [
      "a range with 10 values: [0, 1, 2, 3, 4, 5, 6, 7, 8, 9]\n",
      "a range from 10 till 20 [10, 11, 12, 13, 14, 15, 16, 17, 18, 19]\n",
      "a range from 10 till 20 with steps of 2: [10, 12, 14, 16, 18]\n"
     ]
    }
   ],
   "source": [
    "print('a range with 10 values:', list(range(10)))\n",
    "print('a range from 10 till 20', list(range(10, 20)))\n",
    "print('a range from 10 till 20 with steps of 2:', list(range(10, 20, 2)))"
   ]
  },
  {
   "cell_type": "markdown",
   "metadata": {},
   "source": [
    "Loops are very useful constructs in a programming script. Whenever you need to do a computation multiple times you should automatically think: *loop!*. "
   ]
  },
  {
   "cell_type": "markdown",
   "metadata": {},
   "source": [
    "### Exercise 4.  The `for` loop\n",
    "Create a list with the names of the months. Create a second list with the number of days in each month (for a regular year). Create a `for` loop that prints:\n",
    "\n",
    "`The number of days in MONTH is XX days`\n",
    "\n",
    "where, of course, you print the correct name of the month for `MONTH` and the correct number of days for `XX`."
   ]
  },
  {
   "cell_type": "code",
   "execution_count": 79,
   "metadata": {},
   "outputs": [
    {
     "name": "stdout",
     "output_type": "stream",
     "text": [
      "The number of days in January is 31 days\n",
      "The number of days in February is 28 days\n",
      "The number of days in March is 31 days\n",
      "The number of days in April is 30 days\n",
      "The number of days in May is 31 days\n",
      "The number of days in June is 30 days\n",
      "The number of days in July is 31 days\n",
      "The number of days in August is 31 days\n",
      "The number of days in September is 30 days\n",
      "The number of days in October is 31 days\n",
      "The number of days in November is 30 days\n",
      "The number of days in December is 31 days\n"
     ]
    }
   ],
   "source": [
    "months = ['January', 'February', 'March', 'April', 'May', 'June', 'July', 'August', 'September', 'October', 'November',\n",
    "          'December']\n",
    "days = [31, 28, 31, 30, 31, 30, 31, 31, 30, 31, 30, 31]\n",
    "\n",
    "for ind, month in enumerate(months):\n",
    "    print(f'The number of days in {month} is {days[ind]} days')"
   ]
  },
  {
   "cell_type": "markdown",
   "metadata": {},
   "source": [
    "### The `if` statement\n",
    "An `if` statement lets you perform a task only when the outcome of the `if` statement is true. For example"
   ]
  },
  {
   "cell_type": "code",
   "execution_count": 80,
   "metadata": {},
   "outputs": [
    {
     "name": "stdout",
     "output_type": "stream",
     "text": [
      "starting value: 4\n",
      "changing data in the first if-statement\n",
      "value after the first if-statement: 6\n",
      "value after the second if-statement: 6\n"
     ]
    }
   ],
   "source": [
    "data = 4\n",
    "print('starting value:', data)\n",
    "if data < 6:\n",
    "    print('changing data in the first if-statement')\n",
    "    data = data + 2\n",
    "print('value after the first if-statement:', data)\n",
    "if data > 20:\n",
    "    print('changing data in the second if-statement')\n",
    "    data = 200\n",
    "print('value after the second if-statement:', data)  # data hasn't changed as data is not larger than 20"
   ]
  },
  {
   "cell_type": "markdown",
   "metadata": {},
   "source": [
    "Note the syntax of the `if` statement: It starts with `if` followed by a statement that is either `True` or `False` and then a colon. After the colon, you need to indent and the entire indented code block (in this case 2 lines of code) is executed if the statement is `True`. The `if` statement is completed when you stop indenting. Recall from Notebook 2 that you can use larger than `>`, larger than or equal `>=`, equal `==`, smaller than or equal `<=`, smaller than `<` or not equal `!=`."
   ]
  },
  {
   "cell_type": "markdown",
   "metadata": {},
   "source": [
    "### The `if`/`else` statement\n",
    "The `if` statement may be followed by an `else` statement, which is executed when the condition after `if` is `False`. For example"
   ]
  },
  {
   "cell_type": "code",
   "execution_count": 81,
   "metadata": {},
   "outputs": [
    {
     "name": "stdout",
     "output_type": "stream",
     "text": [
      "a is not smaller than 3\n"
     ]
    }
   ],
   "source": [
    "a = 4\n",
    "if a < 3:\n",
    "    print('a is smaller than 3')\n",
    "else:\n",
    "    print('a is not smaller than 3')"
   ]
  },
  {
   "cell_type": "markdown",
   "metadata": {},
   "source": [
    "You can even extend the `else` by adding one or more conditions with the `elif` command which is short for 'else if'"
   ]
  },
  {
   "cell_type": "code",
   "execution_count": 82,
   "metadata": {},
   "outputs": [
    {
     "name": "stdout",
     "output_type": "stream",
     "text": [
      "a is equal to 4\n"
     ]
    }
   ],
   "source": [
    "a = 4\n",
    "if a < 4:\n",
    "    print('a is smaller than 4')\n",
    "elif a > 4:\n",
    "    print('a is larger than 4')\n",
    "else:\n",
    "    print('a is equal to 4')"
   ]
  },
  {
   "cell_type": "markdown",
   "metadata": {},
   "source": [
    "### Exercise 5. Combination of `for` loop with `if` statement\n",
    "\n",
    "Print the square root of integers from -4 to 4 using string-formatting (3 decimal digits). "
   ]
  },
  {
   "cell_type": "code",
   "execution_count": 90,
   "metadata": {},
   "outputs": [
    {
     "name": "stdout",
     "output_type": "stream",
     "text": [
      "The square root of -4 is not real\n",
      "The square root of -3 is not real\n",
      "The square root of -2 is not real\n",
      "The square root of -1 is not real\n",
      "The square root of 0 is 0.0\n",
      "The square root of 1 is 1.0\n",
      "The square root of 2 is 1.4142135623730951\n",
      "The square root of 3 is 1.7320508075688772\n",
      "The square root of 4 is 2.0\n"
     ]
    }
   ],
   "source": [
    "from math import sqrt\n",
    "\n",
    "ints = list(range(-4,5,1))\n",
    "\n",
    "for integer in ints:\n",
    "    \n",
    "    if integer >= 0:\n",
    "        print(f'The square root of {integer} is {sqrt(integer)}')\n",
    "    else:\n",
    "        print(f'The square root of {integer} is not real')\n",
    "\n"
   ]
  },
  {
   "cell_type": "markdown",
   "metadata": {},
   "source": [
    "### Exercise 6. Loop through temperature data\n",
    "Loop through all monthly temperatures and print a message that includes the month name (cf. exercise 4) and states whether the monthly average temperature is above or below 10 degrees"
   ]
  },
  {
   "cell_type": "code",
   "execution_count": 91,
   "metadata": {},
   "outputs": [],
   "source": [
    "HollandTemperatures = [3.1, 3.3, 6.2, 9.2, 13.1, 15.6, 17.9, 17.5, 14.5, 10.7, 6.7, 3.7]"
   ]
  },
  {
   "cell_type": "code",
   "execution_count": 94,
   "metadata": {},
   "outputs": [
    {
     "name": "stdout",
     "output_type": "stream",
     "text": [
      "The average temperature of January in Holland is less than or equal to 10 degrees\n",
      "The average temperature of February in Holland is less than or equal to 10 degrees\n",
      "The average temperature of March in Holland is less than or equal to 10 degrees\n",
      "The average temperature of April in Holland is less than or equal to 10 degrees\n",
      "The average temperature of May in Holland is higher than 10 degrees\n",
      "The average temperature of June in Holland is higher than 10 degrees\n",
      "The average temperature of July in Holland is higher than 10 degrees\n",
      "The average temperature of August in Holland is higher than 10 degrees\n",
      "The average temperature of September in Holland is higher than 10 degrees\n",
      "The average temperature of October in Holland is higher than 10 degrees\n",
      "The average temperature of November in Holland is less than or equal to 10 degrees\n",
      "The average temperature of December in Holland is less than or equal to 10 degrees\n"
     ]
    }
   ],
   "source": [
    "for ind, temp in enumerate(HollandTemperatures):\n",
    "    if temp <= 10:\n",
    "        print(f'The average temperature of {months[ind]} in Holland is less than or equal to 10 degrees')\n",
    "    else:\n",
    "        print(f'The average temperature of {months[ind]} in Holland is higher than 10 degrees')"
   ]
  },
  {
   "cell_type": "markdown",
   "metadata": {},
   "source": [
    "### Looping and summation\n",
    "One application of a loop is to compute the sum of all the values in an array. Consider, for example, the list `data` with 8 values. We will compute the sum of all values in `data`. We first define a variable `datasum` and assign it the initial value 0. Next, we loop through all the values in `data` and add each value to `datasum`.\n",
    "\n",
    "Here we use the `enumerate()` function that allows us to set up a counter on the loop."
   ]
  },
  {
   "cell_type": "code",
   "execution_count": 96,
   "metadata": {},
   "outputs": [
    {
     "name": "stdout",
     "output_type": "stream",
     "text": [
      "i, value, datasum:  0 1 1\n",
      "i, value, datasum:  1 3 4\n",
      "i, value, datasum:  2 2 6\n",
      "i, value, datasum:  3 5 11\n",
      "i, value, datasum:  4 7 18\n",
      "i, value, datasum:  5 3 21\n",
      "i, value, datasum:  6 4 25\n",
      "i, value, datasum:  7 2 27\n",
      "Total sum of data:  27\n"
     ]
    }
   ],
   "source": [
    "data = [1, 3, 2, 5, 7, 3, 4, 2]\n",
    "datasum = 0\n",
    "for i, value in enumerate(data):\n",
    "    datasum = datasum + value\n",
    "    print('i, value, datasum: ', i, value, datasum)\n",
    "print('Total sum of data: ', datasum)"
   ]
  },
  {
   "cell_type": "markdown",
   "metadata": {},
   "source": [
    "Note that the statement \n",
    "\n",
    "`datasum = datasum + value` \n",
    "\n",
    "means that `value` is added to the current value of `datasum` and that the result is assigned to `datasum`. There is actually a shorter syntax for the same statement: \n",
    "\n",
    "`datasum += value`\n",
    "\n",
    "The `+=` command means: add whatever is on the right side of the `+=` sign to whatever is on the left side. You can use whichever syntax you are most comfortable with (although `+=` is considered to be better and in some cases more efficient)."
   ]
  },
  {
   "cell_type": "markdown",
   "metadata": {},
   "source": [
    "### Exercise 7.  <a name=\"back4\"></a>Running total\n",
    "For the data of the previous example, compute the running total and store it in a list using a loop. Print both the list `data` and the list with the running total to the screen."
   ]
  },
  {
   "cell_type": "code",
   "execution_count": 97,
   "metadata": {},
   "outputs": [
    {
     "name": "stdout",
     "output_type": "stream",
     "text": [
      "Data:  [1, 3, 2, 5, 7, 3, 4, 2]\n",
      "Running total summation of data:  [1, 4, 6, 11, 18, 21, 25, 27]\n"
     ]
    }
   ],
   "source": [
    "data = [1, 3, 2, 5, 7, 3, 4, 2]\n",
    "datasum = 0\n",
    "sumlist =[]\n",
    "for i, value in enumerate(data):\n",
    "    datasum = datasum + value\n",
    "    sumlist.append(datasum)\n",
    "\n",
    "print('Data: ', data)    \n",
    "print('Running total summation of data: ', sumlist)"
   ]
  },
  {
   "cell_type": "markdown",
   "metadata": {},
   "source": [
    "### Finding the maximum value the hard way\n",
    "Next, let's find the maximum in the array `data` and the index of the maximum value. For illustration purposes, we will do this the hard way by using a loop and an if statement. First, we create a variable `maxvalue` that contains the maximum value and set it initially to a very small number, and we create a variable `maxindex` that is the index of the maximum value and is initially set to `None`. Next we loop through all values in `data` and update the `maxvalue` and `maxindex` everytime we find a larger value than the current `maxvalue`"
   ]
  },
  {
   "cell_type": "code",
   "execution_count": 98,
   "metadata": {},
   "outputs": [
    {
     "name": "stdout",
     "output_type": "stream",
     "text": [
      "the maximum value is  7\n",
      "the index of the maximum value is  4\n"
     ]
    }
   ],
   "source": [
    "maxvalue = -1e8\n",
    "maxindex = None\n",
    "for i, value in enumerate(data):\n",
    "    if value > maxvalue:\n",
    "        maxvalue = value\n",
    "        maxindex = i\n",
    "print('the maximum value is ', maxvalue)\n",
    "print('the index of the maximum value is ', maxindex)"
   ]
  },
  {
   "cell_type": "markdown",
   "metadata": {},
   "source": [
    "### `break` and `while`\n",
    "A common task is to find the position of a value in a sorted table (e.g., a list). \n",
    "For example, determine between which two integers the number $\\sqrt{17}$ falls in the ordered sequence `[1, 4, 5, 8, 9]`. \n",
    "To find the position in the list, we need to loop through the list and break out of the loop once we have found the position. For this, Python has the command `break`."
   ]
  },
  {
   "cell_type": "code",
   "execution_count": 99,
   "metadata": {},
   "outputs": [
    {
     "name": "stdout",
     "output_type": "stream",
     "text": [
      "sqrt(17) is between 4 and 5\n"
     ]
    }
   ],
   "source": [
    "data = list(range(10))\n",
    "s17 = sqrt(17)\n",
    "for i, value in enumerate(data):\n",
    "    if s17 < value:\n",
    "        break\n",
    "print('sqrt(17) is between', data[i - 1], 'and', data[i])"
   ]
  },
  {
   "cell_type": "markdown",
   "metadata": {},
   "source": [
    "There is another way to code this using a `while` loop as shown below"
   ]
  },
  {
   "cell_type": "code",
   "execution_count": 100,
   "metadata": {},
   "outputs": [
    {
     "name": "stdout",
     "output_type": "stream",
     "text": [
      "sqrt(17) is between 4 and 5\n"
     ]
    }
   ],
   "source": [
    "data = list(range(10))\n",
    "s17 = sqrt(17)\n",
    "i = 0\n",
    "while s17 >= data[i]:\n",
    "    i += 1\n",
    "print('sqrt(17) is between', data[i - 1], 'and', data[i])"
   ]
  },
  {
   "cell_type": "markdown",
   "metadata": {},
   "source": [
    "In the `while` loop, the comparison is done at the beginning of the loop, while the counter (in this case `i`) is updated inside the loop. Either a loop with a `break` or a `while` loop with a counter works fine, but `while` loops may be tricky in some cases, as they can result in infinite loops when you have an error in your code. Once you are in an infinite loop (one that never stops), click on the [Kernel] menu item at the top of the window and select [Interrupt Kernel] or [Restart Kernel]. This will end your Python session and start a new one. When you print something to the screen in your `while` loop, it may not be possible to break out of the loop and you may need to end your Jupyter session (and potentially lose some of your work). Because of these problems with errors in `while` loops, it is recommended to use a loop with a break rather than a while loop when possible. "
   ]
  }
 ],
 "metadata": {
  "kernelspec": {
   "display_name": "Python 3 (ipykernel)",
   "language": "python",
   "name": "python3"
  },
  "language_info": {
   "codemirror_mode": {
    "name": "ipython",
    "version": 3
   },
   "file_extension": ".py",
   "mimetype": "text/x-python",
   "name": "python",
   "nbconvert_exporter": "python",
   "pygments_lexer": "ipython3",
   "version": "3.9.8"
  }
 },
 "nbformat": 4,
 "nbformat_minor": 4
}
