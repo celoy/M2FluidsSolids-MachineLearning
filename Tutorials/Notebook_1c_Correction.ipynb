{
 "cells": [
  {
   "cell_type": "markdown",
   "metadata": {},
   "source": [
    "# Object-Oriented Programming"
   ]
  },
  {
   "cell_type": "markdown",
   "metadata": {},
   "source": [
    "\n",
    "Adapted from [Jeff Knupp](https://hackernoon.com/improve-your-python-python-classes-and-object-oriented-programming-d09ff461168d).\n",
    "\n",
    "A good ressource on object-oriented programming in Python can be found in [Python's doc](https://docs.python.org/3/tutorial/classes.html).\n",
    "\n",
    "## What is a Class?\n",
    "\n",
    "A class is a structure in Python that can be used as a blueprint to create objects that have \n",
    "1. prototyped features, \"attributes\" that are variable\n",
    "2. \"methods\" which are functions that can be applied to the object that is created, or rather, an instance of that class. "
   ]
  },
  {
   "cell_type": "markdown",
   "metadata": {},
   "source": [
    "## Defining a Class\n",
    "\n",
    "We want to define a class called `Client` in which a new instance stores a client's name, balance, and account level.\n",
    "It will take the format of:\n",
    "    \n",
    "    class Client():\n",
    "        def __init__(self, args[, ...]:\n",
    "            # more code\n",
    "            \n",
    "\"def `__init__`\" is what we use when creating classes to define how we can create a new instance of this class. \n",
    "\n",
    "The arguments of `__init__` are required input when creating a new instance of this class, except for 'self'. "
   ]
  },
  {
   "cell_type": "code",
   "execution_count": 1,
   "metadata": {},
   "outputs": [],
   "source": [
    "class Client():\n",
    "    \"\"\"Client is a class which stores client's `name`, `balance` and account `level.\"\"\"\n",
    "    def __init__(self, name, balance):\n",
    "        self.name = name\n",
    "        self.balance = balance + 100\n",
    "        \n",
    "        #define account level\n",
    "        if self.balance < 5000:\n",
    "            self.level = \"Basic\"\n",
    "        elif self.balance < 15000:\n",
    "            self.level = \"Intermediate\"\n",
    "        else:\n",
    "            self.level = \"Advanced\"\n",
    "            "
   ]
  },
  {
   "cell_type": "markdown",
   "metadata": {},
   "source": [
    "The **attributes** of the `Client` class are: *name, balance* and *level*. \n",
    "\n",
    "**Note**: \"self.name\" and \"name\" are different variables. Here they represent the same values, but in other cases, this may lead to problems. For example, here the bank has decided to update \"self.balance\" by giving all new members a bonus $100 on top of what they're putting in the bank. Calling \"balance\" for other calculations will not have the correct value."
   ]
  },
  {
   "cell_type": "markdown",
   "metadata": {},
   "source": [
    "### Creating an Instance of a Class\n",
    "\n",
    "Now, lets try creating some new clients named John_Doe, and Jane_Defoe:"
   ]
  },
  {
   "cell_type": "code",
   "execution_count": 2,
   "metadata": {
    "jupyter": {
     "outputs_hidden": false
    }
   },
   "outputs": [],
   "source": [
    "John_Doe = Client(\"John Doe\", 500)\n",
    "Jane_Defoe = Client(\"Jane Defoe\", 150000)"
   ]
  },
  {
   "cell_type": "markdown",
   "metadata": {},
   "source": [
    "We can see the attributes of John_Doe, or Jane_Defoe by calling them:"
   ]
  },
  {
   "cell_type": "code",
   "execution_count": 3,
   "metadata": {
    "jupyter": {
     "outputs_hidden": false
    }
   },
   "outputs": [
    {
     "name": "stdout",
     "output_type": "stream",
     "text": [
      "John Doe\n",
      "Advanced\n",
      "150100\n"
     ]
    }
   ],
   "source": [
    "print(John_Doe.name)\n",
    "print(Jane_Defoe.level)\n",
    "print(Jane_Defoe.balance)"
   ]
  },
  {
   "cell_type": "markdown",
   "metadata": {},
   "source": [
    "We can also add, remove or modify attributes as we like:"
   ]
  },
  {
   "cell_type": "code",
   "execution_count": 4,
   "metadata": {},
   "outputs": [],
   "source": [
    "John_Doe.email = \"jdoe23@gmail.com\"\n",
    "John_Doe.email = \"johndoe23@gmail.com\"\n",
    "del John_Doe.email"
   ]
  },
  {
   "cell_type": "code",
   "execution_count": 5,
   "metadata": {
    "jupyter": {
     "outputs_hidden": false
    }
   },
   "outputs": [
    {
     "name": "stdout",
     "output_type": "stream",
     "text": [
      "John Doe\n",
      "jdoe23@gmail.com\n",
      "True\n"
     ]
    }
   ],
   "source": [
    "print(getattr(John_Doe, 'name'))\n",
    "setattr(John_Doe, 'email', 'jdoe23@gmail.com')\n",
    "print(John_Doe.email)\n",
    "print(hasattr(John_Doe, 'email'))"
   ]
  },
  {
   "cell_type": "markdown",
   "metadata": {},
   "source": [
    "You can also use the following instead instead of the normal statements:\n",
    "\n",
    "- The `getattr(obj, name[, default])` : to access the attribute of object.\n",
    "\n",
    "- The `hasattr(obj,name)` : to check if an attribute exists or not.\n",
    "\n",
    "- The `setattr(obj,name,value)` : to set an attribute. If attribute does not exist, then it would be created.\n",
    "\n",
    "- The `delattr(obj, name)` : to delete an attribute."
   ]
  },
  {
   "cell_type": "markdown",
   "metadata": {},
   "source": [
    "### Class Attributes vs. Normal Attributes\n",
    "\n",
    "A class attribute is an attribute set at the class-level rather than the instance-level, such that the value of this attribute will be the same across all instances.\n",
    "\n",
    "For our *Client* class, we might want to set the name of the bank, and the location, which would not change from instance to instance."
   ]
  },
  {
   "cell_type": "code",
   "execution_count": 6,
   "metadata": {
    "jupyter": {
     "outputs_hidden": false
    }
   },
   "outputs": [],
   "source": [
    "Client.bank = \"Toronto-Dominion bank\"\n",
    "Client.location = \"Toronto, ON\""
   ]
  },
  {
   "cell_type": "code",
   "execution_count": 7,
   "metadata": {
    "jupyter": {
     "outputs_hidden": false
    }
   },
   "outputs": [
    {
     "name": "stdout",
     "output_type": "stream",
     "text": [
      "Toronto-Dominion bank\n",
      "Toronto-Dominion bank\n"
     ]
    }
   ],
   "source": [
    "# try calling these attributes at the class and instance level\n",
    "print(Client.bank)\n",
    "print(Jane_Defoe.bank)"
   ]
  },
  {
   "cell_type": "markdown",
   "metadata": {},
   "source": [
    "### Methods\n",
    "\n",
    "*Methods* are functions that can be applied (only) to instances of your class. \n",
    "\n",
    "For example, in the case of our 'Client' class, we may want to update a person's bank account once they withdraw or deposit money. Let's create these methods below. \n",
    "\n",
    "Note that each method takes 'self' as an argument along with the arguments required when calling this method."
   ]
  },
  {
   "cell_type": "code",
   "execution_count": null,
   "metadata": {},
   "outputs": [],
   "source": [
    "# Use the Client class code above to now add methods for withdrawal and depositing of money\n",
    "\n",
    "# create the Client class below\n",
    "class Client():\n",
    "    def __init__(self, name, balance):\n",
    "        self.name = name\n",
    "        self.balance = balance + 100\n",
    "        \n",
    "        #define account level\n",
    "        if self.balance < 5000:\n",
    "            self.level = \"Basic\"\n",
    "        elif self.balance < 15000:\n",
    "            self.level = \"Intermediate\"\n",
    "        else:\n",
    "            self.level = \"Advanced\"\n",
    "            \n",
    "    def deposit(self, amount):\n",
    "        self.balance += amount\n",
    "        return self.balance\n",
    "    \n",
    "    def withdraw(self, amount):\n",
    "        if amount > self.balance:\n",
    "            raise RuntimeError(\"Insufficient for withdrawal\")\n",
    "        else:\n",
    "            self.balance -= amount\n",
    "        return self.balance"
   ]
  },
  {
   "cell_type": "code",
   "execution_count": null,
   "metadata": {
    "jupyter": {
     "outputs_hidden": false
    }
   },
   "outputs": [],
   "source": [
    "John_Doe = Client(\"John Doe\", 500)\n",
    "Jane_Defoe = Client(\"Jane Defoe\", 150000)\n",
    "\n",
    "Jane_Defoe.deposit(150000)"
   ]
  },
  {
   "cell_type": "markdown",
   "metadata": {},
   "source": [
    "#### What is \"self\"? \n",
    "`*`*not in the philosophical sense*`*`\n",
    "\n",
    "In the method, withdraw(self, amount), the self refers to the *instance* upon which we are applying the instructions of the method. \n",
    "\n",
    "When we call a method, `f(self, arg)`, on the object `x`, we use `x.f(arg)`.\n",
    "- `x` is passed as the first argument, *self*, by default and all that is required are the other arguments that comprise the function. \n",
    "\n",
    "It is equivalent to calling `MyClass.f(x, arg)`.\n",
    "Try it yourself with the Client class and one of the methods we've written."
   ]
  },
  {
   "cell_type": "code",
   "execution_count": null,
   "metadata": {
    "jupyter": {
     "outputs_hidden": false
    }
   },
   "outputs": [],
   "source": [
    "# Try calling a method two different ways\n",
    "print(John_Doe.deposit(500))\n",
    "print(Client.withdraw(Jane_Defoe, 50000))"
   ]
  },
  {
   "cell_type": "markdown",
   "metadata": {},
   "source": [
    "### Exercise 1. Circle class\n",
    "Create a `Circle` class that is initialized with two attributes\n",
    "- the radius R is a float \n",
    "- the (x, y) coordinates of the circle center is a numpy array.\n",
    "\n",
    "Class methods are: \n",
    "- `area`, which returns the area of the circle\n",
    "- `plot`, which plots a filled circle using a transparancy of 0.5 (i.e., use keyword argument `alpha=0.5` in the `plt.fill` function). \n",
    "\n",
    "Make a plot of 20 circles with random centers and radii to demonstrate that the class works correctly."
   ]
  },
  {
   "cell_type": "code",
   "execution_count": 42,
   "metadata": {},
   "outputs": [],
   "source": [
    "%matplotlib inline\n",
    "import matplotlib.pyplot as plt\n",
    "import numpy as np\n",
    "\n",
    "class Circle():\n",
    "    def __init__(self, radius, coordinates):\n",
    "        self.radius = radius\n",
    "        self.center = coordinates\n",
    "    \n",
    "    def area(self):\n",
    "        area = np.pi * self.radius**2\n",
    "        return area\n",
    "    \n",
    "    def plot(self):\n",
    "        angle = np.linspace(0 , 2 * np.pi , 150) \n",
    "        x = self.radius * np.cos(angle) + self.center[0]\n",
    "        y = self.radius * np.sin(angle) + self.center[1]\n",
    "        plt.fill(x, y, alpha=0.5)\n",
    "        \n"
   ]
  },
  {
   "cell_type": "code",
   "execution_count": 43,
   "metadata": {},
   "outputs": [],
   "source": [
    "circ = Circle(0.1, np.array([0.0, 0.0]))"
   ]
  },
  {
   "cell_type": "code",
   "execution_count": 47,
   "metadata": {},
   "outputs": [
    {
     "data": {
      "image/png": "[encoded data removed]",
      "text/plain": [
       "<Figure size 640x480 with 1 Axes>"
      ]
     },
     "metadata": {},
     "output_type": "display_data"
    }
   ],
   "source": [
    "for i in range(20):\n",
    "    x = np.random.rand()*2.0 - 1.0\n",
    "    y = np.random.rand()*2.0 - 1.0\n",
    "    circ.radius = np.random.rand()*0.5\n",
    "    circ.center = np.array([x, y])\n",
    "    circ.plot()\n"
   ]
  },
  {
   "cell_type": "markdown",
   "metadata": {},
   "source": [
    "### Key Concept: Inheritance\n",
    "\n",
    "A 'child' class can be created from a 'parent' class, whereby the child will bring over attributes and methods that its parent has, but where new features can be created as well. \n",
    "\n",
    "This would be useful if you want to create multiple classes that would have some features that are kept the same between them. You would simply create a parent class of these children classes that have those maintained features.\n",
    "\n",
    "Imagine we want to create different types of clients but still have all the base attributes and methods found in client currently. \n",
    "\n",
    "For example, let's create a class called *Savings* that inherits from the *Client* class. In doing so, we do not need to write another `__init__` method as it will inherit this from its parent."
   ]
  },
  {
   "cell_type": "code",
   "execution_count": 48,
   "metadata": {},
   "outputs": [],
   "source": [
    "# create the Savings class below\n",
    "class Savings(Client):\n",
    "    interest_rate = 0.05\n",
    "    \n",
    "    def update_balance(self):\n",
    "        self.balance += self.balance*self.interest_rate\n",
    "        return self.balance\n"
   ]
  },
  {
   "cell_type": "code",
   "execution_count": 49,
   "metadata": {},
   "outputs": [],
   "source": [
    "# create an instance the same way as a Client but this time by calling Savings instead\n",
    "Lina_Tran = Savings(\"Lina Tran\", 50)"
   ]
  },
  {
   "cell_type": "code",
   "execution_count": 50,
   "metadata": {
    "jupyter": {
     "outputs_hidden": false
    }
   },
   "outputs": [
    {
     "name": "stdout",
     "output_type": "stream",
     "text": [
      "Lina Tran\n",
      "150\n",
      "0.05\n"
     ]
    }
   ],
   "source": [
    "# it now has access to the new attributes and methods in Savings...\n",
    "print(Lina_Tran.name)\n",
    "print(Lina_Tran.balance)\n",
    "print(Lina_Tran.interest_rate)"
   ]
  },
  {
   "cell_type": "code",
   "execution_count": 51,
   "metadata": {
    "jupyter": {
     "outputs_hidden": false
    }
   },
   "outputs": [
    {
     "data": {
      "text/plain": [
       "157.5"
      ]
     },
     "execution_count": 51,
     "metadata": {},
     "output_type": "execute_result"
    }
   ],
   "source": [
    "# ...as well as access to attributes and methods from the Client class as well\n",
    "Lina_Tran.update_balance()"
   ]
  },
  {
   "cell_type": "markdown",
   "metadata": {},
   "source": [
    "## Functions\n",
    "We can always define functions outside classes. \n",
    "\n",
    "    def function_name(args):\n",
    "        # more code\n",
    "        ouput = 0\n",
    "        return output\n",
    "        \n",
    "If the functions calls itself, it is called a recursice function. "
   ]
  },
  {
   "cell_type": "code",
   "execution_count": 52,
   "metadata": {
    "jupyter": {
     "outputs_hidden": false
    }
   },
   "outputs": [],
   "source": [
    "def countdown(n):\n",
    "    print(n)\n",
    "    if n <= 0:\n",
    "        return             # Terminate recursion\n",
    "    else:\n",
    "        countdown(n - 1)   # Recursive call"
   ]
  },
  {
   "cell_type": "code",
   "execution_count": 53,
   "metadata": {},
   "outputs": [
    {
     "name": "stdout",
     "output_type": "stream",
     "text": [
      "10\n",
      "9\n",
      "8\n",
      "7\n",
      "6\n",
      "5\n",
      "4\n",
      "3\n",
      "2\n",
      "1\n",
      "0\n"
     ]
    }
   ],
   "source": [
    "countdown(10)"
   ]
  },
  {
   "cell_type": "markdown",
   "metadata": {},
   "source": [
    "### Exercice 2. Fibonacci sequence\n",
    "Use a recursive function to print the Fibonacci sequence (0, 1, 1, 2, 3, 5, 8, 13...) defined by the recurrence relation:\n",
    "\n",
    "    F(0) = 0, F(1) = 1\n",
    "    F(n) = F(n-1) + F(n-2)"
   ]
  },
  {
   "cell_type": "code",
   "execution_count": 69,
   "metadata": {},
   "outputs": [],
   "source": [
    "def Fibonacci(n):\n",
    "    if n==0:\n",
    "        print(n)\n",
    "        last = 0\n",
    "        blast = 1\n",
    "    else:\n",
    "        last, blast = Fibonacci(n-1)\n",
    "        fib = last + blast\n",
    "        print(fib)\n",
    "        blast = last\n",
    "        last = fib   \n",
    "        \n",
    "        \n",
    "    return last, blast"
   ]
  },
  {
   "cell_type": "code",
   "execution_count": 73,
   "metadata": {},
   "outputs": [
    {
     "name": "stdout",
     "output_type": "stream",
     "text": [
      "0\n",
      "1\n",
      "1\n",
      "2\n",
      "3\n",
      "5\n",
      "8\n",
      "13\n",
      "21\n",
      "34\n"
     ]
    },
    {
     "data": {
      "text/plain": [
       "(34, 21)"
      ]
     },
     "execution_count": 73,
     "metadata": {},
     "output_type": "execute_result"
    }
   ],
   "source": [
    "Fibonacci(9)"
   ]
  },
  {
   "cell_type": "code",
   "execution_count": null,
   "metadata": {},
   "outputs": [],
   "source": []
  }
 ],
 "metadata": {
  "kernelspec": {
   "display_name": "Python 3 (ipykernel)",
   "language": "python",
   "name": "python3"
  },
  "language_info": {
   "codemirror_mode": {
    "name": "ipython",
    "version": 3
   },
   "file_extension": ".py",
   "mimetype": "text/x-python",
   "name": "python",
   "nbconvert_exporter": "python",
   "pygments_lexer": "ipython3",
   "version": "3.9.8"
  }
 },
 "nbformat": 4,
 "nbformat_minor": 4
}
