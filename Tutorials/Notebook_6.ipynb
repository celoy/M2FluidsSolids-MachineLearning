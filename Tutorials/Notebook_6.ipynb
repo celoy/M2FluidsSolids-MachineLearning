{
 "cells": [
  {
   "cell_type": "markdown",
   "id": "f6a4193e",
   "metadata": {},
   "source": [
    "# Classifiers\n",
    "In this lab session we will use the library scikit-learn to apply the following classifier algorithms:\n",
    "1. Support Vector Machines (SVM)\n",
    "2. K-Nearest Neighbor\n",
    "3. Naive Bayes\n",
    "4. Decision Trees"
   ]
  },
  {
   "cell_type": "code",
   "execution_count": 1,
   "id": "642b904e",
   "metadata": {},
   "outputs": [],
   "source": [
    "import numpy as np\n",
    "import matplotlib.pyplot as plt\n",
    "import mpl_toolkits.mplot3d\n",
    "from sklearn import datasets\n",
    "import seaborn as sns\n",
    "import graphviz\n",
    "\n",
    "%matplotlib inline\n",
    "%load_ext autoreload\n",
    "%autoreload 2"
   ]
  },
  {
   "cell_type": "markdown",
   "id": "3d0b5b42",
   "metadata": {},
   "source": [
    "### Question 1\n",
    "Load the iris data from scikit learn, the data contains information about the Iris plant, there are three types: Setosa, Versicolor, and Virginica. <br>\n",
    "the data contains four features: sepal length, sepal width, petal length, and petal width all in centimeters."
   ]
  },
  {
   "cell_type": "code",
   "execution_count": null,
   "id": "9a101eae",
   "metadata": {},
   "outputs": [],
   "source": [
    "# Load the data here"
   ]
  },
  {
   "cell_type": "markdown",
   "id": "05725ef9",
   "metadata": {},
   "source": [
    "### Question 2\n",
    "Make a plot to visualize the data."
   ]
  },
  {
   "cell_type": "code",
   "execution_count": null,
   "id": "d528d085",
   "metadata": {
    "scrolled": true
   },
   "outputs": [],
   "source": [
    "# Visualize the data here"
   ]
  },
  {
   "cell_type": "markdown",
   "id": "f162bae4",
   "metadata": {},
   "source": [
    "### Test/Train Split"
   ]
  },
  {
   "cell_type": "markdown",
   "id": "acd17178",
   "metadata": {},
   "source": [
    "### Question 3\n",
    "Perform a Test/Train split by leaving 10 data samples for testing."
   ]
  },
  {
   "cell_type": "code",
   "execution_count": null,
   "id": "06c92eaa",
   "metadata": {},
   "outputs": [],
   "source": [
    "# Perform Test/Train Split here"
   ]
  },
  {
   "cell_type": "markdown",
   "id": "518e61fd",
   "metadata": {},
   "source": [
    "### Support Vector Machines (SVM)"
   ]
  },
  {
   "cell_type": "markdown",
   "id": "0068675b",
   "metadata": {},
   "source": [
    "### Question 4\n",
    "Use sklearn to fit an SVM model, use the first two feature vectors only and plot the decision boundaries. <br>\n",
    "Change the kernel to check how that affects the decision boundary."
   ]
  },
  {
   "cell_type": "code",
   "execution_count": null,
   "id": "7e584f62",
   "metadata": {},
   "outputs": [],
   "source": [
    "from sklearn import svm\n",
    "kernel = 'linear'\n",
    "# Fit the model here"
   ]
  },
  {
   "cell_type": "code",
   "execution_count": null,
   "id": "e80eb2f6",
   "metadata": {},
   "outputs": [],
   "source": [
    "%matplotlib inline"
   ]
  },
  {
   "cell_type": "code",
   "execution_count": null,
   "id": "62219e24",
   "metadata": {},
   "outputs": [],
   "source": [
    "import seaborn as sns\n",
    "from matplotlib.colors import ListedColormap\n",
    "from sklearn.inspection import DecisionBoundaryDisplay\n",
    "\n",
    "def plot_decision_boundaries(clf, iris_X_train, iris_y_train):                                                                      \n",
    "    cmap_light = ListedColormap([\"orange\", \"cyan\", \"cornflowerblue\"])\n",
    "    cmap_bold = [\"darkblue\", \"c\", \"darkorange\"]\n",
    "\n",
    "    _, ax = plt.subplots()\n",
    "    DecisionBoundaryDisplay.from_estimator(\n",
    "        clf,\n",
    "        iris_X_train[:, :2],\n",
    "        cmap=cmap_light,\n",
    "        ax=ax,\n",
    "        response_method=\"predict\",\n",
    "        plot_method=\"pcolormesh\",\n",
    "        xlabel=iris.feature_names[0],\n",
    "        ylabel=iris.feature_names[1],\n",
    "        shading=\"auto\",\n",
    "    )\n",
    "\n",
    "    # Plot also the training points\n",
    "\n",
    "    sns.scatterplot(\n",
    "        x=iris_X_train[:, 0],\n",
    "        y=iris_X_train[:, 1],\n",
    "        hue=iris.target_names[iris_y_train],\n",
    "        palette=cmap_bold,\n",
    "        alpha=1.0,\n",
    "        edgecolor=\"black\",\n",
    "    )"
   ]
  },
  {
   "cell_type": "code",
   "execution_count": null,
   "id": "6caa2731",
   "metadata": {},
   "outputs": [],
   "source": [
    "# Plot the decision boundary here"
   ]
  },
  {
   "cell_type": "markdown",
   "id": "49de8cdf",
   "metadata": {},
   "source": [
    "### Question 5\n",
    "Use the trained model to predict the labels of the testing set, and evaluate the prediction"
   ]
  },
  {
   "cell_type": "code",
   "execution_count": null,
   "id": "898577bd",
   "metadata": {},
   "outputs": [],
   "source": [
    "# Do the prediction here"
   ]
  },
  {
   "cell_type": "code",
   "execution_count": null,
   "id": "fbd3c9b1",
   "metadata": {},
   "outputs": [],
   "source": [
    "kernel = 'poly'\n",
    "degree = 3\n",
    "# Fit polynomial model and plot decision boundary here"
   ]
  },
  {
   "cell_type": "code",
   "execution_count": null,
   "id": "ae75982a",
   "metadata": {},
   "outputs": [],
   "source": [
    "# Do the prediction of the polynomial model here"
   ]
  },
  {
   "cell_type": "markdown",
   "id": "3dc3ae48",
   "metadata": {},
   "source": [
    "### K-Nearest Neighbors"
   ]
  },
  {
   "cell_type": "markdown",
   "id": "668772be",
   "metadata": {},
   "source": [
    "### Question 6\n",
    "Redo questions 4 and 5 to fit a KNN model. <br>\n",
    "This time change the neighbors parameter to see how that affects the decision boundary."
   ]
  },
  {
   "cell_type": "code",
   "execution_count": null,
   "id": "99b0a1ee",
   "metadata": {},
   "outputs": [],
   "source": [
    "from sklearn.neighbors import KNeighborsClassifier\n",
    "n_neighbors = 20\n",
    "# Fit the model here"
   ]
  },
  {
   "cell_type": "code",
   "execution_count": null,
   "id": "404e938a",
   "metadata": {},
   "outputs": [],
   "source": [
    "# Plot the decision boundary here"
   ]
  },
  {
   "cell_type": "code",
   "execution_count": null,
   "id": "de982a22",
   "metadata": {},
   "outputs": [],
   "source": [
    "# Do prediction here"
   ]
  },
  {
   "cell_type": "markdown",
   "id": "6be46a0d",
   "metadata": {},
   "source": [
    "### Naive Bayes Classifier"
   ]
  },
  {
   "cell_type": "markdown",
   "id": "4edfc286",
   "metadata": {},
   "source": [
    "### Question 7\n",
    "Redo questions 4 and 5 but for a gaussian naive bayes model. <br>"
   ]
  },
  {
   "cell_type": "code",
   "execution_count": null,
   "id": "6dda0c4a",
   "metadata": {},
   "outputs": [],
   "source": [
    "from sklearn.naive_bayes import GaussianNB\n",
    "# Fit the model here"
   ]
  },
  {
   "cell_type": "code",
   "execution_count": null,
   "id": "2468e8c9",
   "metadata": {},
   "outputs": [],
   "source": [
    "# Plot the decision boundary here"
   ]
  },
  {
   "cell_type": "code",
   "execution_count": null,
   "id": "c8bb8233",
   "metadata": {},
   "outputs": [],
   "source": [
    "# Do the prediction here"
   ]
  },
  {
   "cell_type": "markdown",
   "id": "04d49b44",
   "metadata": {},
   "source": [
    "### Decision Trees"
   ]
  },
  {
   "cell_type": "markdown",
   "id": "f5109cd8",
   "metadata": {},
   "source": [
    "### Question 8\n",
    "Redo questions 4 and 5 but for a decision tree model. <br>\n",
    "Use all the features this time, and create a graph that shows the decision tree."
   ]
  },
  {
   "cell_type": "code",
   "execution_count": null,
   "id": "a19fc5db",
   "metadata": {},
   "outputs": [],
   "source": [
    "from sklearn import tree\n",
    "# Fit the model here"
   ]
  },
  {
   "cell_type": "code",
   "execution_count": null,
   "id": "ab415b80",
   "metadata": {},
   "outputs": [],
   "source": [
    "# plot the decision tree here"
   ]
  },
  {
   "cell_type": "code",
   "execution_count": null,
   "id": "7080d875",
   "metadata": {},
   "outputs": [],
   "source": [
    "# plot different decision boundaries here"
   ]
  },
  {
   "cell_type": "code",
   "execution_count": null,
   "id": "48ca3379",
   "metadata": {},
   "outputs": [],
   "source": [
    "# Do the prediction here"
   ]
  }
 ],
 "metadata": {
  "kernelspec": {
   "display_name": "Python 3 (ipykernel)",
   "language": "python",
   "name": "python3"
  },
  "language_info": {
   "codemirror_mode": {
    "name": "ipython",
    "version": 3
   },
   "file_extension": ".py",
   "mimetype": "text/x-python",
   "name": "python",
   "nbconvert_exporter": "python",
   "pygments_lexer": "ipython3",
   "version": "3.12.0"
  }
 },
 "nbformat": 4,
 "nbformat_minor": 5
}
