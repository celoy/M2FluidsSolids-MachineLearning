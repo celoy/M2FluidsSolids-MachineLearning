{
 "cells": [
  {
   "cell_type": "markdown",
   "id": "fdf21126",
   "metadata": {},
   "source": [
    "### Implementation, training and testing of a simple Recurrent Neural Network for time series forecasting\n",
    "\n",
    "In this notebook, we will implement a simple recurrent neural network (RNN) from scratch using only Python and NumPy.\n",
    "\n",
    "A key characteristic of the neural networks you have encountered so far, like densely connected networks and convolutional networks, is their lack of memory. They process each input independently, without retaining any state across inputs. To handle sequences or time-series data using such networks, you must present the entire sequence at once, treating it as a single data point. For instance, as you’re reading this text, your brain is processing its content word by word while keeping memories of what was read before. This way, you can have a fluid representation of the overall content.\n",
    "\n",
    "\n",
    "RNNs adopt the same principle. Basically, RNNs are a type of artificial neural network designed to work with sequential data. Unlike traditional feedforward neural networks, RNNs have internal connections that loop back, allowing information to persist across time steps. This makes RNNs particularly suited for tasks such as time series prediction, natural language processing, and sequence classification. In practice, a single sequence of $N$ elements will be considered as a single input to the RNN. A standard DNN would take that input as an $N$ size input and process all the elements at once in a single step. What changes in an RNN is that this single input is no longer processed in a single step, but the RNN loops over sequence elements internally.\n",
    "\n",
    "An RNN consists of the following components:\n",
    "\n",
    "Input Layer $\\rightarrow$ Processes the sequential data.\n",
    "\n",
    "Hidden Layer $\\rightarrow$ Contains neurons with internal connections to model temporal dependencies.\n",
    "\n",
    "Output Layer $\\rightarrow$ Produces predictions.\n",
    "\n",
    "The output at a time $t$ is defined as\n",
    "$$\n",
    "y_t = \\mathbf{W}_y\\cdot s_t + b_y\n",
    "$$\n",
    "with $\\mathbf{W}_y$ the matrix of weights for the output, $b_y$ the bias for the output and $s_t$ the internal state at time $t$, given by\n",
    "$$\n",
    "s_t = \\tanh\\left(\\mathbf{W}_x \\cdot x_t + \\mathbf{W}_s \\cdot s_{t-1} + b_s\\right)\n",
    "$$\n",
    "where $x_t$ is the input at time t, $s_{t-1}$ is the internal state at time $t-1$, $\\mathbf{W}_x$ is the matrix of weights for the input, $\\mathbf{W}_s$ is the matrix of weights for the internal state and $b_s$ is the bias for the internal state. Here, we have assumed a $\\tanh$ activation function, but other types of activation function are possible.\n",
    "\n",
    "In this notebook, we will code and train a simple RNN to predict a shifted sequence given a sequence of $n$ previous steps, i.e.\n",
    "$$\n",
    "(x_{t-n}, x_{t-(n-1)},\\dots,x_{t-1})\\rightarrow RNN \\rightarrow (x_{t-(n-1)},x_{t-(n-2)},\\dots,x_{t})\n",
    "$$\n",
    "\n",
    "This is called sequence-to-sequence coding, it is a very simple case, but still essential for time series forecasting. Indeed, the prediction at $t$ provided by the RNN will be used as an input for the next step for the RNN to predict the output at $t+1$ and so on. This is called \"iterative prediction\", but in this Notebook we will focus only on the prediction of a single time step given a time sequence."
   ]
  },
  {
   "cell_type": "markdown",
   "id": "f92b6799",
   "metadata": {},
   "source": [
    "First of all, let us import the essential modules."
   ]
  },
  {
   "cell_type": "code",
   "execution_count": 2,
   "id": "40e68824",
   "metadata": {},
   "outputs": [],
   "source": [
    "import numpy as np\n",
    "import matplotlib.pyplot as plt"
   ]
  },
  {
   "cell_type": "markdown",
   "id": "6014fe2d",
   "metadata": {},
   "source": [
    "Now, we will generate synthetic data, using for example a sine wave. We will generate a given number of samples. Each sample will contain a sequence $x$ with a number of elements and a sequence $y$ with the same number of elements, equal to $x$ but shifted by one time step forward, with the same number of elements."
   ]
  },
  {
   "cell_type": "code",
   "execution_count": 3,
   "id": "42d5e1a9",
   "metadata": {},
   "outputs": [],
   "source": [
    "def generate_sine_wave(seq_length, num_samples):\n",
    "    X = []\n",
    "    y = []\n",
    "    for _ in range(num_samples):\n",
    "        start = np.random.rand() * 2 * np.pi\n",
    "        x_seq = np.sin(np.linspace(start, start + 2 * np.pi, seq_length + 1))\n",
    "        X.append(x_seq[:-1])  # Input sequence\n",
    "        y.append(x_seq[1:])   # Target sequence\n",
    "    return np.array(X), np.array(y)"
   ]
  },
  {
   "cell_type": "markdown",
   "id": "df28d9af",
   "metadata": {},
   "source": [
    "Now we will use the previously coded function to generate the synthetic data"
   ]
  },
  {
   "cell_type": "code",
   "execution_count": 17,
   "id": "42c01347",
   "metadata": {},
   "outputs": [
    {
     "name": "stdout",
     "output_type": "stream",
     "text": [
      "(1000, 10)\n",
      "(1000, 10)\n",
      "1000\n",
      "1000\n"
     ]
    }
   ],
   "source": [
    "seq_length = 10\n",
    "num_samples = 1000\n",
    "X, y = generate_sine_wave(seq_length, num_samples)\n",
    "#Check the shape and length of the arrays\n",
    "print(X.shape)\n",
    "print(y.shape)\n",
    "print(len(X))\n",
    "print(len(y))"
   ]
  },
  {
   "cell_type": "markdown",
   "id": "70d09396",
   "metadata": {},
   "source": [
    "The next cell contains the class that defines the RNN. It contains in particular the forward method (given an $x$ sequence, predict the time-shifted $y$ sequence) and the backward method to update the trainable parameters using a simple gradient descent algorithm."
   ]
  },
  {
   "cell_type": "code",
   "execution_count": 9,
   "id": "52e4d6c5",
   "metadata": {},
   "outputs": [],
   "source": [
    "# RNN Class\n",
    "class SimpleRNN:\n",
    "    def __init__(self, input_size, hidden_size, output_size):\n",
    "        self.input_size = input_size\n",
    "        self.hidden_size = hidden_size\n",
    "        self.output_size = output_size\n",
    "\n",
    "        # Initialize weights and biases\n",
    "        self.Wx = np.random.randn(hidden_size, input_size) * 0.01\n",
    "        self.Ws = np.random.randn(hidden_size, hidden_size) * 0.01\n",
    "        self.Wy = np.random.randn(output_size, hidden_size) * 0.01\n",
    "        self.bs= np.zeros((hidden_size, 1))\n",
    "        self.by = np.zeros((output_size, 1))\n",
    "\n",
    "        self.intermediate_values = []  # To store intermediate values for backpropagation\n",
    "\n",
    "    def forward(self, x_seq):\n",
    "        s = np.zeros((self.hidden_size, 1))\n",
    "        self.intermediate_values = []  # Clear the intermediate values for a new sequence\n",
    "        y_pred = []\n",
    "\n",
    "        for x_t in x_seq:\n",
    "            x_t = x_t.reshape(-1, 1)  # Ensure x_t is a column vector\n",
    "            s = np.tanh(np.dot(self.Wx, x_t) + np.dot(self.Ws, s) + self.bs)\n",
    "            y_t = np.dot(self.Wy, s) + self.by\n",
    "            y_pred.append(y_t)\n",
    "            self.intermediate_values.append((s, x_t))  # Save internal state and input for backpropagation\n",
    "\n",
    "        return np.array(y_pred).squeeze()\n",
    "\n",
    "    # The next method computes the gradients of the loss function with respect to the\n",
    "    # parameters of the model (Wx, Ws, Wy, bs, by) and updates them using gradient descent\n",
    "    def backward(self, dLdy, learning_rate):\n",
    "        dWx = np.zeros_like(self.Wx)\n",
    "        dWs = np.zeros_like(self.Ws)\n",
    "        dWy = np.zeros_like(self.Wy)\n",
    "        dbs = np.zeros_like(self.bs)\n",
    "        dby = np.zeros_like(self.by)\n",
    "        ds_next = np.zeros((self.hidden_size, 1))\n",
    "\n",
    "        # Loop Through Timesteps in Reverse\n",
    "        # RNNs backpropagate through time, i.e.\n",
    "        # it iterates backward through the sequence\n",
    "        # to compute gradients at each time step\n",
    "        for t in reversed(range(len(self.intermediate_values))):\n",
    "            # Retrieve intermediate values values\n",
    "            s, x_t = self.intermediate_values[t]\n",
    "            \n",
    "            # Compute gradient of output weights and biases\n",
    "            # dLdy_t is the loss gradient for the output at time t\n",
    "            dLdy_t = dLdy[t].reshape(-1, 1)  # Ensure dy is a column vector\n",
    "            dWy += np.dot(dLdy_t, s.T)\n",
    "            dby += dLdy_t\n",
    "            \n",
    "            #Backpropagate to the internal state\n",
    "            ds = np.dot(self.Wy.T, dLdy_t) + ds_next\n",
    "            # ds_tanh applies the derivative of the tanh activation function, (1−s^2)\n",
    "            ds_tanh = (1 - s ** 2) * ds\n",
    "\n",
    "            # Compute gradients for the input and the internal state weights and biases\n",
    "            dWx += np.dot(ds_tanh, x_t.T)\n",
    "            dWs += np.dot(ds_tanh, self.intermediate_values[t - 1][0].T) if t > 0 else 0\n",
    "            dbs += ds_tanh\n",
    "            \n",
    "            # Update the gradient for the next time step\n",
    "            ds_next = np.dot(self.Ws.T, ds_tanh)\n",
    "\n",
    "        # Update weights and biases\n",
    "        self.Wx -= learning_rate * dWx\n",
    "        self.Ws -= learning_rate * dWs\n",
    "        self.Wy -= learning_rate * dWy\n",
    "        self.bs -= learning_rate * dbs\n",
    "        self.by -= learning_rate * dby"
   ]
  },
  {
   "cell_type": "markdown",
   "id": "5a9e21a2",
   "metadata": {},
   "source": [
    "The next step is the training of the RNN"
   ]
  },
  {
   "cell_type": "code",
   "execution_count": 10,
   "id": "ef2bf8c5",
   "metadata": {
    "scrolled": true
   },
   "outputs": [
    {
     "name": "stdout",
     "output_type": "stream",
     "text": [
      "Epoch 1/100, Loss: 0.2644\n",
      "Epoch 2/100, Loss: 0.0742\n",
      "Epoch 3/100, Loss: 0.0347\n",
      "Epoch 4/100, Loss: 0.0297\n",
      "Epoch 5/100, Loss: 0.0290\n",
      "Epoch 6/100, Loss: 0.0289\n",
      "Epoch 7/100, Loss: 0.0288\n",
      "Epoch 8/100, Loss: 0.0288\n",
      "Epoch 9/100, Loss: 0.0288\n",
      "Epoch 10/100, Loss: 0.0287\n",
      "Epoch 11/100, Loss: 0.0287\n",
      "Epoch 12/100, Loss: 0.0287\n",
      "Epoch 13/100, Loss: 0.0286\n",
      "Epoch 14/100, Loss: 0.0286\n",
      "Epoch 15/100, Loss: 0.0286\n",
      "Epoch 16/100, Loss: 0.0285\n",
      "Epoch 17/100, Loss: 0.0285\n",
      "Epoch 18/100, Loss: 0.0284\n",
      "Epoch 19/100, Loss: 0.0284\n",
      "Epoch 20/100, Loss: 0.0283\n",
      "Epoch 21/100, Loss: 0.0283\n",
      "Epoch 22/100, Loss: 0.0282\n",
      "Epoch 23/100, Loss: 0.0282\n",
      "Epoch 24/100, Loss: 0.0281\n",
      "Epoch 25/100, Loss: 0.0280\n",
      "Epoch 26/100, Loss: 0.0279\n",
      "Epoch 27/100, Loss: 0.0278\n",
      "Epoch 28/100, Loss: 0.0277\n",
      "Epoch 29/100, Loss: 0.0276\n",
      "Epoch 30/100, Loss: 0.0275\n",
      "Epoch 31/100, Loss: 0.0274\n",
      "Epoch 32/100, Loss: 0.0273\n",
      "Epoch 33/100, Loss: 0.0272\n",
      "Epoch 34/100, Loss: 0.0271\n",
      "Epoch 35/100, Loss: 0.0270\n",
      "Epoch 36/100, Loss: 0.0269\n",
      "Epoch 37/100, Loss: 0.0268\n",
      "Epoch 38/100, Loss: 0.0267\n",
      "Epoch 39/100, Loss: 0.0266\n",
      "Epoch 40/100, Loss: 0.0265\n",
      "Epoch 41/100, Loss: 0.0264\n",
      "Epoch 42/100, Loss: 0.0263\n",
      "Epoch 43/100, Loss: 0.0262\n",
      "Epoch 44/100, Loss: 0.0261\n",
      "Epoch 45/100, Loss: 0.0260\n",
      "Epoch 46/100, Loss: 0.0259\n",
      "Epoch 47/100, Loss: 0.0258\n",
      "Epoch 48/100, Loss: 0.0257\n",
      "Epoch 49/100, Loss: 0.0256\n",
      "Epoch 50/100, Loss: 0.0255\n",
      "Epoch 51/100, Loss: 0.0254\n",
      "Epoch 52/100, Loss: 0.0253\n",
      "Epoch 53/100, Loss: 0.0252\n",
      "Epoch 54/100, Loss: 0.0251\n",
      "Epoch 55/100, Loss: 0.0250\n",
      "Epoch 56/100, Loss: 0.0249\n",
      "Epoch 57/100, Loss: 0.0248\n",
      "Epoch 58/100, Loss: 0.0247\n",
      "Epoch 59/100, Loss: 0.0246\n",
      "Epoch 60/100, Loss: 0.0246\n",
      "Epoch 61/100, Loss: 0.0245\n",
      "Epoch 62/100, Loss: 0.0244\n",
      "Epoch 63/100, Loss: 0.0243\n",
      "Epoch 64/100, Loss: 0.0242\n",
      "Epoch 65/100, Loss: 0.0241\n",
      "Epoch 66/100, Loss: 0.0240\n",
      "Epoch 67/100, Loss: 0.0239\n",
      "Epoch 68/100, Loss: 0.0238\n",
      "Epoch 69/100, Loss: 0.0237\n",
      "Epoch 70/100, Loss: 0.0236\n",
      "Epoch 71/100, Loss: 0.0235\n",
      "Epoch 72/100, Loss: 0.0235\n",
      "Epoch 73/100, Loss: 0.0234\n",
      "Epoch 74/100, Loss: 0.0233\n",
      "Epoch 75/100, Loss: 0.0232\n",
      "Epoch 76/100, Loss: 0.0231\n",
      "Epoch 77/100, Loss: 0.0230\n",
      "Epoch 78/100, Loss: 0.0229\n",
      "Epoch 79/100, Loss: 0.0228\n",
      "Epoch 80/100, Loss: 0.0227\n",
      "Epoch 81/100, Loss: 0.0226\n",
      "Epoch 82/100, Loss: 0.0226\n",
      "Epoch 83/100, Loss: 0.0225\n",
      "Epoch 84/100, Loss: 0.0224\n",
      "Epoch 85/100, Loss: 0.0223\n",
      "Epoch 86/100, Loss: 0.0222\n",
      "Epoch 87/100, Loss: 0.0221\n",
      "Epoch 88/100, Loss: 0.0221\n",
      "Epoch 89/100, Loss: 0.0220\n",
      "Epoch 90/100, Loss: 0.0219\n",
      "Epoch 91/100, Loss: 0.0218\n",
      "Epoch 92/100, Loss: 0.0218\n",
      "Epoch 93/100, Loss: 0.0217\n",
      "Epoch 94/100, Loss: 0.0216\n",
      "Epoch 95/100, Loss: 0.0215\n",
      "Epoch 96/100, Loss: 0.0215\n",
      "Epoch 97/100, Loss: 0.0214\n",
      "Epoch 98/100, Loss: 0.0214\n",
      "Epoch 99/100, Loss: 0.0213\n",
      "Epoch 100/100, Loss: 0.0212\n"
     ]
    }
   ],
   "source": [
    "# Train the RNN\n",
    "# Select a seed for the random generator just to ensure that the results can be reproduced (for debugging purposes)\n",
    "np.random.seed(42)\n",
    "#Initialize the RNN\n",
    "rnn = SimpleRNN(input_size=1, hidden_size=20, output_size=1)\n",
    "\n",
    "#Select the number of epochs\n",
    "epochs = 100\n",
    "\n",
    "total_loss = []\n",
    "\n",
    "#Select a learning rate\n",
    "learning_rate = 0.01\n",
    "\n",
    "for epoch in range(epochs):\n",
    "    epoch_loss = 0\n",
    "    for i in range(len(X)):\n",
    "        x_seq = X[i]\n",
    "        y_true = y[i]\n",
    "\n",
    "        # Complete the forward pass\n",
    "        y_pred = rnn.forward(x_seq)\n",
    "\n",
    "        # Compute the loss using the mean equared error (MSE)\n",
    "        loss = np.mean((y_pred - y_true) ** 2)\n",
    "        \n",
    "        #Add the loss to the epoch_loss\n",
    "        epoch_loss += loss\n",
    "\n",
    "        # Backward pass\n",
    "        # Compute the gradient of the MSE loss with respect to the prediction y_pred\n",
    "        dLdy = 2 * (y_pred - y_true) / len(y_true)\n",
    "        # Update the model parameters using the backward method of the RNN class\n",
    "        rnn.backward(dLdy, learning_rate)\n",
    "    \n",
    "    # Append the obtained loss to the total_loss list, normalizing by the number of samples\n",
    "    total_loss.append(epoch_loss / len(X))\n",
    "    print(f\"Epoch {epoch + 1}/{epochs}, Loss: {total_loss[-1]:.4f}\")"
   ]
  },
  {
   "cell_type": "markdown",
   "id": "44a01024",
   "metadata": {},
   "source": [
    "Let us now visualize the training loss as a function of the number of epochs"
   ]
  },
  {
   "cell_type": "code",
   "execution_count": 11,
   "id": "14d9ba87",
   "metadata": {},
   "outputs": [
    {
     "data": {
      "image/png": "[encoded data removed]",
      "text/plain": [
       "<Figure size 432x288 with 1 Axes>"
      ]
     },
     "metadata": {
      "needs_background": "light"
     },
     "output_type": "display_data"
    }
   ],
   "source": [
    "# Visualize the Loss Curve\n",
    "plt.plot(total_loss)\n",
    "plt.title(\"Loss Curve\")\n",
    "plt.xlabel(\"Epochs\")\n",
    "plt.ylabel(\"Loss\")\n",
    "plt.show()"
   ]
  },
  {
   "cell_type": "markdown",
   "id": "f99b4e15",
   "metadata": {},
   "source": [
    "Let us test our trained RNN on a single time sequence (num_samples=1)"
   ]
  },
  {
   "cell_type": "code",
   "execution_count": 12,
   "id": "ea1ddd9f",
   "metadata": {},
   "outputs": [],
   "source": [
    "# Test the RNN\n",
    "# Visualize predictions on a new sine wave.\n",
    "X_test, y_test = generate_sine_wave(seq_length, 1)\n",
    "x_test, y_test = X_test[0], y_test[0]\n",
    "y_pred = rnn.forward(x_test)"
   ]
  },
  {
   "cell_type": "markdown",
   "id": "1e7caa60",
   "metadata": {},
   "source": [
    "Plot the results..."
   ]
  },
  {
   "cell_type": "code",
   "execution_count": 15,
   "id": "341b08c2",
   "metadata": {},
   "outputs": [
    {
     "data": {
      "image/png": "[encoded data removed]",
      "text/plain": [
       "<Figure size 432x288 with 1 Axes>"
      ]
     },
     "metadata": {
      "needs_background": "light"
     },
     "output_type": "display_data"
    }
   ],
   "source": [
    "# Plot the input sequence and the predicted sequence.\n",
    "# The predicted one is supposed to be the input sequence, but shifted by one time step forward\n",
    "plt.plot(range(seq_length), x_test, label=\"Input\")\n",
    "plt.plot(range(1, seq_length+1), y_pred, label=\"Predicted Output\")\n",
    "plt.legend()\n",
    "plt.show()"
   ]
  },
  {
   "cell_type": "markdown",
   "id": "2c34362e",
   "metadata": {},
   "source": [
    "If you have time, you can try to code the iterative prediction, which means that you use now the predicted value as an input for the RNN to predict the next step and so on. What do you observe?"
   ]
  },
  {
   "cell_type": "code",
   "execution_count": null,
   "id": "0c581231",
   "metadata": {},
   "outputs": [],
   "source": []
  }
 ],
 "metadata": {
  "kernelspec": {
   "display_name": "Python 3 (ipykernel)",
   "language": "python",
   "name": "python3"
  },
  "language_info": {
   "codemirror_mode": {
    "name": "ipython",
    "version": 3
   },
   "file_extension": ".py",
   "mimetype": "text/x-python",
   "name": "python",
   "nbconvert_exporter": "python",
   "pygments_lexer": "ipython3",
   "version": "3.10.12"
  }
 },
 "nbformat": 4,
 "nbformat_minor": 5
}
