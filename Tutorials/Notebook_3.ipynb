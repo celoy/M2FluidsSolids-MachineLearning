{
 "cells": [
  {
   "cell_type": "markdown",
   "metadata": {},
   "source": [
    "# Predicting key factors of USA health insurance cost\n",
    "\n",
    "The dataset can be obtained from https://www.kaggle.com/mirichoi0218/insurance\n",
    "    \n",
    "To handle the data (a table in csv format), we will use the pandas library for Python. \n",
    "Useful tutorials can be found at https://pandas.pydata.org/pandas-docs/stable/getting_started/tutorials.html"
   ]
  },
  {
   "cell_type": "code",
   "execution_count": 2,
   "metadata": {},
   "outputs": [
    {
     "name": "stdout",
     "output_type": "stream",
     "text": [
      "Requirement already satisfied: pandas in d:\\machine_learning_course\\m2fluidssolids-machinelearning\\venv\\lib\\site-packages (1.5.0)\n",
      "Requirement already satisfied: numpy>=1.20.3 in d:\\machine_learning_course\\m2fluidssolids-machinelearning\\venv\\lib\\site-packages (from pandas) (1.23.3)\n",
      "Requirement already satisfied: python-dateutil>=2.8.1 in d:\\machine_learning_course\\m2fluidssolids-machinelearning\\venv\\lib\\site-packages (from pandas) (2.8.2)\n",
      "Requirement already satisfied: pytz>=2020.1 in d:\\machine_learning_course\\m2fluidssolids-machinelearning\\venv\\lib\\site-packages (from pandas) (2022.4)\n",
      "Requirement already satisfied: six>=1.5 in d:\\machine_learning_course\\m2fluidssolids-machinelearning\\venv\\lib\\site-packages (from python-dateutil>=2.8.1->pandas) (1.16.0)\n"
     ]
    },
    {
     "name": "stderr",
     "output_type": "stream",
     "text": [
      "WARNING: You are using pip version 21.1.2; however, version 22.2.2 is available.\n",
      "You should consider upgrading via the 'D:\\Machine_Learning_Course\\M2FluidsSolids-MachineLearning\\venv\\Scripts\\python.exe -m pip install --upgrade pip' command.\n"
     ]
    },
    {
     "name": "stdout",
     "output_type": "stream",
     "text": [
      "Requirement already satisfied: scikit-learn in d:\\machine_learning_course\\m2fluidssolids-machinelearning\\venv\\lib\\site-packages (1.1.2)\n",
      "Requirement already satisfied: joblib>=1.0.0 in d:\\machine_learning_course\\m2fluidssolids-machinelearning\\venv\\lib\\site-packages (from scikit-learn) (1.2.0)\n",
      "Requirement already satisfied: numpy>=1.17.3 in d:\\machine_learning_course\\m2fluidssolids-machinelearning\\venv\\lib\\site-packages (from scikit-learn) (1.23.3)\n",
      "Requirement already satisfied: threadpoolctl>=2.0.0 in d:\\machine_learning_course\\m2fluidssolids-machinelearning\\venv\\lib\\site-packages (from scikit-learn) (3.1.0)\n",
      "Requirement already satisfied: scipy>=1.3.2 in d:\\machine_learning_course\\m2fluidssolids-machinelearning\\venv\\lib\\site-packages (from scikit-learn) (1.9.2)\n"
     ]
    },
    {
     "name": "stderr",
     "output_type": "stream",
     "text": [
      "WARNING: You are using pip version 21.1.2; however, version 22.2.2 is available.\n",
      "You should consider upgrading via the 'D:\\Machine_Learning_Course\\M2FluidsSolids-MachineLearning\\venv\\Scripts\\python.exe -m pip install --upgrade pip' command.\n"
     ]
    }
   ],
   "source": [
    "!pip install pandas\n",
    "!pip install scikit-learn"
   ]
  },
  {
   "cell_type": "code",
   "execution_count": 1,
   "metadata": {},
   "outputs": [],
   "source": [
    "import numpy as np\n",
    "import pandas as pd\n",
    "from sklearn.model_selection import train_test_split\n",
    "import matplotlib.pyplot as plt"
   ]
  },
  {
   "cell_type": "markdown",
   "metadata": {},
   "source": [
    "## Introduction to `pandas`\n",
    "\n",
    "### Importing the database"
   ]
  },
  {
   "cell_type": "code",
   "execution_count": 3,
   "metadata": {},
   "outputs": [],
   "source": [
    "# Importing the csv data\n",
    "data = pd.read_csv(\"./Data/insurance.csv\")"
   ]
  },
  {
   "cell_type": "markdown",
   "metadata": {},
   "source": [
    "Some information on the imported database can be printed using the commands `head()`, `describe()` and `info()`"
   ]
  },
  {
   "cell_type": "code",
   "execution_count": 4,
   "metadata": {},
   "outputs": [
    {
     "data": {
      "text/html": [
       "<div>\n",
       "<style scoped>\n",
       "    .dataframe tbody tr th:only-of-type {\n",
       "        vertical-align: middle;\n",
       "    }\n",
       "\n",
       "    .dataframe tbody tr th {\n",
       "        vertical-align: top;\n",
       "    }\n",
       "\n",
       "    .dataframe thead th {\n",
       "        text-align: right;\n",
       "    }\n",
       "</style>\n",
       "<table border=\"1\" class=\"dataframe\">\n",
       "  <thead>\n",
       "    <tr style=\"text-align: right;\">\n",
       "      <th></th>\n",
       "      <th>age</th>\n",
       "      <th>sex</th>\n",
       "      <th>bmi</th>\n",
       "      <th>children</th>\n",
       "      <th>smoker</th>\n",
       "      <th>region</th>\n",
       "      <th>charges</th>\n",
       "    </tr>\n",
       "  </thead>\n",
       "  <tbody>\n",
       "    <tr>\n",
       "      <th>0</th>\n",
       "      <td>19</td>\n",
       "      <td>female</td>\n",
       "      <td>27.900</td>\n",
       "      <td>0</td>\n",
       "      <td>yes</td>\n",
       "      <td>southwest</td>\n",
       "      <td>16884.92400</td>\n",
       "    </tr>\n",
       "    <tr>\n",
       "      <th>1</th>\n",
       "      <td>18</td>\n",
       "      <td>male</td>\n",
       "      <td>33.770</td>\n",
       "      <td>1</td>\n",
       "      <td>no</td>\n",
       "      <td>southeast</td>\n",
       "      <td>1725.55230</td>\n",
       "    </tr>\n",
       "    <tr>\n",
       "      <th>2</th>\n",
       "      <td>28</td>\n",
       "      <td>male</td>\n",
       "      <td>33.000</td>\n",
       "      <td>3</td>\n",
       "      <td>no</td>\n",
       "      <td>southeast</td>\n",
       "      <td>4449.46200</td>\n",
       "    </tr>\n",
       "    <tr>\n",
       "      <th>3</th>\n",
       "      <td>33</td>\n",
       "      <td>male</td>\n",
       "      <td>22.705</td>\n",
       "      <td>0</td>\n",
       "      <td>no</td>\n",
       "      <td>northwest</td>\n",
       "      <td>21984.47061</td>\n",
       "    </tr>\n",
       "    <tr>\n",
       "      <th>4</th>\n",
       "      <td>32</td>\n",
       "      <td>male</td>\n",
       "      <td>28.880</td>\n",
       "      <td>0</td>\n",
       "      <td>no</td>\n",
       "      <td>northwest</td>\n",
       "      <td>3866.85520</td>\n",
       "    </tr>\n",
       "  </tbody>\n",
       "</table>\n",
       "</div>"
      ],
      "text/plain": [
       "   age     sex     bmi  children smoker     region      charges\n",
       "0   19  female  27.900         0    yes  southwest  16884.92400\n",
       "1   18    male  33.770         1     no  southeast   1725.55230\n",
       "2   28    male  33.000         3     no  southeast   4449.46200\n",
       "3   33    male  22.705         0     no  northwest  21984.47061\n",
       "4   32    male  28.880         0     no  northwest   3866.85520"
      ]
     },
     "execution_count": 4,
     "metadata": {},
     "output_type": "execute_result"
    }
   ],
   "source": [
    "data.head()"
   ]
  },
  {
   "cell_type": "code",
   "execution_count": 5,
   "metadata": {},
   "outputs": [
    {
     "data": {
      "text/html": [
       "<div>\n",
       "<style scoped>\n",
       "    .dataframe tbody tr th:only-of-type {\n",
       "        vertical-align: middle;\n",
       "    }\n",
       "\n",
       "    .dataframe tbody tr th {\n",
       "        vertical-align: top;\n",
       "    }\n",
       "\n",
       "    .dataframe thead th {\n",
       "        text-align: right;\n",
       "    }\n",
       "</style>\n",
       "<table border=\"1\" class=\"dataframe\">\n",
       "  <thead>\n",
       "    <tr style=\"text-align: right;\">\n",
       "      <th></th>\n",
       "      <th>age</th>\n",
       "      <th>bmi</th>\n",
       "      <th>children</th>\n",
       "      <th>charges</th>\n",
       "    </tr>\n",
       "  </thead>\n",
       "  <tbody>\n",
       "    <tr>\n",
       "      <th>count</th>\n",
       "      <td>1338.000000</td>\n",
       "      <td>1338.000000</td>\n",
       "      <td>1338.000000</td>\n",
       "      <td>1338.000000</td>\n",
       "    </tr>\n",
       "    <tr>\n",
       "      <th>mean</th>\n",
       "      <td>39.207025</td>\n",
       "      <td>30.663397</td>\n",
       "      <td>1.094918</td>\n",
       "      <td>13270.422265</td>\n",
       "    </tr>\n",
       "    <tr>\n",
       "      <th>std</th>\n",
       "      <td>14.049960</td>\n",
       "      <td>6.098187</td>\n",
       "      <td>1.205493</td>\n",
       "      <td>12110.011237</td>\n",
       "    </tr>\n",
       "    <tr>\n",
       "      <th>min</th>\n",
       "      <td>18.000000</td>\n",
       "      <td>15.960000</td>\n",
       "      <td>0.000000</td>\n",
       "      <td>1121.873900</td>\n",
       "    </tr>\n",
       "    <tr>\n",
       "      <th>25%</th>\n",
       "      <td>27.000000</td>\n",
       "      <td>26.296250</td>\n",
       "      <td>0.000000</td>\n",
       "      <td>4740.287150</td>\n",
       "    </tr>\n",
       "    <tr>\n",
       "      <th>50%</th>\n",
       "      <td>39.000000</td>\n",
       "      <td>30.400000</td>\n",
       "      <td>1.000000</td>\n",
       "      <td>9382.033000</td>\n",
       "    </tr>\n",
       "    <tr>\n",
       "      <th>75%</th>\n",
       "      <td>51.000000</td>\n",
       "      <td>34.693750</td>\n",
       "      <td>2.000000</td>\n",
       "      <td>16639.912515</td>\n",
       "    </tr>\n",
       "    <tr>\n",
       "      <th>max</th>\n",
       "      <td>64.000000</td>\n",
       "      <td>53.130000</td>\n",
       "      <td>5.000000</td>\n",
       "      <td>63770.428010</td>\n",
       "    </tr>\n",
       "  </tbody>\n",
       "</table>\n",
       "</div>"
      ],
      "text/plain": [
       "               age          bmi     children       charges\n",
       "count  1338.000000  1338.000000  1338.000000   1338.000000\n",
       "mean     39.207025    30.663397     1.094918  13270.422265\n",
       "std      14.049960     6.098187     1.205493  12110.011237\n",
       "min      18.000000    15.960000     0.000000   1121.873900\n",
       "25%      27.000000    26.296250     0.000000   4740.287150\n",
       "50%      39.000000    30.400000     1.000000   9382.033000\n",
       "75%      51.000000    34.693750     2.000000  16639.912515\n",
       "max      64.000000    53.130000     5.000000  63770.428010"
      ]
     },
     "execution_count": 5,
     "metadata": {},
     "output_type": "execute_result"
    }
   ],
   "source": [
    "data.describe()"
   ]
  },
  {
   "cell_type": "code",
   "execution_count": 6,
   "metadata": {},
   "outputs": [
    {
     "name": "stdout",
     "output_type": "stream",
     "text": [
      "<class 'pandas.core.frame.DataFrame'>\n",
      "RangeIndex: 1338 entries, 0 to 1337\n",
      "Data columns (total 7 columns):\n",
      " #   Column    Non-Null Count  Dtype  \n",
      "---  ------    --------------  -----  \n",
      " 0   age       1338 non-null   int64  \n",
      " 1   sex       1338 non-null   object \n",
      " 2   bmi       1338 non-null   float64\n",
      " 3   children  1338 non-null   int64  \n",
      " 4   smoker    1338 non-null   object \n",
      " 5   region    1338 non-null   object \n",
      " 6   charges   1338 non-null   float64\n",
      "dtypes: float64(2), int64(2), object(3)\n",
      "memory usage: 73.3+ KB\n"
     ]
    }
   ],
   "source": [
    "data.info()"
   ]
  },
  {
   "cell_type": "markdown",
   "metadata": {},
   "source": [
    "As we can see, the table has 1338 entries (rows) and 7 columns named\n",
    "- age (int)\n",
    "- sex (object)\n",
    "- bmi (float): body mass index\n",
    "- children (int)\n",
    "- smoker (object)\n",
    "- region (object): the beneficiary's residential area in the US, northeast, southeast, southwest, northwest.\n",
    "- charges (float): Individual medical costs billed by health insurance"
   ]
  },
  {
   "cell_type": "markdown",
   "metadata": {},
   "source": [
    "### Replacing text by numerical data"
   ]
  },
  {
   "cell_type": "code",
   "execution_count": 7,
   "metadata": {},
   "outputs": [
    {
     "data": {
      "text/html": [
       "<div>\n",
       "<style scoped>\n",
       "    .dataframe tbody tr th:only-of-type {\n",
       "        vertical-align: middle;\n",
       "    }\n",
       "\n",
       "    .dataframe tbody tr th {\n",
       "        vertical-align: top;\n",
       "    }\n",
       "\n",
       "    .dataframe thead th {\n",
       "        text-align: right;\n",
       "    }\n",
       "</style>\n",
       "<table border=\"1\" class=\"dataframe\">\n",
       "  <thead>\n",
       "    <tr style=\"text-align: right;\">\n",
       "      <th></th>\n",
       "      <th>age</th>\n",
       "      <th>sex</th>\n",
       "      <th>bmi</th>\n",
       "      <th>children</th>\n",
       "      <th>smoker</th>\n",
       "      <th>region</th>\n",
       "      <th>charges</th>\n",
       "    </tr>\n",
       "  </thead>\n",
       "  <tbody>\n",
       "    <tr>\n",
       "      <th>0</th>\n",
       "      <td>19</td>\n",
       "      <td>2</td>\n",
       "      <td>27.900</td>\n",
       "      <td>0</td>\n",
       "      <td>1</td>\n",
       "      <td>1</td>\n",
       "      <td>16884.92400</td>\n",
       "    </tr>\n",
       "    <tr>\n",
       "      <th>1</th>\n",
       "      <td>18</td>\n",
       "      <td>1</td>\n",
       "      <td>33.770</td>\n",
       "      <td>1</td>\n",
       "      <td>0</td>\n",
       "      <td>0</td>\n",
       "      <td>1725.55230</td>\n",
       "    </tr>\n",
       "    <tr>\n",
       "      <th>2</th>\n",
       "      <td>28</td>\n",
       "      <td>1</td>\n",
       "      <td>33.000</td>\n",
       "      <td>3</td>\n",
       "      <td>0</td>\n",
       "      <td>0</td>\n",
       "      <td>4449.46200</td>\n",
       "    </tr>\n",
       "    <tr>\n",
       "      <th>3</th>\n",
       "      <td>33</td>\n",
       "      <td>1</td>\n",
       "      <td>22.705</td>\n",
       "      <td>0</td>\n",
       "      <td>0</td>\n",
       "      <td>2</td>\n",
       "      <td>21984.47061</td>\n",
       "    </tr>\n",
       "    <tr>\n",
       "      <th>4</th>\n",
       "      <td>32</td>\n",
       "      <td>1</td>\n",
       "      <td>28.880</td>\n",
       "      <td>0</td>\n",
       "      <td>0</td>\n",
       "      <td>2</td>\n",
       "      <td>3866.85520</td>\n",
       "    </tr>\n",
       "  </tbody>\n",
       "</table>\n",
       "</div>"
      ],
      "text/plain": [
       "   age  sex     bmi  children  smoker  region      charges\n",
       "0   19    2  27.900         0       1       1  16884.92400\n",
       "1   18    1  33.770         1       0       0   1725.55230\n",
       "2   28    1  33.000         3       0       0   4449.46200\n",
       "3   33    1  22.705         0       0       2  21984.47061\n",
       "4   32    1  28.880         0       0       2   3866.85520"
      ]
     },
     "execution_count": 7,
     "metadata": {},
     "output_type": "execute_result"
    }
   ],
   "source": [
    "data = data.replace({'male': 1, 'female': 2, 'no': 0, 'yes': 1})  # for sex and smoker columns\n",
    "data = data.replace({'southeast': 0, 'southwest': 1, 'northwest': 2, 'northeast': 3})\n",
    "\n",
    "data.head()"
   ]
  },
  {
   "cell_type": "markdown",
   "metadata": {},
   "source": [
    "### Splitting the dataset between train and test data\n",
    "\n",
    "We will split the dataset between the training dataset `train` and the testing dataset `test`.\n",
    "\n",
    "The goal will be to find the best possible prediction of the medical cost given the other variables (age, sex...). To test how good the prediction is, we wil use the training set. "
   ]
  },
  {
   "cell_type": "code",
   "execution_count": 8,
   "metadata": {},
   "outputs": [],
   "source": [
    "train, test = train_test_split(data, test_size=0.2)"
   ]
  },
  {
   "cell_type": "markdown",
   "metadata": {},
   "source": [
    "### Plotting the data\n",
    "\n",
    "You can conveniently plot the data with one the following methods. "
   ]
  },
  {
   "cell_type": "code",
   "execution_count": 9,
   "metadata": {},
   "outputs": [
    {
     "data": {
      "text/plain": [
       "<AxesSubplot: xlabel='age', ylabel='charges'>"
      ]
     },
     "execution_count": 9,
     "metadata": {},
     "output_type": "execute_result"
    },
    {
     "data": {
      "image/png": "[encoded data removed]",
      "text/plain": [
       "<Figure size 640x480 with 1 Axes>"
      ]
     },
     "metadata": {},
     "output_type": "display_data"
    }
   ],
   "source": [
    "# plot applied to the pandas object\n",
    "train.plot.scatter('age', 'charges')"
   ]
  },
  {
   "cell_type": "code",
   "execution_count": 10,
   "metadata": {},
   "outputs": [
    {
     "data": {
      "image/png": "[encoded data removed]",
      "text/plain": [
       "<Figure size 640x480 with 1 Axes>"
      ]
     },
     "metadata": {},
     "output_type": "display_data"
    }
   ],
   "source": [
    "# plot after transforming data into numpy arrays\n",
    "x = np.array(train[\"age\"])\n",
    "y = np.array(train[\"charges\"])\n",
    "plt.scatter(x, y)\n",
    "plt.show()"
   ]
  },
  {
   "cell_type": "markdown",
   "metadata": {},
   "source": [
    "Pair-wise correlations can be computed with the function `corr()`. \n",
    "Large positive or negative correlations with the column `charges` indicate that the variable is an important factor in determining the price of medical cost. "
   ]
  },
  {
   "cell_type": "code",
   "execution_count": 11,
   "metadata": {},
   "outputs": [
    {
     "data": {
      "text/html": [
       "<div>\n",
       "<style scoped>\n",
       "    .dataframe tbody tr th:only-of-type {\n",
       "        vertical-align: middle;\n",
       "    }\n",
       "\n",
       "    .dataframe tbody tr th {\n",
       "        vertical-align: top;\n",
       "    }\n",
       "\n",
       "    .dataframe thead th {\n",
       "        text-align: right;\n",
       "    }\n",
       "</style>\n",
       "<table border=\"1\" class=\"dataframe\">\n",
       "  <thead>\n",
       "    <tr style=\"text-align: right;\">\n",
       "      <th></th>\n",
       "      <th>age</th>\n",
       "      <th>sex</th>\n",
       "      <th>bmi</th>\n",
       "      <th>children</th>\n",
       "      <th>smoker</th>\n",
       "      <th>region</th>\n",
       "      <th>charges</th>\n",
       "    </tr>\n",
       "  </thead>\n",
       "  <tbody>\n",
       "    <tr>\n",
       "      <th>age</th>\n",
       "      <td>1.000000</td>\n",
       "      <td>0.043201</td>\n",
       "      <td>0.124053</td>\n",
       "      <td>0.051664</td>\n",
       "      <td>-0.017630</td>\n",
       "      <td>-0.000744</td>\n",
       "      <td>0.300443</td>\n",
       "    </tr>\n",
       "    <tr>\n",
       "      <th>sex</th>\n",
       "      <td>0.043201</td>\n",
       "      <td>1.000000</td>\n",
       "      <td>-0.055024</td>\n",
       "      <td>-0.031582</td>\n",
       "      <td>-0.095705</td>\n",
       "      <td>0.031111</td>\n",
       "      <td>-0.065611</td>\n",
       "    </tr>\n",
       "    <tr>\n",
       "      <th>bmi</th>\n",
       "      <td>0.124053</td>\n",
       "      <td>-0.055024</td>\n",
       "      <td>1.000000</td>\n",
       "      <td>0.016007</td>\n",
       "      <td>-0.009078</td>\n",
       "      <td>-0.256329</td>\n",
       "      <td>0.186005</td>\n",
       "    </tr>\n",
       "    <tr>\n",
       "      <th>children</th>\n",
       "      <td>0.051664</td>\n",
       "      <td>-0.031582</td>\n",
       "      <td>0.016007</td>\n",
       "      <td>1.000000</td>\n",
       "      <td>0.031761</td>\n",
       "      <td>0.009591</td>\n",
       "      <td>0.082578</td>\n",
       "    </tr>\n",
       "    <tr>\n",
       "      <th>smoker</th>\n",
       "      <td>-0.017630</td>\n",
       "      <td>-0.095705</td>\n",
       "      <td>-0.009078</td>\n",
       "      <td>0.031761</td>\n",
       "      <td>1.000000</td>\n",
       "      <td>-0.048703</td>\n",
       "      <td>0.787532</td>\n",
       "    </tr>\n",
       "    <tr>\n",
       "      <th>region</th>\n",
       "      <td>-0.000744</td>\n",
       "      <td>0.031111</td>\n",
       "      <td>-0.256329</td>\n",
       "      <td>0.009591</td>\n",
       "      <td>-0.048703</td>\n",
       "      <td>1.000000</td>\n",
       "      <td>-0.041847</td>\n",
       "    </tr>\n",
       "    <tr>\n",
       "      <th>charges</th>\n",
       "      <td>0.300443</td>\n",
       "      <td>-0.065611</td>\n",
       "      <td>0.186005</td>\n",
       "      <td>0.082578</td>\n",
       "      <td>0.787532</td>\n",
       "      <td>-0.041847</td>\n",
       "      <td>1.000000</td>\n",
       "    </tr>\n",
       "  </tbody>\n",
       "</table>\n",
       "</div>"
      ],
      "text/plain": [
       "               age       sex       bmi  children    smoker    region   charges\n",
       "age       1.000000  0.043201  0.124053  0.051664 -0.017630 -0.000744  0.300443\n",
       "sex       0.043201  1.000000 -0.055024 -0.031582 -0.095705  0.031111 -0.065611\n",
       "bmi       0.124053 -0.055024  1.000000  0.016007 -0.009078 -0.256329  0.186005\n",
       "children  0.051664 -0.031582  0.016007  1.000000  0.031761  0.009591  0.082578\n",
       "smoker   -0.017630 -0.095705 -0.009078  0.031761  1.000000 -0.048703  0.787532\n",
       "region   -0.000744  0.031111 -0.256329  0.009591 -0.048703  1.000000 -0.041847\n",
       "charges   0.300443 -0.065611  0.186005  0.082578  0.787532 -0.041847  1.000000"
      ]
     },
     "execution_count": 11,
     "metadata": {},
     "output_type": "execute_result"
    }
   ],
   "source": [
    "train.corr()"
   ]
  },
  {
   "cell_type": "markdown",
   "metadata": {},
   "source": [
    "From these values, we see that the three key factors are \n",
    "- age\n",
    "- bmi\n",
    "- smoker"
   ]
  },
  {
   "cell_type": "markdown",
   "metadata": {},
   "source": [
    "## Linear regression with one variable"
   ]
  },
  {
   "cell_type": "markdown",
   "metadata": {},
   "source": [
    "### Plotting\n",
    "\n",
    "### Question 1\n",
    "Plot how the medical cost varies as a function of other vaiables and see whether you can spot the correlations evidenced with the function `corr()`. "
   ]
  },
  {
   "cell_type": "code",
   "execution_count": null,
   "metadata": {},
   "outputs": [],
   "source": [
    "# your answer here"
   ]
  },
  {
   "cell_type": "markdown",
   "metadata": {},
   "source": [
    "### Gradient descent algorithm\n",
    "\n",
    "We want to find a linear regression between x = age and y = charges.\n",
    "\n",
    "The linear regression consists in the hypothesis\n",
    "\n",
    "$$h_\\theta (x) = \\theta_0 + \\theta_1 x$$\n",
    "\n",
    "with the cost function\n",
    "\n",
    "$$J(\\theta_0, \\theta_1) = \\frac{1}{2N}\n",
    "\\sum_{i=1}^N \\left( h_\\theta (x^{(i)}) - y^{(i)} \\right)^2$$\n",
    "\n",
    "The iterative procedure of the gradient descent algorithm is then \n",
    "\n",
    "$$\\theta_j := \\theta_j - \\alpha \\frac{\\partial}{\\partial \\theta_j} J(\\theta)$$\n",
    "\n",
    "with $\\alpha$ the learning parameter and \n",
    "\n",
    "$$\\frac{\\partial J}{\\partial \\theta_0} = \\frac{1}{N}\n",
    "\\sum_{i=1}^N \\left( h_\\theta (x^{(i)}) - y^{(i)} \\right)$$\n",
    "\n",
    "$$\\frac{\\partial J}{\\partial \\theta_1} = \\frac{1}{N}\n",
    "\\sum_{i=1}^N \\left( h_\\theta (x^{(i)}) - y^{(i)} \\right)x^{(i)}$$"
   ]
  },
  {
   "cell_type": "markdown",
   "metadata": {},
   "source": [
    "### Question 2\n",
    "- Complete the following code to implement a gradient descent algorithm\n",
    "- Check if the learning converges for different values of $\\alpha$ (a plot of J as a function of t may help)"
   ]
  },
  {
   "cell_type": "code",
   "execution_count": null,
   "metadata": {},
   "outputs": [],
   "source": [
    "T = 100  # number of steps\n",
    "alpha = 0.001  # learning parameter\n",
    "theta0 = 1000.  # initial value\n",
    "theta1 = 200.  # initial value\n",
    "N = len(x)  \n",
    "\n",
    "#for t in range(T):\n",
    "#    for i in range(N):\n"
   ]
  },
  {
   "cell_type": "code",
   "execution_count": null,
   "metadata": {},
   "outputs": [],
   "source": [
    "# check the linear regression works\n",
    "plt.plot(x, y, '.')\n",
    "plt.plot(x, theta0 + theta1 * x)\n",
    "plt.show()"
   ]
  },
  {
   "cell_type": "markdown",
   "metadata": {},
   "source": [
    "### Evaluation of the prediction"
   ]
  },
  {
   "cell_type": "code",
   "execution_count": null,
   "metadata": {},
   "outputs": [],
   "source": [
    "def PredictionError(y, h):\n",
    "    return 0.5 * np.mean((np.array(y) - np.array(h))**2)"
   ]
  },
  {
   "cell_type": "code",
   "execution_count": null,
   "metadata": {},
   "outputs": [],
   "source": [
    "x_test = np.array(test[\"age\"])\n",
    "y_test = np.array(test[\"charges\"])\n",
    "h_test = theta0 + theta1 * x_test\n",
    "\n",
    "print(\"Mean error J: %.3e\" % PredictionError(y_test, h_test))"
   ]
  },
  {
   "cell_type": "markdown",
   "metadata": {},
   "source": [
    "### Direct method\n",
    "The parameters $\\theta_0$ and $\\theta_1$ can also be obtained by the direct method\n",
    "\n",
    "$$\\theta_1 = {\\langle (x - \\langle x \\rangle) (y - \\langle y \\rangle)} \\,/\\, {\\langle(x - \\langle x \\rangle)^2\\rangle}$$\n",
    "\n",
    "$$\\theta_0 = \\langle y \\rangle - \\theta_1 \\langle x \\rangle$$\n",
    "\n",
    "### Question 3\n",
    "Complete the code below to calculate $\\theta_0$ and $\\theta_1$ directly."
   ]
  },
  {
   "cell_type": "code",
   "execution_count": null,
   "metadata": {},
   "outputs": [],
   "source": [
    "xm = np.mean(x)\n",
    "ym = np.mean(y)\n",
    "\n",
    "#theta1direct = ...\n",
    "#theta0direct = ...\n",
    "\n",
    "#print(\"theta_0, theta_1\", theta0direct, theta1direct)\n",
    "\n",
    "plt.plot(x, y, '.')\n",
    "#plt.plot(x, theta0direct + theta1direct * x)\n",
    "plt.show()"
   ]
  },
  {
   "cell_type": "markdown",
   "metadata": {},
   "source": [
    "## Multivariable linear regression\n",
    "\n",
    "### Rescaled variables\n",
    "\n",
    "We will first rescale the variables `age`, `bmi`, `smoker` and `charges`such that they have a zero mean and unit standard deviation."
   ]
  },
  {
   "cell_type": "code",
   "execution_count": null,
   "metadata": {},
   "outputs": [],
   "source": [
    "# Input training variables\n",
    "x1 = np.array(train[\"age\"])\n",
    "x2 = np.array(train[\"bmi\"])\n",
    "x3 = np.array(train[\"smoker\"])\n",
    "y = np.array(train[\"charges\"])\n",
    "\n",
    "# testing variables\n",
    "x1test = np.array(test[\"age\"])\n",
    "x2test = np.array(test[\"bmi\"])\n",
    "x3test = np.array(test[\"smoker\"])\n",
    "ytest = np.array(test[\"charges\"])"
   ]
  },
  {
   "cell_type": "code",
   "execution_count": null,
   "metadata": {},
   "outputs": [],
   "source": [
    "# functions used to rescale variables and come back to scaled variables\n",
    "def ToRescaled(x, mean=None, std=None):\n",
    "    if mean is None:\n",
    "        mean = np.mean(x)\n",
    "    if std is None:\n",
    "        std = np.std(x)\n",
    "    x_ = (x - mean) / std\n",
    "    return x_, mean, std\n",
    "    \n",
    "def FromRescaled(x_, mean, std):\n",
    "    x = x_ * std + mean \n",
    "    return x"
   ]
  },
  {
   "cell_type": "code",
   "execution_count": null,
   "metadata": {},
   "outputs": [],
   "source": [
    "# Rescaled variables\n",
    "x_1, mean1, std1 = ToRescaled(x1)\n",
    "x_2, mean2, std2 = ToRescaled(x2)\n",
    "x_3, mean3, std3 = ToRescaled(x3)\n",
    "y_ , meany, stdy = ToRescaled(y)\n",
    "\n",
    "x_1test, _, _ = ToRescaled(x1test, mean1, std1)\n",
    "x_2test, _, _ = ToRescaled(x2test, mean2, std2)\n",
    "x_3test, _, _ = ToRescaled(x3test, mean3, std3)\n",
    "y_test , _, _ = ToRescaled(ytest , meany, stdy)"
   ]
  },
  {
   "cell_type": "markdown",
   "metadata": {},
   "source": [
    "### Question 4\n",
    "Plot the rescaled variables to check that they have a zero mean and a unit standard deviation. \n",
    "\n",
    "You can plot histograms using the command `plt.hist()` for instance"
   ]
  },
  {
   "cell_type": "code",
   "execution_count": null,
   "metadata": {},
   "outputs": [],
   "source": [
    "# your answer here"
   ]
  },
  {
   "cell_type": "markdown",
   "metadata": {},
   "source": [
    "### Gradient descent\n",
    "\n",
    "We first define the matrix X that assembles the input variable $x^{(i)}_j$. \n",
    "The first colum of X is full of 1, the remaining columns are the features. \n",
    "X is therefore a matrix of size $N\\times n$, with $N$ the number of data and $n$ the number of features (including the first constant column)."
   ]
  },
  {
   "cell_type": "code",
   "execution_count": 17,
   "metadata": {},
   "outputs": [
    {
     "data": {
      "text/plain": [
       "array([[1., 1., 1., ..., 1., 1., 1.]])"
      ]
     },
     "execution_count": 17,
     "metadata": {},
     "output_type": "execute_result"
    }
   ],
   "source": [
    "a = np.ones(shape=(len(y)))\n",
    "a[np.newaxis, :]"
   ]
  },
  {
   "cell_type": "code",
   "execution_count": 18,
   "metadata": {},
   "outputs": [
    {
     "ename": "NameError",
     "evalue": "name 'x_1' is not defined",
     "output_type": "error",
     "traceback": [
      "\u001b[1;31m---------------------------------------------------------------------------\u001b[0m",
      "\u001b[1;31mNameError\u001b[0m                                 Traceback (most recent call last)",
      "Cell \u001b[1;32mIn [18], line 3\u001b[0m\n\u001b[0;32m      1\u001b[0m X_ \u001b[38;5;241m=\u001b[39m np\u001b[38;5;241m.\u001b[39mconcatenate(\n\u001b[0;32m      2\u001b[0m     (np\u001b[38;5;241m.\u001b[39mones(shape\u001b[38;5;241m=\u001b[39m(\u001b[38;5;28mlen\u001b[39m(y),\u001b[38;5;241m1\u001b[39m)), \n\u001b[1;32m----> 3\u001b[0m      x_1[:, np\u001b[38;5;241m.\u001b[39mnewaxis], \n\u001b[0;32m      4\u001b[0m      x_2[:, np\u001b[38;5;241m.\u001b[39mnewaxis], \n\u001b[0;32m      5\u001b[0m      x_3[:, np\u001b[38;5;241m.\u001b[39mnewaxis]), axis\u001b[38;5;241m=\u001b[39m\u001b[38;5;241m1\u001b[39m)\n\u001b[0;32m      7\u001b[0m \u001b[38;5;28mprint\u001b[39m(\u001b[38;5;124m\"\u001b[39m\u001b[38;5;124mX_ is matrix with shape\u001b[39m\u001b[38;5;124m\"\u001b[39m, X_\u001b[38;5;241m.\u001b[39mshape)\n",
      "\u001b[1;31mNameError\u001b[0m: name 'x_1' is not defined"
     ]
    }
   ],
   "source": [
    "X_ = np.concatenate(\n",
    "    (np.ones(shape=(len(y),1)), \n",
    "     x_1[:, np.newaxis], \n",
    "     x_2[:, np.newaxis], \n",
    "     x_3[:, np.newaxis]), axis=1)\n",
    "\n",
    "print(\"X_ is matrix with shape\", X_.shape)"
   ]
  },
  {
   "cell_type": "markdown",
   "metadata": {},
   "source": [
    "#### Algorithm\n",
    "The multivariate linear regression consists in the hypothesis\n",
    "\n",
    "$$h_\\theta (x) = \\theta \\cdot x$$\n",
    "\n",
    "with $\\theta = [\\theta_0, \\cdots \\theta_n]^T$ and $x=[x_0, x_1, \\cdots x_n]$, with $x_0=1$\n",
    "\n",
    "with the cost function\n",
    "\n",
    "$$J(\\theta) = \\frac{1}{2N}\n",
    "\\sum_{i=1}^N \\left( h_\\theta (x^{(i)}) - y^{(i)} \\right)^2$$\n",
    "\n",
    "The iterative procedure of the gradient descent algorithm is then \n",
    "\n",
    "$$\\theta_j := \\theta_j - \\alpha \\frac{\\partial}{\\partial \\theta_j} J(\\theta)$$\n",
    "\n",
    "with $\\alpha$ the learning parameter and \n",
    "\n",
    "$$\\frac{\\partial J}{\\partial \\theta_j} = \\frac{1}{N}\n",
    "\\sum_{i=1}^N \\left( h_\\theta (x^{(i)}) - y^{(i)} \\right)x_j^{(i)}$$"
   ]
  },
  {
   "cell_type": "markdown",
   "metadata": {},
   "source": [
    "### Question 5\n",
    "- Complete the following code to implement a gradient descent algorithm\n",
    "- Check if the learning converges for different values of $\\alpha$ (a plot of J as a function of t may help)"
   ]
  },
  {
   "cell_type": "code",
   "execution_count": null,
   "metadata": {},
   "outputs": [],
   "source": [
    "T = 100  # number of steps\n",
    "alpha = 0.1  # learning parameter\n",
    "N = X_.shape[0]  # number of data points (1070 here)\n",
    "M = X_.shape[1]  # number of features/variables (4 here)\n",
    "theta = np.random.rand(M)\n",
    "\n",
    "#for t in range(T):\n",
    "#    for i range(N):"
   ]
  },
  {
   "cell_type": "code",
   "execution_count": null,
   "metadata": {},
   "outputs": [],
   "source": [
    "h_ = np.sum(theta[np.newaxis, :] * X_, axis=1)\n",
    "plt.plot(x_1, y_, '.', label='data')\n",
    "plt.plot(x_1, h_, '.', label='prediction')\n",
    "plt.xlabel('age (rescaled)')\n",
    "plt.legend()\n",
    "plt.show"
   ]
  },
  {
   "cell_type": "markdown",
   "metadata": {},
   "source": [
    "### Evaluation of the prediction"
   ]
  },
  {
   "cell_type": "code",
   "execution_count": null,
   "metadata": {},
   "outputs": [],
   "source": [
    "X_test = np.concatenate(\n",
    "    (np.ones(shape=(len(ytest),1)), \n",
    "     x_1test[:, np.newaxis], \n",
    "     x_2test[:, np.newaxis], \n",
    "     x_3test[:, np.newaxis]), axis=1)\n",
    "\n",
    "h_test = np.sum(theta[np.newaxis, :] * X_test, axis=1)\n",
    "htest = FromRescaled(h_test, meany, stdy)\n",
    "\n",
    "print(\"Mean error J: %.3e\" % PredictionError(ytest, htest))"
   ]
  },
  {
   "cell_type": "markdown",
   "metadata": {},
   "source": [
    "### Direct method\n",
    "\n",
    "The normal equation gives\n",
    "\n",
    "$$\\theta = \\left( X^T X \\right)^{-1} X^T y$$\n",
    "\n",
    "which can be implemented as follows"
   ]
  },
  {
   "cell_type": "code",
   "execution_count": null,
   "metadata": {},
   "outputs": [],
   "source": [
    "XTXinv = np.linalg.inv(np.transpose(X_).dot(X_))\n",
    "thetadirect = XTXinv.dot(np.transpose(X_).dot(y_))"
   ]
  },
  {
   "cell_type": "markdown",
   "metadata": {
    "jupyter": {
     "outputs_hidden": true
    }
   },
   "source": [
    "### Question 6\n",
    "- Compare the the parameters $\\theta$ obtained from the gradient descent algorithm and the direct method\n",
    "- Compare and comment the prediction error for the different methods"
   ]
  },
  {
   "cell_type": "code",
   "execution_count": null,
   "metadata": {},
   "outputs": [],
   "source": []
  },
  {
   "cell_type": "markdown",
   "metadata": {},
   "source": [
    "### Question 7\n",
    "Complete the following code to compare the values of the medical cost with the prediction in the space (`age`, `bmi`, `charges`), by identifying smokers with different colors."
   ]
  },
  {
   "cell_type": "code",
   "execution_count": null,
   "metadata": {},
   "outputs": [],
   "source": [
    "from mpl_toolkits.mplot3d import Axes3D\n",
    "fig = plt.figure(figsize=(8,8))\n",
    "ax = Axes3D(fig)\n",
    "\n",
    "ax.scatter(x1[x3<0.5], x2[x3<0.5], y[x3<0.5] / 1000, label='data non smokers')\n",
    "ax.scatter(x1[x3>0.5], x2[x3>0.5], y[x3>0.5] / 1000, label='data smokers')\n",
    "# ...\n",
    "\n",
    "ax.set_xlabel('age')\n",
    "ax.set_ylabel('BMI')\n",
    "ax.set_zlabel('cost (k$)')\n",
    "plt.legend()\n",
    "plt.show()"
   ]
  },
  {
   "cell_type": "code",
   "execution_count": null,
   "metadata": {},
   "outputs": [],
   "source": []
  }
 ],
 "metadata": {
  "kernelspec": {
   "display_name": "Python 3 (ipykernel)",
   "language": "python",
   "name": "python3"
  },
  "language_info": {
   "codemirror_mode": {
    "name": "ipython",
    "version": 3
   },
   "file_extension": ".py",
   "mimetype": "text/x-python",
   "name": "python",
   "nbconvert_exporter": "python",
   "pygments_lexer": "ipython3",
   "version": "3.9.8"
  }
 },
 "nbformat": 4,
 "nbformat_minor": 4
}
