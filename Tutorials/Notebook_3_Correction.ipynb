{
 "cells": [
  {
   "cell_type": "markdown",
   "metadata": {},
   "source": [
    "# Predicting key factors of USA health insurance cost\n",
    "\n",
    "The dataset can be obtained from https://www.kaggle.com/mirichoi0218/insurance\n",
    "    \n",
    "To handle the data (a table in csv format), we will use the pandas library for Python. \n",
    "Useful tutorials can be found at https://pandas.pydata.org/pandas-docs/stable/getting_started/tutorials.html"
   ]
  },
  {
   "cell_type": "code",
   "execution_count": 1,
   "metadata": {},
   "outputs": [
    {
     "ename": "ModuleNotFoundError",
     "evalue": "No module named 'matplotlib'",
     "output_type": "error",
     "traceback": [
      "\u001b[1;31m---------------------------------------------------------------------------\u001b[0m",
      "\u001b[1;31mModuleNotFoundError\u001b[0m                       Traceback (most recent call last)",
      "Cell \u001b[1;32mIn[1], line 1\u001b[0m\n\u001b[1;32m----> 1\u001b[0m \u001b[43mget_ipython\u001b[49m\u001b[43m(\u001b[49m\u001b[43m)\u001b[49m\u001b[38;5;241;43m.\u001b[39;49m\u001b[43mrun_line_magic\u001b[49m\u001b[43m(\u001b[49m\u001b[38;5;124;43m'\u001b[39;49m\u001b[38;5;124;43mmatplotlib\u001b[39;49m\u001b[38;5;124;43m'\u001b[39;49m\u001b[43m,\u001b[49m\u001b[43m \u001b[49m\u001b[38;5;124;43m'\u001b[39;49m\u001b[38;5;124;43minline\u001b[39;49m\u001b[38;5;124;43m'\u001b[39;49m\u001b[43m)\u001b[49m\n\u001b[0;32m      2\u001b[0m \u001b[38;5;28;01mimport\u001b[39;00m \u001b[38;5;21;01mnumpy\u001b[39;00m \u001b[38;5;28;01mas\u001b[39;00m \u001b[38;5;21;01mnp\u001b[39;00m\n\u001b[0;32m      3\u001b[0m \u001b[38;5;28;01mimport\u001b[39;00m \u001b[38;5;21;01mpandas\u001b[39;00m \u001b[38;5;28;01mas\u001b[39;00m \u001b[38;5;21;01mpd\u001b[39;00m\n",
      "File \u001b[1;32m~\\AppData\\Local\\Programs\\Python\\Python312\\Lib\\site-packages\\IPython\\core\\interactiveshell.py:2456\u001b[0m, in \u001b[0;36mInteractiveShell.run_line_magic\u001b[1;34m(self, magic_name, line, _stack_depth)\u001b[0m\n\u001b[0;32m   2454\u001b[0m     kwargs[\u001b[38;5;124m'\u001b[39m\u001b[38;5;124mlocal_ns\u001b[39m\u001b[38;5;124m'\u001b[39m] \u001b[38;5;241m=\u001b[39m \u001b[38;5;28mself\u001b[39m\u001b[38;5;241m.\u001b[39mget_local_scope(stack_depth)\n\u001b[0;32m   2455\u001b[0m \u001b[38;5;28;01mwith\u001b[39;00m \u001b[38;5;28mself\u001b[39m\u001b[38;5;241m.\u001b[39mbuiltin_trap:\n\u001b[1;32m-> 2456\u001b[0m     result \u001b[38;5;241m=\u001b[39m \u001b[43mfn\u001b[49m\u001b[43m(\u001b[49m\u001b[38;5;241;43m*\u001b[39;49m\u001b[43margs\u001b[49m\u001b[43m,\u001b[49m\u001b[43m \u001b[49m\u001b[38;5;241;43m*\u001b[39;49m\u001b[38;5;241;43m*\u001b[39;49m\u001b[43mkwargs\u001b[49m\u001b[43m)\u001b[49m\n\u001b[0;32m   2458\u001b[0m \u001b[38;5;66;03m# The code below prevents the output from being displayed\u001b[39;00m\n\u001b[0;32m   2459\u001b[0m \u001b[38;5;66;03m# when using magics with decorator @output_can_be_silenced\u001b[39;00m\n\u001b[0;32m   2460\u001b[0m \u001b[38;5;66;03m# when the last Python token in the expression is a ';'.\u001b[39;00m\n\u001b[0;32m   2461\u001b[0m \u001b[38;5;28;01mif\u001b[39;00m \u001b[38;5;28mgetattr\u001b[39m(fn, magic\u001b[38;5;241m.\u001b[39mMAGIC_OUTPUT_CAN_BE_SILENCED, \u001b[38;5;28;01mFalse\u001b[39;00m):\n",
      "File \u001b[1;32m~\\AppData\\Local\\Programs\\Python\\Python312\\Lib\\site-packages\\IPython\\core\\magics\\pylab.py:99\u001b[0m, in \u001b[0;36mPylabMagics.matplotlib\u001b[1;34m(self, line)\u001b[0m\n\u001b[0;32m     97\u001b[0m     \u001b[38;5;28mprint\u001b[39m(\u001b[38;5;124m\"\u001b[39m\u001b[38;5;124mAvailable matplotlib backends: \u001b[39m\u001b[38;5;132;01m%s\u001b[39;00m\u001b[38;5;124m\"\u001b[39m \u001b[38;5;241m%\u001b[39m backends_list)\n\u001b[0;32m     98\u001b[0m \u001b[38;5;28;01melse\u001b[39;00m:\n\u001b[1;32m---> 99\u001b[0m     gui, backend \u001b[38;5;241m=\u001b[39m \u001b[38;5;28;43mself\u001b[39;49m\u001b[38;5;241;43m.\u001b[39;49m\u001b[43mshell\u001b[49m\u001b[38;5;241;43m.\u001b[39;49m\u001b[43menable_matplotlib\u001b[49m\u001b[43m(\u001b[49m\u001b[43margs\u001b[49m\u001b[38;5;241;43m.\u001b[39;49m\u001b[43mgui\u001b[49m\u001b[38;5;241;43m.\u001b[39;49m\u001b[43mlower\u001b[49m\u001b[43m(\u001b[49m\u001b[43m)\u001b[49m\u001b[43m \u001b[49m\u001b[38;5;28;43;01mif\u001b[39;49;00m\u001b[43m \u001b[49m\u001b[38;5;28;43misinstance\u001b[39;49m\u001b[43m(\u001b[49m\u001b[43margs\u001b[49m\u001b[38;5;241;43m.\u001b[39;49m\u001b[43mgui\u001b[49m\u001b[43m,\u001b[49m\u001b[43m \u001b[49m\u001b[38;5;28;43mstr\u001b[39;49m\u001b[43m)\u001b[49m\u001b[43m \u001b[49m\u001b[38;5;28;43;01melse\u001b[39;49;00m\u001b[43m \u001b[49m\u001b[43margs\u001b[49m\u001b[38;5;241;43m.\u001b[39;49m\u001b[43mgui\u001b[49m\u001b[43m)\u001b[49m\n\u001b[0;32m    100\u001b[0m     \u001b[38;5;28mself\u001b[39m\u001b[38;5;241m.\u001b[39m_show_matplotlib_backend(args\u001b[38;5;241m.\u001b[39mgui, backend)\n",
      "File \u001b[1;32m~\\AppData\\Local\\Programs\\Python\\Python312\\Lib\\site-packages\\IPython\\core\\interactiveshell.py:3630\u001b[0m, in \u001b[0;36mInteractiveShell.enable_matplotlib\u001b[1;34m(self, gui)\u001b[0m\n\u001b[0;32m   3609\u001b[0m \u001b[38;5;28;01mdef\u001b[39;00m \u001b[38;5;21menable_matplotlib\u001b[39m(\u001b[38;5;28mself\u001b[39m, gui\u001b[38;5;241m=\u001b[39m\u001b[38;5;28;01mNone\u001b[39;00m):\n\u001b[0;32m   3610\u001b[0m \u001b[38;5;250m    \u001b[39m\u001b[38;5;124;03m\"\"\"Enable interactive matplotlib and inline figure support.\u001b[39;00m\n\u001b[0;32m   3611\u001b[0m \n\u001b[0;32m   3612\u001b[0m \u001b[38;5;124;03m    This takes the following steps:\u001b[39;00m\n\u001b[1;32m   (...)\u001b[0m\n\u001b[0;32m   3628\u001b[0m \u001b[38;5;124;03m        display figures inline.\u001b[39;00m\n\u001b[0;32m   3629\u001b[0m \u001b[38;5;124;03m    \"\"\"\u001b[39;00m\n\u001b[1;32m-> 3630\u001b[0m     \u001b[38;5;28;01mfrom\u001b[39;00m \u001b[38;5;21;01mmatplotlib_inline\u001b[39;00m\u001b[38;5;21;01m.\u001b[39;00m\u001b[38;5;21;01mbackend_inline\u001b[39;00m \u001b[38;5;28;01mimport\u001b[39;00m configure_inline_support\n\u001b[0;32m   3632\u001b[0m     \u001b[38;5;28;01mfrom\u001b[39;00m \u001b[38;5;21;01mIPython\u001b[39;00m\u001b[38;5;21;01m.\u001b[39;00m\u001b[38;5;21;01mcore\u001b[39;00m \u001b[38;5;28;01mimport\u001b[39;00m pylabtools \u001b[38;5;28;01mas\u001b[39;00m pt\n\u001b[0;32m   3633\u001b[0m     gui, backend \u001b[38;5;241m=\u001b[39m pt\u001b[38;5;241m.\u001b[39mfind_gui_and_backend(gui, \u001b[38;5;28mself\u001b[39m\u001b[38;5;241m.\u001b[39mpylab_gui_select)\n",
      "File \u001b[1;32m~\\AppData\\Local\\Programs\\Python\\Python312\\Lib\\site-packages\\matplotlib_inline\\__init__.py:1\u001b[0m\n\u001b[1;32m----> 1\u001b[0m \u001b[38;5;28;01mfrom\u001b[39;00m \u001b[38;5;21;01m.\u001b[39;00m \u001b[38;5;28;01mimport\u001b[39;00m backend_inline, config  \u001b[38;5;66;03m# noqa\u001b[39;00m\n\u001b[0;32m      2\u001b[0m __version__ \u001b[38;5;241m=\u001b[39m \u001b[38;5;124m\"\u001b[39m\u001b[38;5;124m0.1.6\u001b[39m\u001b[38;5;124m\"\u001b[39m  \u001b[38;5;66;03m# noqa\u001b[39;00m\n",
      "File \u001b[1;32m~\\AppData\\Local\\Programs\\Python\\Python312\\Lib\\site-packages\\matplotlib_inline\\backend_inline.py:6\u001b[0m\n\u001b[0;32m      1\u001b[0m \u001b[38;5;124;03m\"\"\"A matplotlib backend for publishing figures via display_data\"\"\"\u001b[39;00m\n\u001b[0;32m      3\u001b[0m \u001b[38;5;66;03m# Copyright (c) IPython Development Team.\u001b[39;00m\n\u001b[0;32m      4\u001b[0m \u001b[38;5;66;03m# Distributed under the terms of the BSD 3-Clause License.\u001b[39;00m\n\u001b[1;32m----> 6\u001b[0m \u001b[38;5;28;01mimport\u001b[39;00m \u001b[38;5;21;01mmatplotlib\u001b[39;00m\n\u001b[0;32m      7\u001b[0m \u001b[38;5;28;01mfrom\u001b[39;00m \u001b[38;5;21;01mmatplotlib\u001b[39;00m \u001b[38;5;28;01mimport\u001b[39;00m colors\n\u001b[0;32m      8\u001b[0m \u001b[38;5;28;01mfrom\u001b[39;00m \u001b[38;5;21;01mmatplotlib\u001b[39;00m\u001b[38;5;21;01m.\u001b[39;00m\u001b[38;5;21;01mbackends\u001b[39;00m \u001b[38;5;28;01mimport\u001b[39;00m backend_agg\n",
      "\u001b[1;31mModuleNotFoundError\u001b[0m: No module named 'matplotlib'"
     ]
    }
   ],
   "source": [
    "%matplotlib inline\n",
    "import numpy as np\n",
    "import pandas as pd\n",
    "from sklearn.model_selection import train_test_split\n",
    "import matplotlib.pyplot as plt"
   ]
  },
  {
   "cell_type": "markdown",
   "metadata": {},
   "source": [
    "## Introduction to `pandas`\n",
    "\n",
    "### Importing the database"
   ]
  },
  {
   "cell_type": "code",
   "execution_count": 53,
   "metadata": {
    "collapsed": true,
    "jupyter": {
     "outputs_hidden": true
    }
   },
   "outputs": [],
   "source": [
    "# Importing the csv data\n",
    "data = pd.read_csv(\"./Data/insurance.csv\")"
   ]
  },
  {
   "cell_type": "markdown",
   "metadata": {},
   "source": [
    "Some information on the imported database can be printed using the commands `head()`, `describe()` and `info()`"
   ]
  },
  {
   "cell_type": "code",
   "execution_count": 54,
   "metadata": {
    "collapsed": true,
    "jupyter": {
     "outputs_hidden": true
    }
   },
   "outputs": [
    {
     "data": {
      "text/html": [
       "<div>\n",
       "<style scoped>\n",
       "    .dataframe tbody tr th:only-of-type {\n",
       "        vertical-align: middle;\n",
       "    }\n",
       "\n",
       "    .dataframe tbody tr th {\n",
       "        vertical-align: top;\n",
       "    }\n",
       "\n",
       "    .dataframe thead th {\n",
       "        text-align: right;\n",
       "    }\n",
       "</style>\n",
       "<table border=\"1\" class=\"dataframe\">\n",
       "  <thead>\n",
       "    <tr style=\"text-align: right;\">\n",
       "      <th></th>\n",
       "      <th>age</th>\n",
       "      <th>sex</th>\n",
       "      <th>bmi</th>\n",
       "      <th>children</th>\n",
       "      <th>smoker</th>\n",
       "      <th>region</th>\n",
       "      <th>charges</th>\n",
       "    </tr>\n",
       "  </thead>\n",
       "  <tbody>\n",
       "    <tr>\n",
       "      <th>0</th>\n",
       "      <td>19</td>\n",
       "      <td>female</td>\n",
       "      <td>27.900</td>\n",
       "      <td>0</td>\n",
       "      <td>yes</td>\n",
       "      <td>southwest</td>\n",
       "      <td>16884.92400</td>\n",
       "    </tr>\n",
       "    <tr>\n",
       "      <th>1</th>\n",
       "      <td>18</td>\n",
       "      <td>male</td>\n",
       "      <td>33.770</td>\n",
       "      <td>1</td>\n",
       "      <td>no</td>\n",
       "      <td>southeast</td>\n",
       "      <td>1725.55230</td>\n",
       "    </tr>\n",
       "    <tr>\n",
       "      <th>2</th>\n",
       "      <td>28</td>\n",
       "      <td>male</td>\n",
       "      <td>33.000</td>\n",
       "      <td>3</td>\n",
       "      <td>no</td>\n",
       "      <td>southeast</td>\n",
       "      <td>4449.46200</td>\n",
       "    </tr>\n",
       "    <tr>\n",
       "      <th>3</th>\n",
       "      <td>33</td>\n",
       "      <td>male</td>\n",
       "      <td>22.705</td>\n",
       "      <td>0</td>\n",
       "      <td>no</td>\n",
       "      <td>northwest</td>\n",
       "      <td>21984.47061</td>\n",
       "    </tr>\n",
       "    <tr>\n",
       "      <th>4</th>\n",
       "      <td>32</td>\n",
       "      <td>male</td>\n",
       "      <td>28.880</td>\n",
       "      <td>0</td>\n",
       "      <td>no</td>\n",
       "      <td>northwest</td>\n",
       "      <td>3866.85520</td>\n",
       "    </tr>\n",
       "  </tbody>\n",
       "</table>\n",
       "</div>"
      ],
      "text/plain": [
       "   age     sex     bmi  children smoker     region      charges\n",
       "0   19  female  27.900         0    yes  southwest  16884.92400\n",
       "1   18    male  33.770         1     no  southeast   1725.55230\n",
       "2   28    male  33.000         3     no  southeast   4449.46200\n",
       "3   33    male  22.705         0     no  northwest  21984.47061\n",
       "4   32    male  28.880         0     no  northwest   3866.85520"
      ]
     },
     "execution_count": 54,
     "metadata": {},
     "output_type": "execute_result"
    }
   ],
   "source": [
    "data.head()"
   ]
  },
  {
   "cell_type": "code",
   "execution_count": 55,
   "metadata": {
    "collapsed": true,
    "jupyter": {
     "outputs_hidden": true
    }
   },
   "outputs": [
    {
     "data": {
      "text/html": [
       "<div>\n",
       "<style scoped>\n",
       "    .dataframe tbody tr th:only-of-type {\n",
       "        vertical-align: middle;\n",
       "    }\n",
       "\n",
       "    .dataframe tbody tr th {\n",
       "        vertical-align: top;\n",
       "    }\n",
       "\n",
       "    .dataframe thead th {\n",
       "        text-align: right;\n",
       "    }\n",
       "</style>\n",
       "<table border=\"1\" class=\"dataframe\">\n",
       "  <thead>\n",
       "    <tr style=\"text-align: right;\">\n",
       "      <th></th>\n",
       "      <th>age</th>\n",
       "      <th>bmi</th>\n",
       "      <th>children</th>\n",
       "      <th>charges</th>\n",
       "    </tr>\n",
       "  </thead>\n",
       "  <tbody>\n",
       "    <tr>\n",
       "      <th>count</th>\n",
       "      <td>1338.000000</td>\n",
       "      <td>1338.000000</td>\n",
       "      <td>1338.000000</td>\n",
       "      <td>1338.000000</td>\n",
       "    </tr>\n",
       "    <tr>\n",
       "      <th>mean</th>\n",
       "      <td>39.207025</td>\n",
       "      <td>30.663397</td>\n",
       "      <td>1.094918</td>\n",
       "      <td>13270.422265</td>\n",
       "    </tr>\n",
       "    <tr>\n",
       "      <th>std</th>\n",
       "      <td>14.049960</td>\n",
       "      <td>6.098187</td>\n",
       "      <td>1.205493</td>\n",
       "      <td>12110.011237</td>\n",
       "    </tr>\n",
       "    <tr>\n",
       "      <th>min</th>\n",
       "      <td>18.000000</td>\n",
       "      <td>15.960000</td>\n",
       "      <td>0.000000</td>\n",
       "      <td>1121.873900</td>\n",
       "    </tr>\n",
       "    <tr>\n",
       "      <th>25%</th>\n",
       "      <td>27.000000</td>\n",
       "      <td>26.296250</td>\n",
       "      <td>0.000000</td>\n",
       "      <td>4740.287150</td>\n",
       "    </tr>\n",
       "    <tr>\n",
       "      <th>50%</th>\n",
       "      <td>39.000000</td>\n",
       "      <td>30.400000</td>\n",
       "      <td>1.000000</td>\n",
       "      <td>9382.033000</td>\n",
       "    </tr>\n",
       "    <tr>\n",
       "      <th>75%</th>\n",
       "      <td>51.000000</td>\n",
       "      <td>34.693750</td>\n",
       "      <td>2.000000</td>\n",
       "      <td>16639.912515</td>\n",
       "    </tr>\n",
       "    <tr>\n",
       "      <th>max</th>\n",
       "      <td>64.000000</td>\n",
       "      <td>53.130000</td>\n",
       "      <td>5.000000</td>\n",
       "      <td>63770.428010</td>\n",
       "    </tr>\n",
       "  </tbody>\n",
       "</table>\n",
       "</div>"
      ],
      "text/plain": [
       "               age          bmi     children       charges\n",
       "count  1338.000000  1338.000000  1338.000000   1338.000000\n",
       "mean     39.207025    30.663397     1.094918  13270.422265\n",
       "std      14.049960     6.098187     1.205493  12110.011237\n",
       "min      18.000000    15.960000     0.000000   1121.873900\n",
       "25%      27.000000    26.296250     0.000000   4740.287150\n",
       "50%      39.000000    30.400000     1.000000   9382.033000\n",
       "75%      51.000000    34.693750     2.000000  16639.912515\n",
       "max      64.000000    53.130000     5.000000  63770.428010"
      ]
     },
     "execution_count": 55,
     "metadata": {},
     "output_type": "execute_result"
    }
   ],
   "source": [
    "data.describe()"
   ]
  },
  {
   "cell_type": "code",
   "execution_count": 56,
   "metadata": {
    "collapsed": true,
    "jupyter": {
     "outputs_hidden": true
    }
   },
   "outputs": [
    {
     "name": "stdout",
     "output_type": "stream",
     "text": [
      "<class 'pandas.core.frame.DataFrame'>\n",
      "RangeIndex: 1338 entries, 0 to 1337\n",
      "Data columns (total 7 columns):\n",
      " #   Column    Non-Null Count  Dtype  \n",
      "---  ------    --------------  -----  \n",
      " 0   age       1338 non-null   int64  \n",
      " 1   sex       1338 non-null   object \n",
      " 2   bmi       1338 non-null   float64\n",
      " 3   children  1338 non-null   int64  \n",
      " 4   smoker    1338 non-null   object \n",
      " 5   region    1338 non-null   object \n",
      " 6   charges   1338 non-null   float64\n",
      "dtypes: float64(2), int64(2), object(3)\n",
      "memory usage: 73.3+ KB\n"
     ]
    }
   ],
   "source": [
    "data.info()"
   ]
  },
  {
   "cell_type": "markdown",
   "metadata": {},
   "source": [
    "As we can see, the table 1338 entries (rows) and 7 columns named\n",
    "- age (int)\n",
    "- sex (object)\n",
    "- bmi (float): body mass index\n",
    "- children (int)\n",
    "- smoker (object)\n",
    "- region (object): the beneficiary's residential area in the US, northeast, southeast, southwest, northwest.\n",
    "- charges (charges): Individual medical costs billed by health insurance"
   ]
  },
  {
   "cell_type": "markdown",
   "metadata": {},
   "source": [
    "### Replacing text by numerical data"
   ]
  },
  {
   "cell_type": "code",
   "execution_count": 57,
   "metadata": {
    "collapsed": true,
    "jupyter": {
     "outputs_hidden": true
    }
   },
   "outputs": [
    {
     "data": {
      "text/html": [
       "<div>\n",
       "<style scoped>\n",
       "    .dataframe tbody tr th:only-of-type {\n",
       "        vertical-align: middle;\n",
       "    }\n",
       "\n",
       "    .dataframe tbody tr th {\n",
       "        vertical-align: top;\n",
       "    }\n",
       "\n",
       "    .dataframe thead th {\n",
       "        text-align: right;\n",
       "    }\n",
       "</style>\n",
       "<table border=\"1\" class=\"dataframe\">\n",
       "  <thead>\n",
       "    <tr style=\"text-align: right;\">\n",
       "      <th></th>\n",
       "      <th>age</th>\n",
       "      <th>sex</th>\n",
       "      <th>bmi</th>\n",
       "      <th>children</th>\n",
       "      <th>smoker</th>\n",
       "      <th>region</th>\n",
       "      <th>charges</th>\n",
       "    </tr>\n",
       "  </thead>\n",
       "  <tbody>\n",
       "    <tr>\n",
       "      <th>0</th>\n",
       "      <td>19</td>\n",
       "      <td>2</td>\n",
       "      <td>27.900</td>\n",
       "      <td>0</td>\n",
       "      <td>1</td>\n",
       "      <td>1</td>\n",
       "      <td>16884.92400</td>\n",
       "    </tr>\n",
       "    <tr>\n",
       "      <th>1</th>\n",
       "      <td>18</td>\n",
       "      <td>1</td>\n",
       "      <td>33.770</td>\n",
       "      <td>1</td>\n",
       "      <td>0</td>\n",
       "      <td>0</td>\n",
       "      <td>1725.55230</td>\n",
       "    </tr>\n",
       "    <tr>\n",
       "      <th>2</th>\n",
       "      <td>28</td>\n",
       "      <td>1</td>\n",
       "      <td>33.000</td>\n",
       "      <td>3</td>\n",
       "      <td>0</td>\n",
       "      <td>0</td>\n",
       "      <td>4449.46200</td>\n",
       "    </tr>\n",
       "    <tr>\n",
       "      <th>3</th>\n",
       "      <td>33</td>\n",
       "      <td>1</td>\n",
       "      <td>22.705</td>\n",
       "      <td>0</td>\n",
       "      <td>0</td>\n",
       "      <td>2</td>\n",
       "      <td>21984.47061</td>\n",
       "    </tr>\n",
       "    <tr>\n",
       "      <th>4</th>\n",
       "      <td>32</td>\n",
       "      <td>1</td>\n",
       "      <td>28.880</td>\n",
       "      <td>0</td>\n",
       "      <td>0</td>\n",
       "      <td>2</td>\n",
       "      <td>3866.85520</td>\n",
       "    </tr>\n",
       "  </tbody>\n",
       "</table>\n",
       "</div>"
      ],
      "text/plain": [
       "   age  sex     bmi  children  smoker  region      charges\n",
       "0   19    2  27.900         0       1       1  16884.92400\n",
       "1   18    1  33.770         1       0       0   1725.55230\n",
       "2   28    1  33.000         3       0       0   4449.46200\n",
       "3   33    1  22.705         0       0       2  21984.47061\n",
       "4   32    1  28.880         0       0       2   3866.85520"
      ]
     },
     "execution_count": 57,
     "metadata": {},
     "output_type": "execute_result"
    }
   ],
   "source": [
    "data = data.replace({'male': 1, 'female': 2, 'no': 0, 'yes': 1})  # for sex and smoker columns\n",
    "data = data.replace({'southeast': 0, 'southwest': 1, 'northwest': 2, 'northeast': 3})\n",
    "\n",
    "data.head()"
   ]
  },
  {
   "cell_type": "markdown",
   "metadata": {},
   "source": [
    "### Splitting the dataset between train and test data\n",
    "\n",
    "We will split the dataset between the training dataset `train` and the testing dataset `test`.\n",
    "\n",
    "The goal will be to find the best possible prediction of the medical cost given the other variables (age, sex...). To test how good the prediction is, we will use the testing set. "
   ]
  },
  {
   "cell_type": "code",
   "execution_count": 58,
   "metadata": {
    "collapsed": true,
    "jupyter": {
     "outputs_hidden": true
    }
   },
   "outputs": [],
   "source": [
    "train, test = train_test_split(data, test_size=0.2)"
   ]
  },
  {
   "cell_type": "markdown",
   "metadata": {},
   "source": [
    "### Plotting the data\n",
    "\n",
    "You can conveniently plot the data with one the following methods. "
   ]
  },
  {
   "cell_type": "code",
   "execution_count": 59,
   "metadata": {
    "collapsed": true,
    "jupyter": {
     "outputs_hidden": true
    }
   },
   "outputs": [
    {
     "data": {
      "text/plain": [
       "<AxesSubplot: xlabel='age', ylabel='charges'>"
      ]
     },
     "execution_count": 59,
     "metadata": {},
     "output_type": "execute_result"
    },
    {
     "data": {
      "image/png": "[encoded data removed]",
      "text/plain": [
       "<Figure size 432x288 with 1 Axes>"
      ]
     },
     "metadata": {
      "needs_background": "light"
     },
     "output_type": "display_data"
    }
   ],
   "source": [
    "# plot applied to the pandas object\n",
    "train.plot.scatter('age', 'charges')"
   ]
  },
  {
   "cell_type": "code",
   "execution_count": 60,
   "metadata": {},
   "outputs": [
    {
     "data": {
      "image/png": "[encoded data removed]",
      "text/plain": [
       "<Figure size 432x288 with 1 Axes>"
      ]
     },
     "metadata": {
      "needs_background": "light"
     },
     "output_type": "display_data"
    }
   ],
   "source": [
    "# plot after transforming data into numpy arrays\n",
    "x = np.array(train[\"age\"])\n",
    "y = np.array(train[\"charges\"])\n",
    "plt.scatter(x, y)\n",
    "plt.show()"
   ]
  },
  {
   "cell_type": "markdown",
   "metadata": {},
   "source": [
    "Pair-wise correlations can be computed with the function `corr()`. \n",
    "Large positive or negative correlations with the column `charges` indicate that the variable is an important factor in determining the price of medical cost. "
   ]
  },
  {
   "cell_type": "code",
   "execution_count": 61,
   "metadata": {
    "collapsed": true,
    "jupyter": {
     "outputs_hidden": true
    },
    "scrolled": true
   },
   "outputs": [
    {
     "data": {
      "text/html": [
       "<div>\n",
       "<style scoped>\n",
       "    .dataframe tbody tr th:only-of-type {\n",
       "        vertical-align: middle;\n",
       "    }\n",
       "\n",
       "    .dataframe tbody tr th {\n",
       "        vertical-align: top;\n",
       "    }\n",
       "\n",
       "    .dataframe thead th {\n",
       "        text-align: right;\n",
       "    }\n",
       "</style>\n",
       "<table border=\"1\" class=\"dataframe\">\n",
       "  <thead>\n",
       "    <tr style=\"text-align: right;\">\n",
       "      <th></th>\n",
       "      <th>age</th>\n",
       "      <th>sex</th>\n",
       "      <th>bmi</th>\n",
       "      <th>children</th>\n",
       "      <th>smoker</th>\n",
       "      <th>region</th>\n",
       "      <th>charges</th>\n",
       "    </tr>\n",
       "  </thead>\n",
       "  <tbody>\n",
       "    <tr>\n",
       "      <th>age</th>\n",
       "      <td>1.000000</td>\n",
       "      <td>0.045381</td>\n",
       "      <td>0.103565</td>\n",
       "      <td>0.048865</td>\n",
       "      <td>-0.021755</td>\n",
       "      <td>-0.003230</td>\n",
       "      <td>0.293913</td>\n",
       "    </tr>\n",
       "    <tr>\n",
       "      <th>sex</th>\n",
       "      <td>0.045381</td>\n",
       "      <td>1.000000</td>\n",
       "      <td>-0.047237</td>\n",
       "      <td>-0.015488</td>\n",
       "      <td>-0.066525</td>\n",
       "      <td>0.008890</td>\n",
       "      <td>-0.040839</td>\n",
       "    </tr>\n",
       "    <tr>\n",
       "      <th>bmi</th>\n",
       "      <td>0.103565</td>\n",
       "      <td>-0.047237</td>\n",
       "      <td>1.000000</td>\n",
       "      <td>0.004828</td>\n",
       "      <td>0.009238</td>\n",
       "      <td>-0.248236</td>\n",
       "      <td>0.209001</td>\n",
       "    </tr>\n",
       "    <tr>\n",
       "      <th>children</th>\n",
       "      <td>0.048865</td>\n",
       "      <td>-0.015488</td>\n",
       "      <td>0.004828</td>\n",
       "      <td>1.000000</td>\n",
       "      <td>0.008875</td>\n",
       "      <td>0.008933</td>\n",
       "      <td>0.068241</td>\n",
       "    </tr>\n",
       "    <tr>\n",
       "      <th>smoker</th>\n",
       "      <td>-0.021755</td>\n",
       "      <td>-0.066525</td>\n",
       "      <td>0.009238</td>\n",
       "      <td>0.008875</td>\n",
       "      <td>1.000000</td>\n",
       "      <td>-0.033161</td>\n",
       "      <td>0.791947</td>\n",
       "    </tr>\n",
       "    <tr>\n",
       "      <th>region</th>\n",
       "      <td>-0.003230</td>\n",
       "      <td>0.008890</td>\n",
       "      <td>-0.248236</td>\n",
       "      <td>0.008933</td>\n",
       "      <td>-0.033161</td>\n",
       "      <td>1.000000</td>\n",
       "      <td>-0.029633</td>\n",
       "    </tr>\n",
       "    <tr>\n",
       "      <th>charges</th>\n",
       "      <td>0.293913</td>\n",
       "      <td>-0.040839</td>\n",
       "      <td>0.209001</td>\n",
       "      <td>0.068241</td>\n",
       "      <td>0.791947</td>\n",
       "      <td>-0.029633</td>\n",
       "      <td>1.000000</td>\n",
       "    </tr>\n",
       "  </tbody>\n",
       "</table>\n",
       "</div>"
      ],
      "text/plain": [
       "               age       sex       bmi  children    smoker    region   charges\n",
       "age       1.000000  0.045381  0.103565  0.048865 -0.021755 -0.003230  0.293913\n",
       "sex       0.045381  1.000000 -0.047237 -0.015488 -0.066525  0.008890 -0.040839\n",
       "bmi       0.103565 -0.047237  1.000000  0.004828  0.009238 -0.248236  0.209001\n",
       "children  0.048865 -0.015488  0.004828  1.000000  0.008875  0.008933  0.068241\n",
       "smoker   -0.021755 -0.066525  0.009238  0.008875  1.000000 -0.033161  0.791947\n",
       "region   -0.003230  0.008890 -0.248236  0.008933 -0.033161  1.000000 -0.029633\n",
       "charges   0.293913 -0.040839  0.209001  0.068241  0.791947 -0.029633  1.000000"
      ]
     },
     "execution_count": 61,
     "metadata": {},
     "output_type": "execute_result"
    }
   ],
   "source": [
    "train.corr()"
   ]
  },
  {
   "cell_type": "markdown",
   "metadata": {},
   "source": [
    "From these values, we see that the three key factors are \n",
    "- age\n",
    "- bmi\n",
    "- smoker"
   ]
  },
  {
   "cell_type": "markdown",
   "metadata": {},
   "source": [
    "## Linear regression with one variable"
   ]
  },
  {
   "cell_type": "markdown",
   "metadata": {},
   "source": [
    "### Plotting\n",
    "\n",
    "### Question 1\n",
    "Plot how the medical cost varies as a function of other vaiables and see whether you can spot the correlations evidenced with the function `corr()`. "
   ]
  },
  {
   "cell_type": "code",
   "execution_count": 62,
   "metadata": {},
   "outputs": [],
   "source": [
    "# your answer here"
   ]
  },
  {
   "cell_type": "markdown",
   "metadata": {},
   "source": [
    "### Gradient descent algorithm\n",
    "\n",
    "We want to find a linear regression between x = age and y = charges.\n",
    "\n",
    "The linear regression consists in the hypothesis\n",
    "\n",
    "$$h_\\theta (x) = \\theta_0 + \\theta_1 x$$\n",
    "\n",
    "with the cost function\n",
    "\n",
    "$$J(\\theta_0, \\theta_1) = \\frac{1}{2N}\n",
    "\\sum_{i=1}^N \\left( h_\\theta (x^{(i)}) - y^{(i)} \\right)^2$$\n",
    "\n",
    "The iterative procedure of the gradient descent algorithm is then \n",
    "\n",
    "$$\\theta_j := \\theta_j - \\alpha \\frac{\\partial}{\\partial \\theta_j} J(\\theta)$$\n",
    "\n",
    "with $\\alpha$ the learning parameter and \n",
    "\n",
    "$$\\frac{\\partial J}{\\partial \\theta_0} = \\frac{1}{N}\n",
    "\\sum_{i=1}^N \\left( h_\\theta (x^{(i)}) - y^{(i)} \\right)$$\n",
    "\n",
    "$$\\frac{\\partial J}{\\partial \\theta_1} = \\frac{1}{N}\n",
    "\\sum_{i=1}^N \\left( h_\\theta (x^{(i)}) - y^{(i)} \\right)x^{(i)}$$"
   ]
  },
  {
   "cell_type": "markdown",
   "metadata": {},
   "source": [
    "### Question 2\n",
    "- Complete the following code to implement a gradient descent algorithm\n",
    "- Check if the learning converges for different values of $\\alpha$ (a plot of J as a function of t may help)"
   ]
  },
  {
   "cell_type": "code",
   "execution_count": 63,
   "metadata": {
    "collapsed": true,
    "jupyter": {
     "outputs_hidden": true
    },
    "tags": []
   },
   "outputs": [
    {
     "name": "stdout",
     "output_type": "stream",
     "text": [
      "t 0   J 79523748.06953378 theta0, theta1 1004.6395787416355 392.59084518292525\n",
      "t 1   J 74501973.1587091 theta0, theta1 1001.7389961059982 252.10778114999468\n",
      "t 2   J 71830368.55244821 theta0, theta1 1004.3380093415972 354.5625282300438\n",
      "t 3   J 70409046.96474236 theta0, theta1 1002.9256661422285 279.82303188467085\n",
      "t 4   J 69652871.91243316 theta0, theta1 1004.4390752430642 334.325666619848\n",
      "t 5   J 69250552.67666364 theta0, theta1 1003.8184407424411 294.56153658700805\n",
      "t 6   J 69036483.60057218 theta0, theta1 1004.7542820800148 323.55380313214954\n",
      "t 7   J 68922563.00966763 theta0, theta1 1004.5548041826258 302.39645567167184\n",
      "t 8   J 68861921.0977166 theta0, theta1 1005.1833514722748 317.81728942271843\n",
      "t 9   J 68829623.27920593 theta0, theta1 1005.2078976671376 306.5586908606327\n",
      "t 10   J 68812404.43518768 theta0, theta1 1005.6729356591702 314.75956688134863\n",
      "t 11   J 68803207.56523061 theta0, theta1 1005.8166320940676 308.7670714327857\n",
      "t 12   J 68798278.36789934 theta0, theta1 1006.1946538179968 313.1269539395679\n",
      "t 13   J 68795619.56695649 theta0, theta1 1006.4017079491471 309.93600901180554\n",
      "t 14   J 68794168.61789359 theta0, theta1 1006.7334074563959 312.2524960524474\n",
      "t 15   J 68793360.2504624 theta0, theta1 1006.9741378375546 310.55196762732555\n",
      "t 16   J 68792893.74271527 theta0, theta1 1007.2811642388426 311.7813755562607\n",
      "t 17   J 68792609.11154519 theta0, theta1 1007.5397804433062 310.8737445713616\n",
      "t 18   J 68792421.24645446 theta0, theta1 1007.8336510024193 311.5248305997756\n",
      "t 19   J 68792284.86893143 theta0, theta1 1008.1017525810055 311.0390191669566\n",
      "t 20   J 68792175.89095172 theta0, theta1 1008.3885944518883 311.3824404875912\n",
      "t 21   J 68792081.49776278 theta0, theta1 1008.6617123995826 311.121036368911\n",
      "t 22   J 68791994.8719557 theta0, theta1 1008.9447852151542 311.300781733838\n",
      "t 23   J 68791912.38668872 theta0, theta1 1009.2205420425382 311.1587622562645\n",
      "t 24   J 68791832.11249225 theta0, theta1 1009.501579923794 311.2514332163005\n",
      "t 25   J 68791753.02289253 theta0, theta1 1009.7787108209883 311.17292665688444\n",
      "t 26   J 68791674.57180703 theta0, theta1 1010.0586363215065 311.2192749894613\n",
      "t 27   J 68791596.4687196 theta0, theta1 1010.3364684205505 311.1745577719239\n",
      "t 28   J 68791518.55907494 theta0, theta1 1010.6157723426633 311.1962632908395\n",
      "t 29   J 68791440.76064809 theta0, theta1 1010.8939476867839 311.16952256846315\n",
      "t 30   J 68791363.02969365 theta0, theta1 1011.1728911425539 311.1781188644708\n",
      "t 31   J 68791285.34293726 theta0, theta1 1011.4512193067105 311.16094225372854\n",
      "t 32   J 68791207.68799557 theta0, theta1 1011.7299412137173 311.1625651596976\n",
      "t 33   J 68791130.05827816 theta0, theta1 1012.0083208992083 311.15047729957365\n",
      "t 34   J 68791052.45027755 theta0, theta1 1012.2868951679596 311.14839105861597\n",
      "t 35   J 68790974.86212581 theta0, theta1 1012.5652724910066 311.13901107135297\n",
      "t 36   J 68790897.29282698 theta0, theta1 1012.8437384484564 311.13495225010524\n",
      "t 37   J 68790819.74184966 theta0, theta1 1013.122084749865 311.1270135162732\n",
      "t 38   J 68790742.20890903 theta0, theta1 1013.400463324627 311.1219059624228\n",
      "t 39   J 68790664.69385175 theta0, theta1 1013.6787633645988 311.1147346444227\n",
      "t 40   J 68790587.19659449 theta0, theta1 1013.9570656974273 311.10906984180065\n",
      "t 41   J 68790509.71709083 theta0, theta1 1014.2353113752375 311.10230746005266\n",
      "t 42   J 68790432.2553144 theta0, theta1 1014.5135433997758 311.09634687631575\n",
      "t 43   J 68790354.81124896 theta0, theta1 1014.7917304126622 311.0898027206875\n",
      "t 44   J 68790277.38488421 theta0, theta1 1015.0698952923857 311.0836854556307\n",
      "t 45   J 68790199.97621287 theta0, theta1 1015.3480213580882 311.07725806879387\n",
      "t 46   J 68790122.58522873 theta0, theta1 1015.6261207827506 311.0710581229048\n",
      "t 47   J 68790045.21192726 theta0, theta1 1015.9041846939085 311.0646935297348\n",
      "t 48   J 68789967.8563036 theta0, theta1 1016.1822195692465 311.0584502708802\n",
      "t 49   J 68789890.5183534 theta0, theta1 1016.4602206903402 311.0521197566313\n",
      "t 50   J 68789813.19807261 theta0, theta1 1016.7381915049946 311.0458541282352\n",
      "t 51   J 68789735.89545713 theta0, theta1 1017.0161295047207 311.0395424166017\n",
      "t 52   J 68789658.61050291 theta0, theta1 1017.294036525437 311.0332655603444\n",
      "t 53   J 68789581.3432058 theta0, theta1 1017.5719112343328 311.0269645242273\n",
      "t 54   J 68789504.09356166 theta0, theta1 1017.8497546098075 311.020682367293\n",
      "t 55   J 68789426.86156674 theta0, theta1 1018.127565944507 311.0143876829482\n",
      "t 56   J 68789349.64721686 theta0, theta1 1018.4053457606332 311.00810337842614\n",
      "t 57   J 68789272.4505079 theta0, theta1 1018.6830936835723 311.0018127454822\n",
      "t 58   J 68789195.27143574 theta0, theta1 1018.9608099928305 310.995527970652\n",
      "t 59   J 68789118.10999663 theta0, theta1 1019.2384944908102 310.9892401651651\n",
      "t 60   J 68789040.96618652 theta0, theta1 1019.5161473279037 310.98295581218053\n",
      "t 61   J 68788963.84000117 theta0, theta1 1019.7937684006854 310.97667018286296\n",
      "t 62   J 68788886.73143665 theta0, theta1 1020.0713577908588 310.9703867261935\n",
      "t 63   J 68788809.64048907 theta0, theta1 1020.3489154450971 310.9641029264087\n",
      "t 64   J 68788732.56715415 theta0, theta1 1020.6264414085613 310.95782061831704\n",
      "t 65   J 68788655.51142804 theta0, theta1 1020.9039356545766 310.9515384635021\n",
      "t 66   J 68788578.47330672 theta0, theta1 1021.1813982088631 310.94525743803763\n",
      "t 67   J 68788501.45278612 theta0, theta1 1021.4588290589245 310.9389768298521\n",
      "t 68   J 68788424.44986217 theta0, theta1 1021.736228220138 310.9326971581754\n",
      "t 69   J 68788347.46453093 theta0, theta1 1022.0135956875495 310.9264180441491\n",
      "t 70   J 68788270.49678837 theta0, theta1 1022.2909314710336 310.92013976396385\n",
      "t 71   J 68788193.54663041 theta0, theta1 1022.5682355696484 310.91386211602946\n",
      "t 72   J 68788116.61405298 theta0, theta1 1022.8455079903407 310.9075852472405\n",
      "t 73   J 68788039.69905244 theta0, theta1 1023.1227487343027 310.901309050313\n",
      "t 74   J 68787962.80162424 theta0, theta1 1023.3999578069232 310.8950336033563\n",
      "t 75   J 68787885.92176476 theta0, theta1 1023.6771352105293 310.88875884925716\n",
      "t 76   J 68787809.0594697 theta0, theta1 1023.9542809496804 310.88248482953134\n",
      "t 77   J 68787732.21473528 theta0, theta1 1024.2313950273071 310.87621151375635\n",
      "t 78   J 68787655.38755745 theta0, theta1 1024.5084774475276 310.8699389239802\n",
      "t 79   J 68787578.57793212 theta0, theta1 1024.785528213593 310.8636670439799\n",
      "t 80   J 68787501.78585523 theta0, theta1 1025.0625473293856 310.8573958854466\n",
      "t 81   J 68787425.01132293 theta0, theta1 1025.3395347983271 310.85112543971144\n",
      "t 82   J 68787348.2543311 theta0, theta1 1025.6164906241747 310.8448557129557\n",
      "t 83   J 68787271.5148758 theta0, theta1 1025.8934148104397 310.8385867005294\n",
      "t 84   J 68787194.792953 theta0, theta1 1026.170307360812 310.8323184056827\n",
      "t 85   J 68787118.08855861 theta0, theta1 1026.447168278851 310.8260508259034\n",
      "t 86   J 68787041.40168871 theta0, theta1 1026.7239975682103 310.8197839628824\n",
      "t 87   J 68786964.73233943 theta0, theta1 1027.0007952324738 310.81351781524495\n",
      "t 88   J 68786888.08050647 theta0, theta1 1027.277561275276 310.8072523838523\n",
      "t 89   J 68786811.44618586 theta0, theta1 1027.5542957002135 310.8009876679348\n",
      "t 90   J 68786734.82937399 theta0, theta1 1027.8309985109097 310.7947236679125\n",
      "t 91   J 68786658.23006648 theta0, theta1 1028.1076697109681 310.78846038333756\n",
      "t 92   J 68786581.64825925 theta0, theta1 1028.384309304006 310.78219781439515\n",
      "t 93   J 68786505.08394873 theta0, theta1 1028.6609172936296 310.77593596080897\n",
      "t 94   J 68786428.5371307 theta0, theta1 1028.9374936834527 310.76967482263916\n",
      "t 95   J 68786352.00780109 theta0, theta1 1029.2140384770826 310.76341439970054\n",
      "t 96   J 68786275.49595594 theta0, theta1 1029.490551678131 310.75715469198684\n",
      "t 97   J 68786199.00159122 theta0, theta1 1029.7670332902055 310.75089569936125\n",
      "t 98   J 68786122.5247029 theta0, theta1 1030.0434833169159 310.7446374217824\n",
      "t 99   J 68786046.06528729 theta0, theta1 1030.3199017618697 310.7383798591391\n"
     ]
    },
    {
     "data": {
      "image/png": "[encoded data removed]",
      "text/plain": [
       "<Figure size 432x288 with 1 Axes>"
      ]
     },
     "metadata": {
      "needs_background": "light"
     },
     "output_type": "display_data"
    }
   ],
   "source": [
    "T = 100  # number of steps\n",
    "alpha = 0.001  # learning parameter\n",
    "theta0 = 1000.  # initial value\n",
    "theta1 = 200.  # initial value\n",
    "N = len(x)  \n",
    "Jtable = []\n",
    "\n",
    "#for t in range(T):\n",
    "#    for i in range(N):\n",
    "for t in range(T):\n",
    "    J = 0\n",
    "    dJ0 = 0\n",
    "    dJ1 = 0\n",
    "    for i in range(N):\n",
    "        h_minus_y = theta0 + theta1 * x[i] - y[i]\n",
    "        J += h_minus_y**2 / (2 * N)\n",
    "        dJ0 += h_minus_y /N\n",
    "        dJ1 += h_minus_y * x[i] /N\n",
    "    theta0 -= alpha * dJ0\n",
    "    theta1 -= alpha * dJ1\n",
    "    Jtable.append(J)\n",
    "    print('t', t, '  J', J,  'theta0, theta1', theta0, theta1)\n",
    "plt.plot(Jtable)\n",
    "plt.show()"
   ]
  },
  {
   "cell_type": "code",
   "execution_count": 64,
   "metadata": {
    "tags": []
   },
   "outputs": [
    {
     "data": {
      "image/png": "[encoded data removed]",
      "text/plain": [
       "<Figure size 432x288 with 1 Axes>"
      ]
     },
     "metadata": {
      "needs_background": "light"
     },
     "output_type": "display_data"
    }
   ],
   "source": [
    "# check the linear regression works\n",
    "plt.plot(x,y,'.')\n",
    "plt.plot(x,theta0 + theta1 * x)\n",
    "plt.show()"
   ]
  },
  {
   "cell_type": "markdown",
   "metadata": {},
   "source": [
    "### Evaluation of the prediction"
   ]
  },
  {
   "cell_type": "code",
   "execution_count": 65,
   "metadata": {
    "collapsed": true,
    "jupyter": {
     "outputs_hidden": true
    }
   },
   "outputs": [],
   "source": [
    "def EvaluationError(y, h):\n",
    "    N = len(y)\n",
    "    assert len(h)==N, 'The two vectors do not have the same length.'\n",
    "    J = 0\n",
    "    for i in range(N):\n",
    "        h_minus_y = h[i] - y[i]\n",
    "        J += h_minus_y**2 / (2 * N)\n",
    "    return J"
   ]
  },
  {
   "cell_type": "code",
   "execution_count": 66,
   "metadata": {},
   "outputs": [],
   "source": [
    "def PredictionError(y, h):\n",
    "    return 0.5 * np.mean((np.array(y) - np.array(h))**2)"
   ]
  },
  {
   "cell_type": "code",
   "execution_count": 67,
   "metadata": {
    "tags": []
   },
   "outputs": [
    {
     "name": "stdout",
     "output_type": "stream",
     "text": [
      "Mean error J: 5.987e+07\n",
      "Mean error J: 5.987e+07\n"
     ]
    }
   ],
   "source": [
    "x_test = np.array(test[\"age\"])\n",
    "y_test = np.array(test[\"charges\"])\n",
    "h_test = theta0 + theta1 * x_test\n",
    "\n",
    "print(\"Mean error J: %.3e\" % EvaluationError(y_test, h_test))\n",
    "print(\"Mean error J: %.3e\" % PredictionError(y_test, h_test))"
   ]
  },
  {
   "cell_type": "markdown",
   "metadata": {},
   "source": [
    "### Direct method\n",
    "The parameters $\\theta_0$ and $\\theta_1$ can also be obtained by the direct method\n",
    "\n",
    "$\\theta_1 = {\\langle (x - \\langle x \\rangle) (y - \\langle y \\rangle)} \\,/\\, {\\langle(x - \\langle x \\rangle)^2\\rangle}$\n",
    "\n",
    "$\\theta_0 = \\langle y \\rangle - \\theta_1 \\langle x \\rangle$\n",
    "\n",
    "### Question 4\n",
    "Complete the code below to calculate $\\theta_0$ and $\\theta_1$ directly."
   ]
  },
  {
   "cell_type": "code",
   "execution_count": 68,
   "metadata": {
    "tags": []
   },
   "outputs": [
    {
     "name": "stdout",
     "output_type": "stream",
     "text": [
      "theta_0, theta_1 3449.664670391572 255.96923652202307\n"
     ]
    },
    {
     "data": {
      "image/png": "[encoded data removed]",
      "text/plain": [
       "<Figure size 432x288 with 1 Axes>"
      ]
     },
     "metadata": {
      "needs_background": "light"
     },
     "output_type": "display_data"
    }
   ],
   "source": [
    "xm = np.mean(x)\n",
    "ym = np.mean(y)\n",
    "\n",
    "theta_1 = np.mean((x - xm) * (y - ym)) / np.mean((x - xm)**2)\n",
    "theta_0 = ym - theta_1 * xm\n",
    "\n",
    "print(\"theta_0, theta_1\", theta_0, theta_1)\n",
    "\n",
    "plt.plot(x, y, '.')\n",
    "plt.plot(x, theta_0 + theta_1 * x)\n",
    "plt.show()"
   ]
  },
  {
   "cell_type": "markdown",
   "metadata": {},
   "source": [
    "## Multivariable linear regression\n",
    "\n",
    "### Rescaled variables"
   ]
  },
  {
   "cell_type": "code",
   "execution_count": 69,
   "metadata": {
    "collapsed": true,
    "jupyter": {
     "outputs_hidden": true
    }
   },
   "outputs": [],
   "source": [
    "# Input variables\n",
    "x0 = np.array(train[\"age\"])\n",
    "x1 = np.array(train[\"bmi\"])\n",
    "x2 = np.array(train[\"smoker\"])\n",
    "y = np.array(train[\"charges\"])\n",
    "\n",
    "x0test = np.array(test[\"age\"])\n",
    "x1test = np.array(test[\"bmi\"])\n",
    "x2test = np.array(test[\"smoker\"])\n",
    "ytest = np.array(test[\"charges\"])"
   ]
  },
  {
   "cell_type": "code",
   "execution_count": 70,
   "metadata": {
    "collapsed": true,
    "jupyter": {
     "outputs_hidden": true
    }
   },
   "outputs": [],
   "source": [
    "def ToRescaled(x, mean=None, std=None):\n",
    "    if mean is None:\n",
    "        mean = np.mean(x)\n",
    "    if std is None:\n",
    "        std = np.std(x)\n",
    "    x_ = (x - mean) / std\n",
    "    return x_, mean, std\n",
    "    \n",
    "def FromRescaled(x_, mean, std):\n",
    "    x = x_ * std + mean \n",
    "    return x"
   ]
  },
  {
   "cell_type": "code",
   "execution_count": 71,
   "metadata": {
    "collapsed": true,
    "jupyter": {
     "outputs_hidden": true
    }
   },
   "outputs": [],
   "source": [
    "x_0, mean0, std0 = ToRescaled(x0)\n",
    "x_1, mean1, std1 = ToRescaled(x1)\n",
    "x_2, mean2, std2 = ToRescaled(x2)\n",
    "y_ , meany, stdy = ToRescaled(y)\n",
    "\n",
    "x_0test, _, _ = ToRescaled(x0test, mean0, std0)\n",
    "x_1test, _, _ = ToRescaled(x1test, mean1, std1)\n",
    "x_2test, _, _ = ToRescaled(x2test, mean2, std2)\n",
    "y_test , _, _ = ToRescaled(ytest , meany, stdy)"
   ]
  },
  {
   "cell_type": "code",
   "execution_count": 72,
   "metadata": {
    "collapsed": true,
    "jupyter": {
     "outputs_hidden": true
    }
   },
   "outputs": [
    {
     "data": {
      "image/png": "[encoded data removed]",
      "text/plain": [
       "<Figure size 432x288 with 1 Axes>"
      ]
     },
     "metadata": {
      "needs_background": "light"
     },
     "output_type": "display_data"
    }
   ],
   "source": [
    "plt.plot(x_0, y_, '.', label=\"x_0\")\n",
    "plt.plot(x_1, y_, '.', label=\"x_1\")\n",
    "plt.plot(x_2, y_, '.', label=\"x_2\")\n",
    "plt.legend()\n",
    "plt.ylabel('y_')\n",
    "plt.show()"
   ]
  },
  {
   "cell_type": "markdown",
   "metadata": {},
   "source": [
    "### Gradient descent"
   ]
  },
  {
   "cell_type": "code",
   "execution_count": 73,
   "metadata": {
    "collapsed": true,
    "jupyter": {
     "outputs_hidden": true
    }
   },
   "outputs": [],
   "source": [
    "X_ = np.concatenate(\n",
    "    (np.ones(shape=(len(y),1)), \n",
    "     x_0[:, np.newaxis],  \n",
    "     x_1[:, np.newaxis], \n",
    "     x2[:, np.newaxis]), axis=1)"
   ]
  },
  {
   "cell_type": "code",
   "execution_count": 79,
   "metadata": {
    "collapsed": true,
    "jupyter": {
     "outputs_hidden": true
    }
   },
   "outputs": [
    {
     "name": "stdout",
     "output_type": "stream",
     "text": [
      "t 0   J 0.805071808022866 theta [0.07439681 0.51130086 0.89324942 0.07733181]\n",
      "t 10   J 0.38559079568886445 theta [-0.0056573   0.33072286  0.42041121  0.35157048]\n",
      "t 20   J 0.28933579596305004 theta [-0.06866878  0.28788185  0.26112906  0.58669601]\n",
      "t 30   J 0.24120654419127743 theta [-0.12066972  0.28053624  0.20639302  0.78757935]\n",
      "t 40   J 0.20862308019168396 theta [-0.16443413  0.28125208  0.18698699  0.95893539]\n",
      "t 50   J 0.18523945815642912 theta [-0.20154982  0.28321473  0.17972323  1.10500076]\n",
      "t 60   J 0.16829941463590584 theta [-0.23311802  0.28498909  0.17673163  1.22946904]\n",
      "t 70   J 0.1560085169090516 theta [-0.2599965   0.28640826  0.17530006  1.33551885]\n",
      "t 80   J 0.14708848493354001 theta [-0.2828907   0.28754001  0.17447598  1.4258702 ]\n",
      "t 90   J 0.14061453092159296 theta [-0.30239378  0.2884612   0.17391575  1.50284485]\n",
      "t 100   J 0.13591584268701895 theta [-0.31900879  0.28922522  0.17348995  1.56842248]\n",
      "t 110   J 0.13250560702780503 theta [-0.33316356  0.28986676  0.17314608  1.62429026]\n",
      "t 120   J 0.1300305095902862 theta [-0.34522245  0.29040927  0.17286013  1.6718858 ]\n",
      "t 130   J 0.12823412119937316 theta [-0.35549579  0.29086975  0.17261914  1.7124339 ]\n",
      "t 140   J 0.12693032957972294 theta [-0.36424796  0.29126135  0.17241481  1.74697806]\n",
      "t 150   J 0.12598405726963843 theta [-0.3717042   0.29159468  0.17224112  1.77640728]\n",
      "t 160   J 0.1252972670863859 theta [-0.3780564   0.29187853  0.17209329  1.80147892]\n",
      "t 170   J 0.12479880512057967 theta [-0.38346803  0.29212031  0.1719674   1.8228382 ]\n",
      "t 180   J 0.12443702893708009 theta [-0.38807836  0.29232627  0.17186017  1.84103482]\n",
      "t 190   J 0.12417445723467027 theta [-0.39200604  0.29250173  0.17176883  1.85653707]\n"
     ]
    },
    {
     "data": {
      "image/png": "[encoded data removed]",
      "text/plain": [
       "<Figure size 432x288 with 1 Axes>"
      ]
     },
     "metadata": {
      "needs_background": "light"
     },
     "output_type": "display_data"
    }
   ],
   "source": [
    "T = 200  # number of steps\n",
    "alpha = 0.1  # learning parameter\n",
    "N = X_.shape[0]  # number of data points (1070 here)\n",
    "M = X_.shape[1]  # number of features/variables (4 here)\n",
    "theta = np.random.rand(M)\n",
    "Jtable = []\n",
    "\n",
    "for t in range(T):\n",
    "    h_minus_y = np.sum(theta[np.newaxis, :] * X_, axis=1) - y_\n",
    "    J = np.sum(h_minus_y**2) / (2 * N)\n",
    "    dJ = np.sum(h_minus_y[:, np.newaxis] * X_, axis=0) / N\n",
    "    theta -= alpha * dJ\n",
    "    Jtable.append(J)\n",
    "    if t % 10==0:\n",
    "        print('t', t, '  J', J,  'theta', theta)\n",
    "plt.plot(Jtable)\n",
    "plt.show()"
   ]
  },
  {
   "cell_type": "code",
   "execution_count": 80,
   "metadata": {},
   "outputs": [
    {
     "data": {
      "text/plain": [
       "(4,)"
      ]
     },
     "execution_count": 80,
     "metadata": {},
     "output_type": "execute_result"
    }
   ],
   "source": [
    "dJ.shape"
   ]
  },
  {
   "cell_type": "code",
   "execution_count": 81,
   "metadata": {
    "collapsed": true,
    "jupyter": {
     "outputs_hidden": true
    }
   },
   "outputs": [
    {
     "data": {
      "text/plain": [
       "<function matplotlib.pyplot.show(close=None, block=None)>"
      ]
     },
     "execution_count": 81,
     "metadata": {},
     "output_type": "execute_result"
    },
    {
     "data": {
      "image/png": "[encoded data removed]",
      "text/plain": [
       "<Figure size 432x288 with 1 Axes>"
      ]
     },
     "metadata": {
      "needs_background": "light"
     },
     "output_type": "display_data"
    }
   ],
   "source": [
    "h_ = np.sum(theta[np.newaxis, :] * X_, axis=1)\n",
    "plt.plot(x_0, y_, '.', label='data')\n",
    "plt.plot(x_0, h_, '.', label='prediction')\n",
    "plt.xlabel('age (rescaled)')\n",
    "plt.legend()\n",
    "plt.show"
   ]
  },
  {
   "cell_type": "code",
   "execution_count": 82,
   "metadata": {
    "collapsed": true,
    "jupyter": {
     "outputs_hidden": true
    }
   },
   "outputs": [
    {
     "name": "stdout",
     "output_type": "stream",
     "text": [
      "Mean error J: 1.861e+07\n"
     ]
    }
   ],
   "source": [
    "X_test = np.concatenate(\n",
    "    (np.ones(shape=(len(ytest),1)), \n",
    "     x_0test[:, np.newaxis], \n",
    "     x_1test[:, np.newaxis], \n",
    "     x2test[:, np.newaxis]), axis=1)\n",
    "\n",
    "h_test = np.sum(theta[np.newaxis, :] * X_test, axis=1)\n",
    "htest = FromRescaled(h_test, meany, stdy)\n",
    "\n",
    "print(\"Mean error J: %.3e\" % EvaluationError(ytest, htest))"
   ]
  },
  {
   "cell_type": "markdown",
   "metadata": {},
   "source": [
    "### Direct method"
   ]
  },
  {
   "cell_type": "code",
   "execution_count": 31,
   "metadata": {
    "collapsed": true,
    "jupyter": {
     "outputs_hidden": true
    }
   },
   "outputs": [],
   "source": [
    "XTXinv = np.linalg.inv(np.transpose(X_).dot(X_))"
   ]
  },
  {
   "cell_type": "code",
   "execution_count": 35,
   "metadata": {
    "tags": []
   },
   "outputs": [
    {
     "name": "stdout",
     "output_type": "stream",
     "text": [
      "[-0.40370232  0.30207063  0.15863494  1.95457683]\n",
      "[-0.38729433  0.30181738  0.15912205  1.88752428]\n"
     ]
    }
   ],
   "source": [
    "thetadirect = XTXinv.dot(np.transpose(X_).dot(y_))\n",
    "print(thetadirect)\n",
    "print(theta)"
   ]
  },
  {
   "cell_type": "code",
   "execution_count": 36,
   "metadata": {
    "tags": []
   },
   "outputs": [
    {
     "name": "stdout",
     "output_type": "stream",
     "text": [
      "Mean error J: 1.836e+07\n"
     ]
    }
   ],
   "source": [
    "h_test = np.sum(thetadirect[np.newaxis, :] * X_test, axis=1)\n",
    "htest = FromRescaled(h_test, meany, stdy)\n",
    "\n",
    "print(\"Mean error J: %.3e\" % EvaluationError(ytest, htest))"
   ]
  },
  {
   "cell_type": "code",
   "execution_count": null,
   "metadata": {
    "tags": []
   },
   "outputs": [],
   "source": []
  }
 ],
 "metadata": {
  "kernelspec": {
   "display_name": "Python 3 (ipykernel)",
   "language": "python",
   "name": "python3"
  },
  "language_info": {
   "codemirror_mode": {
    "name": "ipython",
    "version": 3
   },
   "file_extension": ".py",
   "mimetype": "text/x-python",
   "name": "python",
   "nbconvert_exporter": "python",
   "pygments_lexer": "ipython3",
   "version": "3.12.0"
  }
 },
 "nbformat": 4,
 "nbformat_minor": 4
}
