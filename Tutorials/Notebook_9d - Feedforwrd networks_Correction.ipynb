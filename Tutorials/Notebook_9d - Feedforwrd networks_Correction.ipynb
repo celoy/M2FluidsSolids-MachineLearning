{
 "cells": [
  {
   "cell_type": "markdown",
   "metadata": {},
   "source": [
    "# Feedforward networks\n",
    "Notebbok inspired by [Pytorch official tutorials](https://pytorch.org/tutorials/)\n",
    "\n",
    "This sections covers:\n",
    "- simple way of building a feedforward fully connected network\n",
    "- usage of <tt>nn.Sequential</tt> to build a model \n",
    "\n",
    "To begin we want to discuss subclasses of <tt>torch.nn.Module</tt>, which is the PyTorch base class meant to encapsulate behaviors specific to PyTorch Models and their components.\n",
    "\n",
    "One important behavior of torch.nn.Module is registering parameters. If a particular Module subclass has learning weights, these weights are expressed as instances of torch.nn.Parameter. The Parameter class is a subclass of torch.Tensor, with the special behavior that when they are assigned as attributes of a Module, they are added to the list of that modules parameters. These parameters may be accessed through the parameters() method on the Module class.\n",
    "\n",
    "## Perform standard imports"
   ]
  },
  {
   "cell_type": "code",
   "execution_count": 4,
   "metadata": {},
   "outputs": [],
   "source": [
    "import torch\n",
    "from torch import nn\n"
   ]
  },
  {
   "cell_type": "markdown",
   "metadata": {},
   "source": [
    "## Simple tiny model\n",
    "As a simple example, here’s a very simple model with two linear layers and an activation function. "
   ]
  },
  {
   "cell_type": "code",
   "execution_count": 5,
   "metadata": {},
   "outputs": [],
   "source": [
    "class TinyModel(torch.nn.Module):\n",
    "    \n",
    "    def __init__(self):\n",
    "        super(TinyModel, self).__init__()\n",
    "        \n",
    "        self.linear1 = torch.nn.Linear(100, 200)\n",
    "        self.activation = torch.nn.ReLU()\n",
    "        self.linear2 = torch.nn.Linear(200, 10)\n",
    "        self.softmax = torch.nn.Softmax()\n",
    "    \n",
    "    def forward(self, x):\n",
    "        x = self.linear1(x)\n",
    "        x = self.activation(x)\n",
    "        x = self.linear2(x)\n",
    "        x = self.softmax(x)\n",
    "        return x"
   ]
  },
  {
   "cell_type": "markdown",
   "metadata": {},
   "source": [
    "This shows the fundamental structure of a PyTorch model: there is an\n",
    "`` __init__()`` method that defines the layers and other components of a\n",
    "model, and a ``forward()`` method where the computation gets done."
   ]
  },
  {
   "cell_type": "markdown",
   "metadata": {},
   "source": [
    "### EXERCISE: create an instance of it and ask it to report on its parameters\n",
    "\n",
    "You can print the model, or any of its submodules, to learn about\n",
    "its structure"
   ]
  },
  {
   "cell_type": "code",
   "execution_count": 6,
   "metadata": {},
   "outputs": [
    {
     "name": "stdout",
     "output_type": "stream",
     "text": [
      "The model:\n",
      "TinyModel(\n",
      "  (linear1): Linear(in_features=100, out_features=200, bias=True)\n",
      "  (activation): ReLU()\n",
      "  (linear2): Linear(in_features=200, out_features=10, bias=True)\n",
      "  (softmax): Softmax(dim=None)\n",
      ")\n",
      "\n",
      "\n",
      "Just one layer:\n",
      "Linear(in_features=200, out_features=10, bias=True)\n",
      "\n",
      "\n",
      "Model params:\n",
      "Parameter containing:\n",
      "tensor([[-0.0736, -0.0023, -0.0267,  ..., -0.0019, -0.0361,  0.0325],\n",
      "        [-0.0105,  0.0442,  0.0950,  ...,  0.0156, -0.0942, -0.0199],\n",
      "        [-0.0357,  0.0251, -0.0690,  ..., -0.0732, -0.0215, -0.0945],\n",
      "        ...,\n",
      "        [ 0.0882, -0.0652, -0.0024,  ..., -0.0236, -0.0484, -0.0670],\n",
      "        [-0.0731,  0.0219,  0.0312,  ..., -0.0835, -0.0183, -0.0921],\n",
      "        [ 0.0605,  0.0670,  0.0746,  ..., -0.0120,  0.0307,  0.0406]],\n",
      "       requires_grad=True)\n",
      "Parameter containing:\n",
      "tensor([ 3.4916e-02,  3.7676e-02,  5.4920e-02, -7.7045e-02, -3.7277e-02,\n",
      "        -2.5462e-02, -1.0615e-02, -4.3839e-02, -9.4245e-02, -2.5768e-02,\n",
      "         2.1719e-02, -8.9354e-02,  7.0671e-02, -6.4426e-02, -9.8100e-02,\n",
      "         7.8006e-02, -7.8343e-02,  5.9357e-02,  8.0460e-02,  2.7920e-02,\n",
      "        -9.0810e-02,  2.6395e-02,  7.2058e-02,  5.8933e-02, -4.4146e-02,\n",
      "         6.5449e-02,  3.9297e-02, -8.3171e-02,  2.4871e-02,  4.6005e-02,\n",
      "         2.4939e-02, -8.7014e-02, -6.4193e-02,  8.4247e-02,  3.1358e-02,\n",
      "        -7.4363e-03, -3.7849e-05,  7.9031e-02,  6.1355e-02,  7.0488e-02,\n",
      "        -1.1613e-02,  4.0637e-02, -8.3659e-02, -4.0005e-02,  7.8593e-02,\n",
      "        -8.2772e-02, -1.8764e-02,  9.4829e-02,  4.2258e-02,  1.5073e-02,\n",
      "         4.8807e-02, -8.1761e-02,  9.0139e-02, -7.1207e-04,  5.8072e-02,\n",
      "         4.2732e-02, -1.1703e-02,  1.5080e-02, -7.5338e-02, -6.6489e-02,\n",
      "        -2.2464e-02, -2.2443e-02, -6.0566e-03, -6.3906e-03,  9.9168e-03,\n",
      "         2.5156e-02,  4.7143e-02, -7.7448e-02, -1.2750e-02, -1.1573e-02,\n",
      "        -4.8146e-02,  3.1351e-02, -7.5075e-02,  1.7926e-02,  4.9726e-02,\n",
      "        -6.3458e-02,  1.8006e-02, -4.1537e-02, -5.4911e-02, -2.6060e-02,\n",
      "         5.9782e-02,  1.8979e-02, -1.6035e-02, -7.4342e-02, -9.1165e-02,\n",
      "         6.7179e-02,  7.4757e-02,  3.6928e-02, -6.4051e-02, -2.8374e-02,\n",
      "        -4.6243e-02, -1.3365e-02,  5.0498e-02,  1.0771e-02, -9.4948e-02,\n",
      "        -9.1431e-02,  1.7107e-02,  8.1164e-02,  8.6783e-02, -3.5872e-02,\n",
      "        -2.5633e-02, -8.2544e-02,  9.6238e-03, -7.7397e-02, -8.2638e-02,\n",
      "        -2.3187e-02,  9.4485e-02,  3.6734e-02,  2.2782e-02, -7.4413e-02,\n",
      "         1.1588e-02, -2.8349e-02, -4.6140e-02, -1.5473e-02,  4.6771e-02,\n",
      "         7.4223e-02, -4.9663e-02,  7.7299e-02,  7.9834e-02, -4.1276e-02,\n",
      "        -8.9645e-06, -4.3973e-02,  6.7987e-02,  3.3883e-02,  5.7343e-02,\n",
      "         1.8519e-03, -2.4536e-02, -5.6044e-02,  8.6876e-02,  6.0552e-02,\n",
      "         6.5945e-02, -5.5744e-02,  1.1913e-02, -3.8773e-02,  4.1826e-02,\n",
      "         1.6158e-02, -6.5117e-03,  7.9849e-02,  9.8657e-02,  2.1196e-02,\n",
      "        -3.0024e-02, -7.5645e-03, -3.3017e-02,  4.4649e-02, -6.2085e-03,\n",
      "        -4.7927e-02,  4.0170e-02, -1.6450e-02,  4.5927e-02,  9.9143e-02,\n",
      "         1.2641e-04,  4.5089e-04,  2.6598e-02, -4.1633e-02,  7.3155e-02,\n",
      "         6.9885e-03,  8.4967e-02, -6.1078e-02, -4.1555e-02,  3.9827e-02,\n",
      "         9.7093e-02, -6.4404e-02,  2.1372e-02,  8.6892e-02,  2.9640e-02,\n",
      "        -5.0174e-02,  3.1643e-02, -9.5597e-02,  9.5900e-02, -8.2948e-03,\n",
      "        -4.1939e-02, -5.4195e-02,  6.9119e-02, -2.1559e-02,  1.3677e-02,\n",
      "         8.8915e-03,  1.4299e-02,  5.5591e-02, -6.6925e-02,  7.2257e-02,\n",
      "        -2.1380e-03, -7.9875e-02, -6.9245e-02,  6.3541e-02, -4.3073e-02,\n",
      "         7.8153e-02,  7.9781e-02,  8.3050e-02,  6.4498e-02, -7.1965e-02,\n",
      "         3.0542e-02,  7.3608e-02, -8.8886e-02, -8.5844e-02,  3.7794e-02,\n",
      "         9.4867e-02,  9.0501e-02, -5.7153e-02,  4.5648e-02, -6.0586e-02],\n",
      "       requires_grad=True)\n",
      "Parameter containing:\n",
      "tensor([[ 0.0612, -0.0319, -0.0344,  ...,  0.0359, -0.0447,  0.0530],\n",
      "        [-0.0351, -0.0217, -0.0346,  ..., -0.0138, -0.0353, -0.0004],\n",
      "        [-0.0388, -0.0433, -0.0671,  ...,  0.0194, -0.0598,  0.0629],\n",
      "        ...,\n",
      "        [-0.0090, -0.0247, -0.0211,  ...,  0.0451, -0.0178,  0.0154],\n",
      "        [-0.0107, -0.0678, -0.0468,  ...,  0.0254,  0.0315, -0.0351],\n",
      "        [ 0.0410,  0.0388,  0.0669,  ...,  0.0369,  0.0448, -0.0358]],\n",
      "       requires_grad=True)\n",
      "Parameter containing:\n",
      "tensor([-0.0121, -0.0572,  0.0213, -0.0188, -0.0556, -0.0276,  0.0594,  0.0605,\n",
      "        -0.0484, -0.0472], requires_grad=True)\n",
      "\n",
      "\n",
      "Layer params:\n",
      "Parameter containing:\n",
      "tensor([[ 0.0612, -0.0319, -0.0344,  ...,  0.0359, -0.0447,  0.0530],\n",
      "        [-0.0351, -0.0217, -0.0346,  ..., -0.0138, -0.0353, -0.0004],\n",
      "        [-0.0388, -0.0433, -0.0671,  ...,  0.0194, -0.0598,  0.0629],\n",
      "        ...,\n",
      "        [-0.0090, -0.0247, -0.0211,  ...,  0.0451, -0.0178,  0.0154],\n",
      "        [-0.0107, -0.0678, -0.0468,  ...,  0.0254,  0.0315, -0.0351],\n",
      "        [ 0.0410,  0.0388,  0.0669,  ...,  0.0369,  0.0448, -0.0358]],\n",
      "       requires_grad=True)\n",
      "Parameter containing:\n",
      "tensor([-0.0121, -0.0572,  0.0213, -0.0188, -0.0556, -0.0276,  0.0594,  0.0605,\n",
      "        -0.0484, -0.0472], requires_grad=True)\n"
     ]
    }
   ],
   "source": [
    "# YOUR CODE HERE\n",
    "tinymodel = TinyModel()\n",
    "\n",
    "print('The model:')\n",
    "print(tinymodel)\n",
    "\n",
    "print('\\n\\nJust one layer:')\n",
    "print(tinymodel.linear2)\n",
    "\n",
    "print('\\n\\nModel params:')\n",
    "for param in tinymodel.parameters():\n",
    "    print(param)\n",
    "\n",
    "print('\\n\\nLayer params:')\n",
    "for param in tinymodel.linear2.parameters():\n",
    "    print(param)"
   ]
  },
  {
   "cell_type": "markdown",
   "metadata": {},
   "source": [
    "\n",
    "## Data Manipulation Layers and Functions\n",
    "Until now we looked at linear layers. In the next lessons we will study convolutional and recurrent layers.\n",
    "\n",
    "However there are other layer types that perform important functions in models,\n",
    "but don’t participate in the learning process themselves.\n",
    "### Data Manipulation Layers\n",
    "**Normalization layers** re-center and normalize the output of one layer\n",
    "before feeding it to another. Centering the and scaling the intermediate\n",
    "tensors has a number of beneficial effects, such as letting you use\n",
    "higher learning rates without exploding/vanishing gradients.\n",
    "\n"
   ]
  },
  {
   "cell_type": "code",
   "execution_count": 7,
   "metadata": {},
   "outputs": [
    {
     "name": "stdout",
     "output_type": "stream",
     "text": [
      "tensor([[[16.5197, 24.8638, 23.9220, 16.0693],\n",
      "         [16.6390, 11.0045, 16.8072,  9.7922],\n",
      "         [16.2298, 12.9146,  5.7717,  7.6408],\n",
      "         [13.9772,  7.2556, 24.4991, 12.5563]]])\n",
      "tensor(14.7789)\n",
      "tensor([[[-0.9405,  1.1117,  0.8800, -1.0513],\n",
      "         [ 0.9644, -0.8009,  1.0171, -1.1807],\n",
      "         [ 1.3449,  0.5474, -1.1710, -0.7213],\n",
      "         [-0.0951, -1.1697,  1.5871, -0.3223]]],\n",
      "       grad_fn=<NativeBatchNormBackward0>)\n",
      "tensor(3.7253e-08, grad_fn=<MeanBackward0>)\n"
     ]
    }
   ],
   "source": [
    "my_tensor = torch.rand(1, 4, 4) * 20 + 5\n",
    "print(my_tensor)\n",
    "\n",
    "print(my_tensor.mean())\n",
    "\n",
    "norm_layer = torch.nn.BatchNorm1d(4)\n",
    "normed_tensor = norm_layer(my_tensor)\n",
    "print(normed_tensor)\n",
    "\n",
    "print(normed_tensor.mean())"
   ]
  },
  {
   "cell_type": "markdown",
   "metadata": {},
   "source": [
    "Running the cell above, we’ve added a large scaling factor and offset to\n",
    "an input tensor; you should see the input tensor’s ``mean()`` somewhere\n",
    "in the neighborhood of 15. After running it through the normalization\n",
    "layer, you can see that the values are smaller, and grouped around zero\n",
    "- in fact, the mean should be very small (< 1e-8).\n",
    "\n",
    "This is beneficial because many activation functions (discussed below)\n",
    "have their strongest gradients near 0, but sometimes suffer from\n",
    "vanishing or exploding gradients for inputs that drive them far away\n",
    "from zero. Keeping the data centered around the area of steepest\n",
    "gradient will tend to mean faster, better learning and higher feasible\n",
    "learning rates.\n",
    "\n",
    "**Dropout layers** are a tool for encouraging *sparse representations*\n",
    "in your model - that is, pushing it to do inference with less data.\n",
    "\n",
    "Dropout layers work by randomly setting parts of the input tensor to zero\n",
    "*during training* - dropout layers are always turned off for inference.\n",
    "This forces the model to learn against this masked or reduced dataset.\n",
    "For example:\n",
    "\n",
    "\n"
   ]
  },
  {
   "cell_type": "code",
   "execution_count": 8,
   "metadata": {},
   "outputs": [
    {
     "name": "stdout",
     "output_type": "stream",
     "text": [
      "tensor([[[0.0000, 0.0000, 0.6719, 0.0000],\n",
      "         [0.7051, 0.3668, 0.6258, 0.8969],\n",
      "         [0.2865, 0.5560, 0.4910, 0.0000],\n",
      "         [1.3266, 0.6856, 0.0000, 1.5237]]])\n",
      "tensor([[[1.2388, 0.0536, 0.6719, 1.3306],\n",
      "         [0.0000, 0.0000, 0.0000, 0.0000],\n",
      "         [0.0000, 0.5560, 0.0000, 0.0786],\n",
      "         [0.0000, 0.6856, 0.8308, 0.0000]]])\n"
     ]
    }
   ],
   "source": [
    "my_tensor = torch.rand(1, 4, 4)\n",
    "\n",
    "dropout = torch.nn.Dropout(p=0.4)\n",
    "print(dropout(my_tensor))\n",
    "print(dropout(my_tensor))"
   ]
  },
  {
   "cell_type": "markdown",
   "metadata": {},
   "source": [
    "Above, you can see the effect of dropout on a sample tensor. You can use\n",
    "the optional ``p`` argument to set the probability of an individual\n",
    "weight dropping out; if you don’t it defaults to 0.5.\n",
    "\n",
    "### Activation Functions\n",
    "\n",
    "Activation functions make deep learning possible. A neural network is\n",
    "really a program - with many parameters - that *simulates a mathematical\n",
    "function*. If all we did was multiple tensors by layer weights\n",
    "repeatedly, we could only simulate *linear functions;* further, there\n",
    "would be no point to having many layers, as the whole network would\n",
    "reduce could be reduced to a single matrix multiplication. Inserting\n",
    "*non-linear* activation functions between layers is what allows a deep\n",
    "learning model to simulate any function, rather than just linear ones.\n",
    "\n",
    "``torch.nn.Module`` has objects encapsulating all of the major\n",
    "activation functions including ReLU and its many variants, Tanh,\n",
    "Hardtanh, sigmoid, and more. It also includes other functions, such as\n",
    "Softmax, that are most useful at the output stage of a model.\n",
    "\n",
    "### Loss Functions\n",
    "\n",
    "Loss functions tell us how far a model’s prediction is from the correct\n",
    "answer. PyTorch contains a variety of loss functions, including common\n",
    "MSE (mean squared error = L2 norm), Cross Entropy Loss and Negative\n",
    "Likelihood Loss (useful for classifiers), and others.\n",
    "\n",
    "\n",
    "## The sequential module\n",
    "\n",
    "The sequential module is, one of the classes that are used to create the PyTorch neural networks without any explicit class. Basically, the sequential module is a container or we can say that the wrapper class is used to extend the nn modules. \n",
    "\n",
    "In the sequential container, modules will be added to it in the request they be passed in the constructor. \n",
    "\n",
    "Let us look to an example: as usual we define our neural network by subclassing ``nn.Module``, and\n",
    "initialize the neural network layers in ``__init__``. Every ``nn.Module`` subclass implements\n",
    "the operations on input data in the ``forward`` method.\n",
    "\n",
    "Modules are concatenated using the ``nn.Sequential`` container."
   ]
  },
  {
   "cell_type": "code",
   "execution_count": 9,
   "metadata": {},
   "outputs": [],
   "source": [
    "class NeuralNetwork(nn.Module):\n",
    "    def __init__(self):\n",
    "        super(NeuralNetwork, self).__init__()\n",
    "        self.flatten = nn.Flatten()\n",
    "        self.linear_relu_stack = nn.Sequential(\n",
    "            nn.Linear(28*28, 512),\n",
    "            nn.ReLU(),\n",
    "            nn.Linear(512, 512),\n",
    "            nn.ReLU(),\n",
    "            nn.Linear(512, 10),\n",
    "        )\n",
    "\n",
    "    def forward(self, x):\n",
    "        x = self.flatten(x)\n",
    "        output = self.linear_relu_stack(x)\n",
    "        return output"
   ]
  },
  {
   "cell_type": "code",
   "execution_count": 10,
   "metadata": {},
   "outputs": [
    {
     "name": "stdout",
     "output_type": "stream",
     "text": [
      "NeuralNetwork(\n",
      "  (flatten): Flatten(start_dim=1, end_dim=-1)\n",
      "  (linear_relu_stack): Sequential(\n",
      "    (0): Linear(in_features=784, out_features=512, bias=True)\n",
      "    (1): ReLU()\n",
      "    (2): Linear(in_features=512, out_features=512, bias=True)\n",
      "    (3): ReLU()\n",
      "    (4): Linear(in_features=512, out_features=10, bias=True)\n",
      "  )\n",
      ")\n"
     ]
    }
   ],
   "source": [
    "model = NeuralNetwork()\n",
    "print(model)"
   ]
  },
  {
   "cell_type": "markdown",
   "metadata": {},
   "source": [
    "### EXERCISE: use the sequential module to build a feedforward network\n",
    "The network should be as follows:\n",
    "1. It should comprise 10 hidden layers\n",
    "2. Each hidden layer shuold have a different number os units\n",
    "3. For each hidden layer the activation function should be the rectified linear unit function\n",
    "4. The activation of the output layer should be the softmax function (this replaces the sigmoid function when dealing with a multiclass classification problem)."
   ]
  },
  {
   "cell_type": "code",
   "execution_count": 11,
   "metadata": {},
   "outputs": [],
   "source": [
    "# YOUR CODE HERE\n",
    "class NetworkSequential(nn.Module):\n",
    "    def __init__(self, layers_sizes, output_size):\n",
    "        super(NetworkSequential,self).__init__()\n",
    "        self.deep_net = nn.Sequential()\n",
    "        for i_layer, _ in enumerate(layers_sizes[:-1]):\n",
    "            self.deep_net.add_module(f'linear{i_layer+1}', nn.Linear(layers_sizes[i_layer], layers_sizes[i_layer+1]))\n",
    "            self.deep_net.add_module(f'activation{i_layer+1}', nn.ReLU())\n",
    "        self.deep_net.add_module(f'classifier', nn.Linear(layers_sizes[-1], output_size))\n",
    "        \n",
    "    def forward(self, x):\n",
    "        x = self.deep_net(x)        \n",
    "        return x"
   ]
  },
  {
   "cell_type": "code",
   "execution_count": 12,
   "metadata": {},
   "outputs": [
    {
     "name": "stdout",
     "output_type": "stream",
     "text": [
      "[1000, 666, 444, 296, 197, 131, 87, 58, 39, 26, 17]\n"
     ]
    }
   ],
   "source": [
    "output_size = 10\n",
    "input_size = 1000\n",
    "n_hidden = 10\n",
    "layers_sizes = [int(input_size / 1.5**i) for i in range(n_hidden+1)]\n",
    "print(layers_sizes)\n",
    "mynetwork = NetworkSequential(layers_sizes, output_size)"
   ]
  },
  {
   "cell_type": "code",
   "execution_count": 13,
   "metadata": {},
   "outputs": [
    {
     "name": "stdout",
     "output_type": "stream",
     "text": [
      "NetworkSequential(\n",
      "  (deep_net): Sequential(\n",
      "    (linear1): Linear(in_features=1000, out_features=666, bias=True)\n",
      "    (activation1): ReLU()\n",
      "    (linear2): Linear(in_features=666, out_features=444, bias=True)\n",
      "    (activation2): ReLU()\n",
      "    (linear3): Linear(in_features=444, out_features=296, bias=True)\n",
      "    (activation3): ReLU()\n",
      "    (linear4): Linear(in_features=296, out_features=197, bias=True)\n",
      "    (activation4): ReLU()\n",
      "    (linear5): Linear(in_features=197, out_features=131, bias=True)\n",
      "    (activation5): ReLU()\n",
      "    (linear6): Linear(in_features=131, out_features=87, bias=True)\n",
      "    (activation6): ReLU()\n",
      "    (linear7): Linear(in_features=87, out_features=58, bias=True)\n",
      "    (activation7): ReLU()\n",
      "    (linear8): Linear(in_features=58, out_features=39, bias=True)\n",
      "    (activation8): ReLU()\n",
      "    (linear9): Linear(in_features=39, out_features=26, bias=True)\n",
      "    (activation9): ReLU()\n",
      "    (linear10): Linear(in_features=26, out_features=17, bias=True)\n",
      "    (activation10): ReLU()\n",
      "    (classifier): Linear(in_features=17, out_features=10, bias=True)\n",
      "  )\n",
      ")\n"
     ]
    }
   ],
   "source": [
    "print(mynetwork)"
   ]
  },
  {
   "cell_type": "code",
   "execution_count": 14,
   "metadata": {},
   "outputs": [
    {
     "ename": "NameError",
     "evalue": "name 'OrderedDict' is not defined",
     "output_type": "error",
     "traceback": [
      "\u001b[0;31m---------------------------------------------------------------------------\u001b[0m",
      "\u001b[0;31mNameError\u001b[0m                                 Traceback (most recent call last)",
      "Cell \u001b[0;32mIn[14], line 1\u001b[0m\n\u001b[0;32m----> 1\u001b[0m model \u001b[38;5;241m=\u001b[39m nn\u001b[38;5;241m.\u001b[39mSequential(\u001b[43mOrderedDict\u001b[49m([\n\u001b[1;32m      2\u001b[0m           (\u001b[38;5;124m'\u001b[39m\u001b[38;5;124mconv1\u001b[39m\u001b[38;5;124m'\u001b[39m, nn\u001b[38;5;241m.\u001b[39mConv2d(\u001b[38;5;241m1\u001b[39m,\u001b[38;5;241m20\u001b[39m,\u001b[38;5;241m5\u001b[39m)),\n\u001b[1;32m      3\u001b[0m           (\u001b[38;5;124m'\u001b[39m\u001b[38;5;124mrelu1\u001b[39m\u001b[38;5;124m'\u001b[39m, nn\u001b[38;5;241m.\u001b[39mReLU()),\n\u001b[1;32m      4\u001b[0m           (\u001b[38;5;124m'\u001b[39m\u001b[38;5;124mconv2\u001b[39m\u001b[38;5;124m'\u001b[39m, nn\u001b[38;5;241m.\u001b[39mConv2d(\u001b[38;5;241m20\u001b[39m,\u001b[38;5;241m64\u001b[39m,\u001b[38;5;241m5\u001b[39m)),\n\u001b[1;32m      5\u001b[0m           (\u001b[38;5;124m'\u001b[39m\u001b[38;5;124mrelu2\u001b[39m\u001b[38;5;124m'\u001b[39m, nn\u001b[38;5;241m.\u001b[39mReLU())\n\u001b[1;32m      6\u001b[0m         ]))\n",
      "\u001b[0;31mNameError\u001b[0m: name 'OrderedDict' is not defined"
     ]
    }
   ],
   "source": [
    "model = nn.Sequential(OrderedDict([\n",
    "          ('conv1', nn.Conv2d(1,20,5)),\n",
    "          ('relu1', nn.ReLU()),\n",
    "          ('conv2', nn.Conv2d(20,64,5)),\n",
    "          ('relu2', nn.ReLU())\n",
    "        ]))"
   ]
  },
  {
   "cell_type": "code",
   "execution_count": null,
   "metadata": {},
   "outputs": [],
   "source": []
  }
 ],
 "metadata": {
  "kernelspec": {
   "display_name": "Python 3 (ipykernel)",
   "language": "python",
   "name": "python3"
  },
  "language_info": {
   "codemirror_mode": {
    "name": "ipython",
    "version": 3
   },
   "file_extension": ".py",
   "mimetype": "text/x-python",
   "name": "python",
   "nbconvert_exporter": "python",
   "pygments_lexer": "ipython3",
   "version": "3.10.12"
  }
 },
 "nbformat": 4,
 "nbformat_minor": 4
}
